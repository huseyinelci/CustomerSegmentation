{
 "cells": [
  {
   "cell_type": "markdown",
   "metadata": {},
   "source": [
    "<img src=\"https://www.bertelsmann.com/media/startseite-buehne/bertelsmann-buehne-3200-800_stage_gt_1200_grid.jpg\" width=\"100%\">"
   ]
  },
  {
   "cell_type": "markdown",
   "metadata": {
    "colab": {
     "base_uri": "https://localhost:8080/",
     "height": 776
    },
    "colab_type": "code",
    "executionInfo": {
     "elapsed": 19302,
     "status": "ok",
     "timestamp": 1595333719187,
     "user": {
      "displayName": "Var Yemez",
      "photoUrl": "https://lh3.googleusercontent.com/a-/AOh14GgMZy0d63Fhv7Z7KWvi_JY5vUQU5pKuMaCpqpY2=s64",
      "userId": "14611479774278270033"
     },
     "user_tz": 240
    },
    "id": "EogXlOmJ08M_",
    "outputId": "5eaf0446-6ad3-41e9-d4df-23d0949a9784"
   },
   "source": [
    "# PART 0: Data cleaning and Data processing"
   ]
  },
  {
   "cell_type": "markdown",
   "metadata": {
    "colab_type": "text",
    "id": "SUjQDMuQ08ND"
   },
   "source": [
    "This analysis of the **Bertelsmann-Arvato** data set will be a customer segmentation where a data set compiled with customers from a mail-order company is compared with a data set sampled from the general population of Germany.\n",
    "Data in this project provided as Bertelsmann Arvato Analytics:\n",
    "* Demographics data of customers of a mail-order sales company in Germany,\n",
    "* Was analyzed and compared against demographics information for the general population.\n",
    "#### Problem Statement\n",
    "The main question of interest is to identify segments of the population that are most likely to be customers of their products for a mail-out campaign.\n",
    "\n",
    "\n",
    "The main steps in this notebooks:\n",
    "1. [Load the datas and Import Libraries](#1) \n",
    "2. [Preprocesing the data](#2)\n",
    "3. [Feature Engineering](#3)\n",
    "4. [Conclusion](#4)."
   ]
  },
  {
   "cell_type": "markdown",
   "metadata": {
    "colab_type": "text",
    "id": "OlR_5FvB08NE"
   },
   "source": [
    "---\n",
    "<a id=\"1\"></a>\n",
    "# 1. Load the datas and Import Libraries\n",
    "\n",
    "\n",
    "#### Summary about datas\n",
    "The first step in this process is to read all the data from the different sources and check if this data have correct formats.\n",
    "\n",
    "The data and sources to read in this project are four:\n",
    "\n",
    "- **`Udacity_AZDIAS_052018.csv`**: <br>Demographics data for the general population of Germany; 891 211 persons (rows) x 366 features (columns).\n",
    "- **`Udacity_CUSTOMERS_052018.csv`**: <br>Demographics data for customers of a mail-order company; 191 652 persons (rows) x 369 features (columns).\n",
    "- **`Udacity_MAILOUT_052018_TRAIN.csv`**: <br>Demographics data for individuals who were targets of a marketing campaign; 42 982 persons (rows) x 367 (columns).\n",
    "- **`Udacity_MAILOUT_052018_TEST.csv`**:<br> Demographics data for individuals who were targets of a marketing campaign; 42 833 persons (rows) x 366 (columns).\n"
   ]
  },
  {
   "cell_type": "markdown",
   "metadata": {},
   "source": [
    "#### Choose Platform"
   ]
  },
  {
   "cell_type": "code",
   "execution_count": 5,
   "metadata": {
    "colab": {},
    "colab_type": "code",
    "executionInfo": {
     "elapsed": 43957,
     "status": "ok",
     "timestamp": 1595333743890,
     "user": {
      "displayName": "Var Yemez",
      "photoUrl": "https://lh3.googleusercontent.com/a-/AOh14GgMZy0d63Fhv7Z7KWvi_JY5vUQU5pKuMaCpqpY2=s64",
      "userId": "14611479774278270033"
     },
     "user_tz": 240
    },
    "id": "EKPkHIvZ1VXM"
   },
   "outputs": [],
   "source": [
    "use_colab=0  # When you want to use COLAB, assign 1 to use_colab\n",
    "if use_colab==1:\n",
    "    # Use Colab\n",
    "    # Connecting with Google Drive\n",
    "    from google.colab import drive\n",
    "    drive.mount('/content/drive')  \n",
    "    #drive.flush_and_unmount()   \n",
    "    \n",
    "    # Connecting to Path\n",
    "    import sys\n",
    "    sys.path.insert(0,'/content/drive/My Drive/Colab Notebooks')\n",
    "    \n",
    "    # Install Some Library\n",
    "    !pip install catboost\n",
    "    !pip install category_encoders\n",
    "    !pip install yellowbrick\n",
    "    !pip install h2o\n",
    "\n",
    "    # Files with Path of Data from Colab\n",
    "    attribute_file = '../content/drive/My Drive/Studying_Data/Last/data/DIAS Attributes - Values 2017.xlsx'\n",
    "    azdias_file = '../content/drive/My Drive/Studying_Data/Last/data/azdias.csv'\n",
    "    customers_file = '../content/drive/My Drive/Studying_Data/Last/data/customers.csv'\n",
    "    train_file = '../content/drive/My Drive/Studying_Data/Last/data/mailout_train'\n",
    "    test_file = '../content/drive/My Drive/Studying_Data/Last/data/mailout_test'\n",
    "else:\n",
    "    # Use data from My Local\n",
    "    # Files with PATH\n",
    "    attribute_file = '../Last/data/DIAS Attributes - Values 2017.xlsx'\n",
    "    azdias_file = '../Last/data/azdias.csv'\n",
    "    customers_file = '../Last/data/customers.csv'\n",
    "    train_file = '../Last/data/mailout_train'\n",
    "    test_file = '../Last/data/mailout_test'"
   ]
  },
  {
   "cell_type": "markdown",
   "metadata": {},
   "source": [
    "##### Import Libraries"
   ]
  },
  {
   "cell_type": "code",
   "execution_count": 6,
   "metadata": {
    "colab": {
     "base_uri": "https://localhost:8080/",
     "height": 70
    },
    "colab_type": "code",
    "executionInfo": {
     "elapsed": 44444,
     "status": "ok",
     "timestamp": 1595333744396,
     "user": {
      "displayName": "Var Yemez",
      "photoUrl": "https://lh3.googleusercontent.com/a-/AOh14GgMZy0d63Fhv7Z7KWvi_JY5vUQU5pKuMaCpqpY2=s64",
      "userId": "14611479774278270033"
     },
     "user_tz": 240
    },
    "id": "IlHy6vCP08NH",
    "outputId": "4f6531df-4769-4ade-e88f-b6546d08b3d5"
   },
   "outputs": [
    {
     "name": "stderr",
     "output_type": "stream",
     "text": [
      "/usr/local/lib/python3.6/dist-packages/statsmodels/tools/_testing.py:19: FutureWarning: pandas.util.testing is deprecated. Use the functions in the public API at pandas.testing instead.\n",
      "  import pandas.util.testing as tm\n"
     ]
    }
   ],
   "source": [
    "# import warnings filter\n",
    "from warnings import simplefilter\n",
    "# ignore all future warnings\n",
    "simplefilter(action='ignore', category=FutureWarning)\n",
    "\n",
    "import pandas as pd\n",
    "import numpy as np\n",
    "import sys\n",
    "import os\n",
    "\n",
    "import seaborn as sns\n",
    "import matplotlib.pyplot as plt\n",
    "\n",
    "import h2o\n",
    "from h2o.estimators.random_forest import H2ORandomForestEstimator\n",
    "from h2o.estimators.gbm import H2OGradientBoostingEstimator\n",
    "from h2o.estimators.xgboost import H2OXGBoostEstimator\n",
    "from h2o.estimators.stackedensemble import H2OStackedEnsembleEstimator\n",
    "from h2o.grid.grid_search import H2OGridSearch"
   ]
  },
  {
   "cell_type": "code",
   "execution_count": 7,
   "metadata": {
    "cellView": "code",
    "colab": {},
    "colab_type": "code",
    "executionInfo": {
     "elapsed": 46173,
     "status": "ok",
     "timestamp": 1595333746136,
     "user": {
      "displayName": "Var Yemez",
      "photoUrl": "https://lh3.googleusercontent.com/a-/AOh14GgMZy0d63Fhv7Z7KWvi_JY5vUQU5pKuMaCpqpY2=s64",
      "userId": "14611479774278270033"
     },
     "user_tz": 240
    },
    "id": "VoeEhWYp08NM"
   },
   "outputs": [],
   "source": [
    "# Import my libraries for this project\n",
    "from myutils2.utils import (attribute,\n",
    "                           row_missing_value,\n",
    "                           N_unique,\n",
    "                           report_missing_values,\n",
    "                           code_to_nan,\n",
    "                           encode_map_age,\n",
    "                           encode_df_PJ,\n",
    "                           encode_df_EIN,\n",
    "                           drop)\n",
    "seed = 29\n"
   ]
  },
  {
   "cell_type": "markdown",
   "metadata": {
    "colab_type": "text",
    "id": "OX-K5b3K08NP"
   },
   "source": [
    "<a id=\"3\"></a>\n",
    "## Loading of Datas and Overview to Datas"
   ]
  },
  {
   "cell_type": "markdown",
   "metadata": {},
   "source": [
    "#### Loading data"
   ]
  },
  {
   "cell_type": "markdown",
   "metadata": {
    "colab_type": "text",
    "id": "Cgjh3WWf08NW"
   },
   "source": [
    "Firstly, after checking data, i have seen that _**` ['X','XX'] `**_ causes problem in some features.<br> \n",
    "To fix it, defined them as **` NaN `**<br>\n",
    "\n",
    "- **`azdias`**    : I called **azdias** for demographics data for the **general population of Germany**\n",
    "- **`customers`** : I called **customers** for demographics data for **customers of a mail-order company**"
   ]
  },
  {
   "cell_type": "code",
   "execution_count": 9,
   "metadata": {
    "colab": {
     "base_uri": "https://localhost:8080/",
     "height": 392
    },
    "colab_type": "code",
    "executionInfo": {
     "elapsed": 100122,
     "status": "ok",
     "timestamp": 1595333800115,
     "user": {
      "displayName": "Var Yemez",
      "photoUrl": "https://lh3.googleusercontent.com/a-/AOh14GgMZy0d63Fhv7Z7KWvi_JY5vUQU5pKuMaCpqpY2=s64",
      "userId": "14611479774278270033"
     },
     "user_tz": 240
    },
    "id": "HZnFFe4A08NX",
    "outputId": "85f9a981-1e7d-40c7-a31d-10317726285e",
    "scrolled": false
   },
   "outputs": [
    {
     "data": {
      "text/html": [
       "<div>\n",
       "<style scoped>\n",
       "    .dataframe tbody tr th:only-of-type {\n",
       "        vertical-align: middle;\n",
       "    }\n",
       "\n",
       "    .dataframe tbody tr th {\n",
       "        vertical-align: top;\n",
       "    }\n",
       "\n",
       "    .dataframe thead th {\n",
       "        text-align: right;\n",
       "    }\n",
       "</style>\n",
       "<table border=\"1\" class=\"dataframe\">\n",
       "  <thead>\n",
       "    <tr style=\"text-align: right;\">\n",
       "      <th></th>\n",
       "      <th>AGER_TYP</th>\n",
       "      <th>AKT_DAT_KL</th>\n",
       "      <th>ALTER_HH</th>\n",
       "      <th>ALTER_KIND1</th>\n",
       "      <th>ALTER_KIND2</th>\n",
       "      <th>ALTER_KIND3</th>\n",
       "      <th>ALTER_KIND4</th>\n",
       "      <th>ALTERSKATEGORIE_FEIN</th>\n",
       "      <th>ANZ_HAUSHALTE_AKTIV</th>\n",
       "      <th>ANZ_HH_TITEL</th>\n",
       "      <th>ANZ_KINDER</th>\n",
       "      <th>ANZ_PERSONEN</th>\n",
       "      <th>ANZ_STATISTISCHE_HAUSHALTE</th>\n",
       "      <th>ANZ_TITEL</th>\n",
       "      <th>ARBEIT</th>\n",
       "      <th>BALLRAUM</th>\n",
       "      <th>CAMEO_DEU_2015</th>\n",
       "      <th>CAMEO_DEUG_2015</th>\n",
       "      <th>CAMEO_INTL_2015</th>\n",
       "      <th>CJT_GESAMTTYP</th>\n",
       "      <th>CJT_KATALOGNUTZER</th>\n",
       "      <th>CJT_TYP_1</th>\n",
       "      <th>CJT_TYP_2</th>\n",
       "      <th>CJT_TYP_3</th>\n",
       "      <th>CJT_TYP_4</th>\n",
       "      <th>CJT_TYP_5</th>\n",
       "      <th>CJT_TYP_6</th>\n",
       "      <th>D19_BANKEN_ANZ_12</th>\n",
       "      <th>D19_BANKEN_ANZ_24</th>\n",
       "      <th>D19_BANKEN_DATUM</th>\n",
       "      <th>D19_BANKEN_DIREKT</th>\n",
       "      <th>D19_BANKEN_GROSS</th>\n",
       "      <th>D19_BANKEN_LOKAL</th>\n",
       "      <th>D19_BANKEN_OFFLINE_DATUM</th>\n",
       "      <th>D19_BANKEN_ONLINE_DATUM</th>\n",
       "      <th>D19_BANKEN_ONLINE_QUOTE_12</th>\n",
       "      <th>D19_BANKEN_REST</th>\n",
       "      <th>D19_BEKLEIDUNG_GEH</th>\n",
       "      <th>D19_BEKLEIDUNG_REST</th>\n",
       "      <th>D19_BILDUNG</th>\n",
       "      <th>...</th>\n",
       "      <th>REGIOTYP</th>\n",
       "      <th>RELAT_AB</th>\n",
       "      <th>RETOURTYP_BK_S</th>\n",
       "      <th>RT_KEIN_ANREIZ</th>\n",
       "      <th>RT_SCHNAEPPCHEN</th>\n",
       "      <th>RT_UEBERGROESSE</th>\n",
       "      <th>SEMIO_DOM</th>\n",
       "      <th>SEMIO_ERL</th>\n",
       "      <th>SEMIO_FAM</th>\n",
       "      <th>SEMIO_KAEM</th>\n",
       "      <th>SEMIO_KRIT</th>\n",
       "      <th>SEMIO_KULT</th>\n",
       "      <th>SEMIO_LUST</th>\n",
       "      <th>SEMIO_MAT</th>\n",
       "      <th>SEMIO_PFLICHT</th>\n",
       "      <th>SEMIO_RAT</th>\n",
       "      <th>SEMIO_REL</th>\n",
       "      <th>SEMIO_SOZ</th>\n",
       "      <th>SEMIO_TRADV</th>\n",
       "      <th>SEMIO_VERT</th>\n",
       "      <th>SHOPPER_TYP</th>\n",
       "      <th>SOHO_KZ</th>\n",
       "      <th>STRUKTURTYP</th>\n",
       "      <th>TITEL_KZ</th>\n",
       "      <th>UMFELD_ALT</th>\n",
       "      <th>UMFELD_JUNG</th>\n",
       "      <th>UNGLEICHENN_FLAG</th>\n",
       "      <th>VERDICHTUNGSRAUM</th>\n",
       "      <th>VERS_TYP</th>\n",
       "      <th>VHA</th>\n",
       "      <th>VHN</th>\n",
       "      <th>VK_DHT4A</th>\n",
       "      <th>VK_DISTANZ</th>\n",
       "      <th>VK_ZG11</th>\n",
       "      <th>W_KEIT_KIND_HH</th>\n",
       "      <th>WOHNDAUER_2008</th>\n",
       "      <th>WOHNLAGE</th>\n",
       "      <th>ZABEOTYP</th>\n",
       "      <th>ANREDE_KZ</th>\n",
       "      <th>ALTERSKATEGORIE_GROB</th>\n",
       "    </tr>\n",
       "    <tr>\n",
       "      <th>LNR</th>\n",
       "      <th></th>\n",
       "      <th></th>\n",
       "      <th></th>\n",
       "      <th></th>\n",
       "      <th></th>\n",
       "      <th></th>\n",
       "      <th></th>\n",
       "      <th></th>\n",
       "      <th></th>\n",
       "      <th></th>\n",
       "      <th></th>\n",
       "      <th></th>\n",
       "      <th></th>\n",
       "      <th></th>\n",
       "      <th></th>\n",
       "      <th></th>\n",
       "      <th></th>\n",
       "      <th></th>\n",
       "      <th></th>\n",
       "      <th></th>\n",
       "      <th></th>\n",
       "      <th></th>\n",
       "      <th></th>\n",
       "      <th></th>\n",
       "      <th></th>\n",
       "      <th></th>\n",
       "      <th></th>\n",
       "      <th></th>\n",
       "      <th></th>\n",
       "      <th></th>\n",
       "      <th></th>\n",
       "      <th></th>\n",
       "      <th></th>\n",
       "      <th></th>\n",
       "      <th></th>\n",
       "      <th></th>\n",
       "      <th></th>\n",
       "      <th></th>\n",
       "      <th></th>\n",
       "      <th></th>\n",
       "      <th></th>\n",
       "      <th></th>\n",
       "      <th></th>\n",
       "      <th></th>\n",
       "      <th></th>\n",
       "      <th></th>\n",
       "      <th></th>\n",
       "      <th></th>\n",
       "      <th></th>\n",
       "      <th></th>\n",
       "      <th></th>\n",
       "      <th></th>\n",
       "      <th></th>\n",
       "      <th></th>\n",
       "      <th></th>\n",
       "      <th></th>\n",
       "      <th></th>\n",
       "      <th></th>\n",
       "      <th></th>\n",
       "      <th></th>\n",
       "      <th></th>\n",
       "      <th></th>\n",
       "      <th></th>\n",
       "      <th></th>\n",
       "      <th></th>\n",
       "      <th></th>\n",
       "      <th></th>\n",
       "      <th></th>\n",
       "      <th></th>\n",
       "      <th></th>\n",
       "      <th></th>\n",
       "      <th></th>\n",
       "      <th></th>\n",
       "      <th></th>\n",
       "      <th></th>\n",
       "      <th></th>\n",
       "      <th></th>\n",
       "      <th></th>\n",
       "      <th></th>\n",
       "      <th></th>\n",
       "      <th></th>\n",
       "    </tr>\n",
       "  </thead>\n",
       "  <tbody>\n",
       "    <tr>\n",
       "      <th>910215</th>\n",
       "      <td>-1</td>\n",
       "      <td>NaN</td>\n",
       "      <td>NaN</td>\n",
       "      <td>NaN</td>\n",
       "      <td>NaN</td>\n",
       "      <td>NaN</td>\n",
       "      <td>NaN</td>\n",
       "      <td>NaN</td>\n",
       "      <td>NaN</td>\n",
       "      <td>NaN</td>\n",
       "      <td>NaN</td>\n",
       "      <td>NaN</td>\n",
       "      <td>NaN</td>\n",
       "      <td>NaN</td>\n",
       "      <td>NaN</td>\n",
       "      <td>NaN</td>\n",
       "      <td>NaN</td>\n",
       "      <td>NaN</td>\n",
       "      <td>NaN</td>\n",
       "      <td>2.0</td>\n",
       "      <td>5.0</td>\n",
       "      <td>1.0</td>\n",
       "      <td>1.0</td>\n",
       "      <td>5.0</td>\n",
       "      <td>5.0</td>\n",
       "      <td>5.0</td>\n",
       "      <td>5.0</td>\n",
       "      <td>0</td>\n",
       "      <td>0</td>\n",
       "      <td>10</td>\n",
       "      <td>0</td>\n",
       "      <td>0</td>\n",
       "      <td>0</td>\n",
       "      <td>10</td>\n",
       "      <td>10</td>\n",
       "      <td>NaN</td>\n",
       "      <td>0</td>\n",
       "      <td>0</td>\n",
       "      <td>0</td>\n",
       "      <td>0</td>\n",
       "      <td>...</td>\n",
       "      <td>NaN</td>\n",
       "      <td>NaN</td>\n",
       "      <td>5.0</td>\n",
       "      <td>1.0</td>\n",
       "      <td>4.0</td>\n",
       "      <td>1.0</td>\n",
       "      <td>6</td>\n",
       "      <td>3</td>\n",
       "      <td>6</td>\n",
       "      <td>6</td>\n",
       "      <td>7</td>\n",
       "      <td>3</td>\n",
       "      <td>5</td>\n",
       "      <td>5</td>\n",
       "      <td>5</td>\n",
       "      <td>4</td>\n",
       "      <td>7</td>\n",
       "      <td>2</td>\n",
       "      <td>3</td>\n",
       "      <td>1</td>\n",
       "      <td>-1</td>\n",
       "      <td>NaN</td>\n",
       "      <td>NaN</td>\n",
       "      <td>NaN</td>\n",
       "      <td>NaN</td>\n",
       "      <td>NaN</td>\n",
       "      <td>NaN</td>\n",
       "      <td>NaN</td>\n",
       "      <td>-1</td>\n",
       "      <td>NaN</td>\n",
       "      <td>NaN</td>\n",
       "      <td>NaN</td>\n",
       "      <td>NaN</td>\n",
       "      <td>NaN</td>\n",
       "      <td>NaN</td>\n",
       "      <td>NaN</td>\n",
       "      <td>NaN</td>\n",
       "      <td>3</td>\n",
       "      <td>1</td>\n",
       "      <td>2</td>\n",
       "    </tr>\n",
       "    <tr>\n",
       "      <th>910220</th>\n",
       "      <td>-1</td>\n",
       "      <td>9.0</td>\n",
       "      <td>0.0</td>\n",
       "      <td>NaN</td>\n",
       "      <td>NaN</td>\n",
       "      <td>NaN</td>\n",
       "      <td>NaN</td>\n",
       "      <td>21.0</td>\n",
       "      <td>11.0</td>\n",
       "      <td>0.0</td>\n",
       "      <td>0.0</td>\n",
       "      <td>2.0</td>\n",
       "      <td>12.0</td>\n",
       "      <td>0.0</td>\n",
       "      <td>3.0</td>\n",
       "      <td>6.0</td>\n",
       "      <td>8A</td>\n",
       "      <td>8.0</td>\n",
       "      <td>51.0</td>\n",
       "      <td>5.0</td>\n",
       "      <td>1.0</td>\n",
       "      <td>5.0</td>\n",
       "      <td>5.0</td>\n",
       "      <td>2.0</td>\n",
       "      <td>3.0</td>\n",
       "      <td>1.0</td>\n",
       "      <td>1.0</td>\n",
       "      <td>0</td>\n",
       "      <td>0</td>\n",
       "      <td>10</td>\n",
       "      <td>0</td>\n",
       "      <td>0</td>\n",
       "      <td>0</td>\n",
       "      <td>10</td>\n",
       "      <td>10</td>\n",
       "      <td>NaN</td>\n",
       "      <td>0</td>\n",
       "      <td>0</td>\n",
       "      <td>0</td>\n",
       "      <td>0</td>\n",
       "      <td>...</td>\n",
       "      <td>3.0</td>\n",
       "      <td>4.0</td>\n",
       "      <td>1.0</td>\n",
       "      <td>5.0</td>\n",
       "      <td>3.0</td>\n",
       "      <td>5.0</td>\n",
       "      <td>7</td>\n",
       "      <td>2</td>\n",
       "      <td>4</td>\n",
       "      <td>4</td>\n",
       "      <td>4</td>\n",
       "      <td>3</td>\n",
       "      <td>2</td>\n",
       "      <td>3</td>\n",
       "      <td>7</td>\n",
       "      <td>6</td>\n",
       "      <td>4</td>\n",
       "      <td>5</td>\n",
       "      <td>6</td>\n",
       "      <td>1</td>\n",
       "      <td>3</td>\n",
       "      <td>1.0</td>\n",
       "      <td>2.0</td>\n",
       "      <td>0.0</td>\n",
       "      <td>3.0</td>\n",
       "      <td>3.0</td>\n",
       "      <td>1.0</td>\n",
       "      <td>0.0</td>\n",
       "      <td>2</td>\n",
       "      <td>0.0</td>\n",
       "      <td>4.0</td>\n",
       "      <td>8.0</td>\n",
       "      <td>11.0</td>\n",
       "      <td>10.0</td>\n",
       "      <td>3.0</td>\n",
       "      <td>9.0</td>\n",
       "      <td>4.0</td>\n",
       "      <td>5</td>\n",
       "      <td>2</td>\n",
       "      <td>1</td>\n",
       "    </tr>\n",
       "    <tr>\n",
       "      <th>910225</th>\n",
       "      <td>-1</td>\n",
       "      <td>9.0</td>\n",
       "      <td>17.0</td>\n",
       "      <td>NaN</td>\n",
       "      <td>NaN</td>\n",
       "      <td>NaN</td>\n",
       "      <td>NaN</td>\n",
       "      <td>17.0</td>\n",
       "      <td>10.0</td>\n",
       "      <td>0.0</td>\n",
       "      <td>0.0</td>\n",
       "      <td>1.0</td>\n",
       "      <td>7.0</td>\n",
       "      <td>0.0</td>\n",
       "      <td>3.0</td>\n",
       "      <td>2.0</td>\n",
       "      <td>4C</td>\n",
       "      <td>4.0</td>\n",
       "      <td>24.0</td>\n",
       "      <td>3.0</td>\n",
       "      <td>2.0</td>\n",
       "      <td>4.0</td>\n",
       "      <td>4.0</td>\n",
       "      <td>1.0</td>\n",
       "      <td>3.0</td>\n",
       "      <td>2.0</td>\n",
       "      <td>2.0</td>\n",
       "      <td>0</td>\n",
       "      <td>0</td>\n",
       "      <td>10</td>\n",
       "      <td>0</td>\n",
       "      <td>0</td>\n",
       "      <td>0</td>\n",
       "      <td>10</td>\n",
       "      <td>10</td>\n",
       "      <td>0.0</td>\n",
       "      <td>0</td>\n",
       "      <td>0</td>\n",
       "      <td>0</td>\n",
       "      <td>6</td>\n",
       "      <td>...</td>\n",
       "      <td>2.0</td>\n",
       "      <td>2.0</td>\n",
       "      <td>3.0</td>\n",
       "      <td>5.0</td>\n",
       "      <td>4.0</td>\n",
       "      <td>5.0</td>\n",
       "      <td>7</td>\n",
       "      <td>6</td>\n",
       "      <td>1</td>\n",
       "      <td>7</td>\n",
       "      <td>7</td>\n",
       "      <td>3</td>\n",
       "      <td>4</td>\n",
       "      <td>3</td>\n",
       "      <td>3</td>\n",
       "      <td>4</td>\n",
       "      <td>3</td>\n",
       "      <td>4</td>\n",
       "      <td>3</td>\n",
       "      <td>4</td>\n",
       "      <td>2</td>\n",
       "      <td>0.0</td>\n",
       "      <td>3.0</td>\n",
       "      <td>0.0</td>\n",
       "      <td>2.0</td>\n",
       "      <td>5.0</td>\n",
       "      <td>0.0</td>\n",
       "      <td>1.0</td>\n",
       "      <td>1</td>\n",
       "      <td>0.0</td>\n",
       "      <td>2.0</td>\n",
       "      <td>9.0</td>\n",
       "      <td>9.0</td>\n",
       "      <td>6.0</td>\n",
       "      <td>3.0</td>\n",
       "      <td>9.0</td>\n",
       "      <td>2.0</td>\n",
       "      <td>5</td>\n",
       "      <td>2</td>\n",
       "      <td>3</td>\n",
       "    </tr>\n",
       "  </tbody>\n",
       "</table>\n",
       "<p>3 rows × 365 columns</p>\n",
       "</div>"
      ],
      "text/plain": [
       "        AGER_TYP  AKT_DAT_KL  ...  ANREDE_KZ  ALTERSKATEGORIE_GROB\n",
       "LNR                           ...                                 \n",
       "910215        -1         NaN  ...          1                     2\n",
       "910220        -1         9.0  ...          2                     1\n",
       "910225        -1         9.0  ...          2                     3\n",
       "\n",
       "[3 rows x 365 columns]"
      ]
     },
     "metadata": {
      "tags": []
     },
     "output_type": "display_data"
    },
    {
     "data": {
      "text/html": [
       "<div>\n",
       "<style scoped>\n",
       "    .dataframe tbody tr th:only-of-type {\n",
       "        vertical-align: middle;\n",
       "    }\n",
       "\n",
       "    .dataframe tbody tr th {\n",
       "        vertical-align: top;\n",
       "    }\n",
       "\n",
       "    .dataframe thead th {\n",
       "        text-align: right;\n",
       "    }\n",
       "</style>\n",
       "<table border=\"1\" class=\"dataframe\">\n",
       "  <thead>\n",
       "    <tr style=\"text-align: right;\">\n",
       "      <th></th>\n",
       "      <th>AGER_TYP</th>\n",
       "      <th>AKT_DAT_KL</th>\n",
       "      <th>ALTER_HH</th>\n",
       "      <th>ALTER_KIND1</th>\n",
       "      <th>ALTER_KIND2</th>\n",
       "      <th>ALTER_KIND3</th>\n",
       "      <th>ALTER_KIND4</th>\n",
       "      <th>ALTERSKATEGORIE_FEIN</th>\n",
       "      <th>ANZ_HAUSHALTE_AKTIV</th>\n",
       "      <th>ANZ_HH_TITEL</th>\n",
       "      <th>ANZ_KINDER</th>\n",
       "      <th>ANZ_PERSONEN</th>\n",
       "      <th>ANZ_STATISTISCHE_HAUSHALTE</th>\n",
       "      <th>ANZ_TITEL</th>\n",
       "      <th>ARBEIT</th>\n",
       "      <th>BALLRAUM</th>\n",
       "      <th>CAMEO_DEU_2015</th>\n",
       "      <th>CAMEO_DEUG_2015</th>\n",
       "      <th>CAMEO_INTL_2015</th>\n",
       "      <th>CJT_GESAMTTYP</th>\n",
       "      <th>CJT_KATALOGNUTZER</th>\n",
       "      <th>CJT_TYP_1</th>\n",
       "      <th>CJT_TYP_2</th>\n",
       "      <th>CJT_TYP_3</th>\n",
       "      <th>CJT_TYP_4</th>\n",
       "      <th>CJT_TYP_5</th>\n",
       "      <th>CJT_TYP_6</th>\n",
       "      <th>D19_BANKEN_ANZ_12</th>\n",
       "      <th>D19_BANKEN_ANZ_24</th>\n",
       "      <th>D19_BANKEN_DATUM</th>\n",
       "      <th>D19_BANKEN_DIREKT</th>\n",
       "      <th>D19_BANKEN_GROSS</th>\n",
       "      <th>D19_BANKEN_LOKAL</th>\n",
       "      <th>D19_BANKEN_OFFLINE_DATUM</th>\n",
       "      <th>D19_BANKEN_ONLINE_DATUM</th>\n",
       "      <th>D19_BANKEN_ONLINE_QUOTE_12</th>\n",
       "      <th>D19_BANKEN_REST</th>\n",
       "      <th>D19_BEKLEIDUNG_GEH</th>\n",
       "      <th>D19_BEKLEIDUNG_REST</th>\n",
       "      <th>D19_BILDUNG</th>\n",
       "      <th>...</th>\n",
       "      <th>RT_KEIN_ANREIZ</th>\n",
       "      <th>RT_SCHNAEPPCHEN</th>\n",
       "      <th>RT_UEBERGROESSE</th>\n",
       "      <th>SEMIO_DOM</th>\n",
       "      <th>SEMIO_ERL</th>\n",
       "      <th>SEMIO_FAM</th>\n",
       "      <th>SEMIO_KAEM</th>\n",
       "      <th>SEMIO_KRIT</th>\n",
       "      <th>SEMIO_KULT</th>\n",
       "      <th>SEMIO_LUST</th>\n",
       "      <th>SEMIO_MAT</th>\n",
       "      <th>SEMIO_PFLICHT</th>\n",
       "      <th>SEMIO_RAT</th>\n",
       "      <th>SEMIO_REL</th>\n",
       "      <th>SEMIO_SOZ</th>\n",
       "      <th>SEMIO_TRADV</th>\n",
       "      <th>SEMIO_VERT</th>\n",
       "      <th>SHOPPER_TYP</th>\n",
       "      <th>SOHO_KZ</th>\n",
       "      <th>STRUKTURTYP</th>\n",
       "      <th>TITEL_KZ</th>\n",
       "      <th>UMFELD_ALT</th>\n",
       "      <th>UMFELD_JUNG</th>\n",
       "      <th>UNGLEICHENN_FLAG</th>\n",
       "      <th>VERDICHTUNGSRAUM</th>\n",
       "      <th>VERS_TYP</th>\n",
       "      <th>VHA</th>\n",
       "      <th>VHN</th>\n",
       "      <th>VK_DHT4A</th>\n",
       "      <th>VK_DISTANZ</th>\n",
       "      <th>VK_ZG11</th>\n",
       "      <th>W_KEIT_KIND_HH</th>\n",
       "      <th>WOHNDAUER_2008</th>\n",
       "      <th>WOHNLAGE</th>\n",
       "      <th>ZABEOTYP</th>\n",
       "      <th>PRODUCT_GROUP</th>\n",
       "      <th>CUSTOMER_GROUP</th>\n",
       "      <th>ONLINE_PURCHASE</th>\n",
       "      <th>ANREDE_KZ</th>\n",
       "      <th>ALTERSKATEGORIE_GROB</th>\n",
       "    </tr>\n",
       "    <tr>\n",
       "      <th>LNR</th>\n",
       "      <th></th>\n",
       "      <th></th>\n",
       "      <th></th>\n",
       "      <th></th>\n",
       "      <th></th>\n",
       "      <th></th>\n",
       "      <th></th>\n",
       "      <th></th>\n",
       "      <th></th>\n",
       "      <th></th>\n",
       "      <th></th>\n",
       "      <th></th>\n",
       "      <th></th>\n",
       "      <th></th>\n",
       "      <th></th>\n",
       "      <th></th>\n",
       "      <th></th>\n",
       "      <th></th>\n",
       "      <th></th>\n",
       "      <th></th>\n",
       "      <th></th>\n",
       "      <th></th>\n",
       "      <th></th>\n",
       "      <th></th>\n",
       "      <th></th>\n",
       "      <th></th>\n",
       "      <th></th>\n",
       "      <th></th>\n",
       "      <th></th>\n",
       "      <th></th>\n",
       "      <th></th>\n",
       "      <th></th>\n",
       "      <th></th>\n",
       "      <th></th>\n",
       "      <th></th>\n",
       "      <th></th>\n",
       "      <th></th>\n",
       "      <th></th>\n",
       "      <th></th>\n",
       "      <th></th>\n",
       "      <th></th>\n",
       "      <th></th>\n",
       "      <th></th>\n",
       "      <th></th>\n",
       "      <th></th>\n",
       "      <th></th>\n",
       "      <th></th>\n",
       "      <th></th>\n",
       "      <th></th>\n",
       "      <th></th>\n",
       "      <th></th>\n",
       "      <th></th>\n",
       "      <th></th>\n",
       "      <th></th>\n",
       "      <th></th>\n",
       "      <th></th>\n",
       "      <th></th>\n",
       "      <th></th>\n",
       "      <th></th>\n",
       "      <th></th>\n",
       "      <th></th>\n",
       "      <th></th>\n",
       "      <th></th>\n",
       "      <th></th>\n",
       "      <th></th>\n",
       "      <th></th>\n",
       "      <th></th>\n",
       "      <th></th>\n",
       "      <th></th>\n",
       "      <th></th>\n",
       "      <th></th>\n",
       "      <th></th>\n",
       "      <th></th>\n",
       "      <th></th>\n",
       "      <th></th>\n",
       "      <th></th>\n",
       "      <th></th>\n",
       "      <th></th>\n",
       "      <th></th>\n",
       "      <th></th>\n",
       "      <th></th>\n",
       "    </tr>\n",
       "  </thead>\n",
       "  <tbody>\n",
       "    <tr>\n",
       "      <th>9626</th>\n",
       "      <td>2</td>\n",
       "      <td>1.0</td>\n",
       "      <td>10.0</td>\n",
       "      <td>NaN</td>\n",
       "      <td>NaN</td>\n",
       "      <td>NaN</td>\n",
       "      <td>NaN</td>\n",
       "      <td>10.0</td>\n",
       "      <td>1.0</td>\n",
       "      <td>0.0</td>\n",
       "      <td>0.0</td>\n",
       "      <td>2.0</td>\n",
       "      <td>1.0</td>\n",
       "      <td>0.0</td>\n",
       "      <td>1.0</td>\n",
       "      <td>3.0</td>\n",
       "      <td>1A</td>\n",
       "      <td>1.0</td>\n",
       "      <td>13.0</td>\n",
       "      <td>5.0</td>\n",
       "      <td>4.0</td>\n",
       "      <td>1.0</td>\n",
       "      <td>1.0</td>\n",
       "      <td>5.0</td>\n",
       "      <td>5.0</td>\n",
       "      <td>5.0</td>\n",
       "      <td>5.0</td>\n",
       "      <td>0</td>\n",
       "      <td>0</td>\n",
       "      <td>10</td>\n",
       "      <td>0</td>\n",
       "      <td>0</td>\n",
       "      <td>0</td>\n",
       "      <td>10</td>\n",
       "      <td>10</td>\n",
       "      <td>0.0</td>\n",
       "      <td>0</td>\n",
       "      <td>0</td>\n",
       "      <td>0</td>\n",
       "      <td>0</td>\n",
       "      <td>...</td>\n",
       "      <td>1.0</td>\n",
       "      <td>5.0</td>\n",
       "      <td>3.0</td>\n",
       "      <td>1</td>\n",
       "      <td>3</td>\n",
       "      <td>5</td>\n",
       "      <td>1</td>\n",
       "      <td>3</td>\n",
       "      <td>4</td>\n",
       "      <td>7</td>\n",
       "      <td>6</td>\n",
       "      <td>2</td>\n",
       "      <td>1</td>\n",
       "      <td>2</td>\n",
       "      <td>6</td>\n",
       "      <td>1</td>\n",
       "      <td>6</td>\n",
       "      <td>3</td>\n",
       "      <td>0.0</td>\n",
       "      <td>3.0</td>\n",
       "      <td>0.0</td>\n",
       "      <td>4.0</td>\n",
       "      <td>4.0</td>\n",
       "      <td>0.0</td>\n",
       "      <td>8.0</td>\n",
       "      <td>1</td>\n",
       "      <td>0.0</td>\n",
       "      <td>3.0</td>\n",
       "      <td>5.0</td>\n",
       "      <td>3.0</td>\n",
       "      <td>2.0</td>\n",
       "      <td>6.0</td>\n",
       "      <td>9.0</td>\n",
       "      <td>7.0</td>\n",
       "      <td>3</td>\n",
       "      <td>COSMETIC_AND_FOOD</td>\n",
       "      <td>MULTI_BUYER</td>\n",
       "      <td>0</td>\n",
       "      <td>1</td>\n",
       "      <td>4</td>\n",
       "    </tr>\n",
       "    <tr>\n",
       "      <th>9628</th>\n",
       "      <td>-1</td>\n",
       "      <td>9.0</td>\n",
       "      <td>11.0</td>\n",
       "      <td>NaN</td>\n",
       "      <td>NaN</td>\n",
       "      <td>NaN</td>\n",
       "      <td>NaN</td>\n",
       "      <td>NaN</td>\n",
       "      <td>NaN</td>\n",
       "      <td>NaN</td>\n",
       "      <td>0.0</td>\n",
       "      <td>3.0</td>\n",
       "      <td>NaN</td>\n",
       "      <td>0.0</td>\n",
       "      <td>NaN</td>\n",
       "      <td>NaN</td>\n",
       "      <td>NaN</td>\n",
       "      <td>NaN</td>\n",
       "      <td>NaN</td>\n",
       "      <td>NaN</td>\n",
       "      <td>NaN</td>\n",
       "      <td>NaN</td>\n",
       "      <td>NaN</td>\n",
       "      <td>NaN</td>\n",
       "      <td>NaN</td>\n",
       "      <td>NaN</td>\n",
       "      <td>NaN</td>\n",
       "      <td>0</td>\n",
       "      <td>1</td>\n",
       "      <td>6</td>\n",
       "      <td>0</td>\n",
       "      <td>5</td>\n",
       "      <td>0</td>\n",
       "      <td>10</td>\n",
       "      <td>10</td>\n",
       "      <td>0.0</td>\n",
       "      <td>6</td>\n",
       "      <td>0</td>\n",
       "      <td>0</td>\n",
       "      <td>0</td>\n",
       "      <td>...</td>\n",
       "      <td>NaN</td>\n",
       "      <td>NaN</td>\n",
       "      <td>NaN</td>\n",
       "      <td>3</td>\n",
       "      <td>3</td>\n",
       "      <td>6</td>\n",
       "      <td>2</td>\n",
       "      <td>3</td>\n",
       "      <td>4</td>\n",
       "      <td>5</td>\n",
       "      <td>6</td>\n",
       "      <td>4</td>\n",
       "      <td>1</td>\n",
       "      <td>2</td>\n",
       "      <td>3</td>\n",
       "      <td>1</td>\n",
       "      <td>7</td>\n",
       "      <td>3</td>\n",
       "      <td>0.0</td>\n",
       "      <td>NaN</td>\n",
       "      <td>0.0</td>\n",
       "      <td>NaN</td>\n",
       "      <td>NaN</td>\n",
       "      <td>0.0</td>\n",
       "      <td>NaN</td>\n",
       "      <td>1</td>\n",
       "      <td>0.0</td>\n",
       "      <td>NaN</td>\n",
       "      <td>6.0</td>\n",
       "      <td>6.0</td>\n",
       "      <td>3.0</td>\n",
       "      <td>0.0</td>\n",
       "      <td>9.0</td>\n",
       "      <td>NaN</td>\n",
       "      <td>3</td>\n",
       "      <td>FOOD</td>\n",
       "      <td>SINGLE_BUYER</td>\n",
       "      <td>0</td>\n",
       "      <td>1</td>\n",
       "      <td>4</td>\n",
       "    </tr>\n",
       "    <tr>\n",
       "      <th>143872</th>\n",
       "      <td>-1</td>\n",
       "      <td>1.0</td>\n",
       "      <td>6.0</td>\n",
       "      <td>NaN</td>\n",
       "      <td>NaN</td>\n",
       "      <td>NaN</td>\n",
       "      <td>NaN</td>\n",
       "      <td>0.0</td>\n",
       "      <td>1.0</td>\n",
       "      <td>0.0</td>\n",
       "      <td>0.0</td>\n",
       "      <td>1.0</td>\n",
       "      <td>1.0</td>\n",
       "      <td>0.0</td>\n",
       "      <td>3.0</td>\n",
       "      <td>7.0</td>\n",
       "      <td>5D</td>\n",
       "      <td>5.0</td>\n",
       "      <td>34.0</td>\n",
       "      <td>2.0</td>\n",
       "      <td>5.0</td>\n",
       "      <td>2.0</td>\n",
       "      <td>2.0</td>\n",
       "      <td>5.0</td>\n",
       "      <td>5.0</td>\n",
       "      <td>5.0</td>\n",
       "      <td>5.0</td>\n",
       "      <td>0</td>\n",
       "      <td>0</td>\n",
       "      <td>10</td>\n",
       "      <td>0</td>\n",
       "      <td>0</td>\n",
       "      <td>0</td>\n",
       "      <td>10</td>\n",
       "      <td>10</td>\n",
       "      <td>0.0</td>\n",
       "      <td>0</td>\n",
       "      <td>0</td>\n",
       "      <td>0</td>\n",
       "      <td>6</td>\n",
       "      <td>...</td>\n",
       "      <td>1.0</td>\n",
       "      <td>5.0</td>\n",
       "      <td>1.0</td>\n",
       "      <td>5</td>\n",
       "      <td>7</td>\n",
       "      <td>2</td>\n",
       "      <td>6</td>\n",
       "      <td>7</td>\n",
       "      <td>1</td>\n",
       "      <td>7</td>\n",
       "      <td>3</td>\n",
       "      <td>4</td>\n",
       "      <td>2</td>\n",
       "      <td>1</td>\n",
       "      <td>2</td>\n",
       "      <td>1</td>\n",
       "      <td>3</td>\n",
       "      <td>1</td>\n",
       "      <td>0.0</td>\n",
       "      <td>3.0</td>\n",
       "      <td>0.0</td>\n",
       "      <td>1.0</td>\n",
       "      <td>5.0</td>\n",
       "      <td>0.0</td>\n",
       "      <td>0.0</td>\n",
       "      <td>2</td>\n",
       "      <td>0.0</td>\n",
       "      <td>4.0</td>\n",
       "      <td>10.0</td>\n",
       "      <td>13.0</td>\n",
       "      <td>11.0</td>\n",
       "      <td>6.0</td>\n",
       "      <td>9.0</td>\n",
       "      <td>2.0</td>\n",
       "      <td>3</td>\n",
       "      <td>COSMETIC_AND_FOOD</td>\n",
       "      <td>MULTI_BUYER</td>\n",
       "      <td>0</td>\n",
       "      <td>2</td>\n",
       "      <td>4</td>\n",
       "    </tr>\n",
       "  </tbody>\n",
       "</table>\n",
       "<p>3 rows × 368 columns</p>\n",
       "</div>"
      ],
      "text/plain": [
       "        AGER_TYP  AKT_DAT_KL  ...  ANREDE_KZ  ALTERSKATEGORIE_GROB\n",
       "LNR                           ...                                 \n",
       "9626           2         1.0  ...          1                     4\n",
       "9628          -1         9.0  ...          1                     4\n",
       "143872        -1         1.0  ...          2                     4\n",
       "\n",
       "[3 rows x 368 columns]"
      ]
     },
     "metadata": {
      "tags": []
     },
     "output_type": "display_data"
    }
   ],
   "source": [
    "azdias    = pd.read_csv(azdias_file, \n",
    "                        na_values=['X','XX'],\n",
    "                        index_col=0)\n",
    "customers = pd.read_csv(customers_file, \n",
    "                        na_values=['X','XX'], \n",
    "                        index_col=0)\n",
    "azdias.set_index('LNR',inplace=True)\n",
    "customers.set_index('LNR',inplace=True)\n",
    "\n",
    "display(azdias.head(3))\n",
    "display(customers.head(3))"
   ]
  },
  {
   "cell_type": "markdown",
   "metadata": {
    "colab_type": "text",
    "id": "0mgxA4_z08Nc"
   },
   "source": [
    "#### Overview to Datas"
   ]
  },
  {
   "cell_type": "code",
   "execution_count": 10,
   "metadata": {
    "colab": {
     "base_uri": "https://localhost:8080/",
     "height": 50
    },
    "colab_type": "code",
    "executionInfo": {
     "elapsed": 100102,
     "status": "ok",
     "timestamp": 1595333800120,
     "user": {
      "displayName": "Var Yemez",
      "photoUrl": "https://lh3.googleusercontent.com/a-/AOh14GgMZy0d63Fhv7Z7KWvi_JY5vUQU5pKuMaCpqpY2=s64",
      "userId": "14611479774278270033"
     },
     "user_tz": 240
    },
    "id": "7jQFo9jj08Nd",
    "outputId": "e563e2f7-b6fa-4c7d-cffc-2cc78db3d0b2"
   },
   "outputs": [
    {
     "name": "stdout",
     "output_type": "stream",
     "text": [
      "Rows and Columns of General Population: (891221, 365)\n",
      "Rows and Columns of Customers.........: (191652, 368)\n"
     ]
    }
   ],
   "source": [
    "# Shape of Azdias and Customers Dataframes\n",
    "print('Rows and Columns of General Population: {}'.format(azdias.shape))\n",
    "print('Rows and Columns of Customers.........: {}'.format(customers.shape))"
   ]
  },
  {
   "cell_type": "code",
   "execution_count": 11,
   "metadata": {
    "colab": {
     "base_uri": "https://localhost:8080/",
     "height": 235
    },
    "colab_type": "code",
    "executionInfo": {
     "elapsed": 100081,
     "status": "ok",
     "timestamp": 1595333800122,
     "user": {
      "displayName": "Var Yemez",
      "photoUrl": "https://lh3.googleusercontent.com/a-/AOh14GgMZy0d63Fhv7Z7KWvi_JY5vUQU5pKuMaCpqpY2=s64",
      "userId": "14611479774278270033"
     },
     "user_tz": 240
    },
    "id": "MUkojKWJ08Ni",
    "outputId": "746c5323-9a8d-4fe3-c00e-4fb3b3f221af"
   },
   "outputs": [
    {
     "name": "stdout",
     "output_type": "stream",
     "text": [
      "Dataframe of Azdias:\n",
      "<class 'pandas.core.frame.DataFrame'>\n",
      "Int64Index: 891221 entries, 910215 to 825787\n",
      "Columns: 365 entries, AGER_TYP to ALTERSKATEGORIE_GROB\n",
      "dtypes: float64(269), int64(92), object(4)\n",
      "memory usage: 2.4+ GB\n",
      "\n",
      " Dataframe of Customers:\n",
      "<class 'pandas.core.frame.DataFrame'>\n",
      "Int64Index: 191652 entries, 9626 to 148883\n",
      "Columns: 368 entries, AGER_TYP to ALTERSKATEGORIE_GROB\n",
      "dtypes: float64(269), int64(93), object(6)\n",
      "memory usage: 539.5+ MB\n"
     ]
    }
   ],
   "source": [
    "# Quick view to Azdias and Customers Dataframes\n",
    "print('Dataframe of Azdias:')\n",
    "azdias.info()\n",
    "print('\\n','Dataframe of Customers:')\n",
    "customers.info()"
   ]
  },
  {
   "cell_type": "markdown",
   "metadata": {
    "colab_type": "text",
    "id": "ZsEJIg7C08Nm"
   },
   "source": [
    "---\n",
    "<a id=\"2\"></a>\n",
    "# 2. Preprocesing the data"
   ]
  },
  {
   "cell_type": "markdown",
   "metadata": {
    "colab_type": "text",
    "id": "VYFf4oWw08Nm"
   },
   "source": [
    "### Read Attributes Dataset and understand the data types of features of  Azdias and Customer "
   ]
  },
  {
   "cell_type": "code",
   "execution_count": 12,
   "metadata": {
    "colab": {},
    "colab_type": "code",
    "executionInfo": {
     "elapsed": 100440,
     "status": "ok",
     "timestamp": 1595333800491,
     "user": {
      "displayName": "Var Yemez",
      "photoUrl": "https://lh3.googleusercontent.com/a-/AOh14GgMZy0d63Fhv7Z7KWvi_JY5vUQU5pKuMaCpqpY2=s64",
      "userId": "14611479774278270033"
     },
     "user_tz": 240
    },
    "id": "vAg81xFm08Nn",
    "scrolled": true
   },
   "outputs": [],
   "source": [
    "# Create attribute dataframe\n",
    "## filling 'Attribute' feature with ffill()\n",
    "df_attr = pd.read_excel(attribute_file, \n",
    "                        header=1, \n",
    "                        usecols=['Attribute', 'Meaning', 'Value'])\n",
    "df_attr['Attribute'] = df_attr['Attribute'].ffill()\n",
    "\n",
    "## drop null-useless rows\n",
    "df_attr.dropna(inplace=True);"
   ]
  },
  {
   "cell_type": "markdown",
   "metadata": {
    "colab_type": "text",
    "id": "40h7_fO108Nq"
   },
   "source": [
    "### Find and Understanding Missing - Unknowns Values of Features"
   ]
  },
  {
   "cell_type": "markdown",
   "metadata": {
    "colab_type": "text",
    "id": "gybkYynV08Nr"
   },
   "source": [
    "**Attributes information** files says that in some columns there are **missing-unknown** value.\n",
    "Checking data and find that for **missing-unknown** value in some features. To fix it, defined them as **` NaN `**"
   ]
  },
  {
   "cell_type": "code",
   "execution_count": 13,
   "metadata": {
    "colab": {
     "base_uri": "https://localhost:8080/",
     "height": 373
    },
    "colab_type": "code",
    "executionInfo": {
     "elapsed": 100401,
     "status": "ok",
     "timestamp": 1595333800493,
     "user": {
      "displayName": "Var Yemez",
      "photoUrl": "https://lh3.googleusercontent.com/a-/AOh14GgMZy0d63Fhv7Z7KWvi_JY5vUQU5pKuMaCpqpY2=s64",
      "userId": "14611479774278270033"
     },
     "user_tz": 240
    },
    "id": "dQ2CkeJN08Nr",
    "outputId": "885c06cf-6a37-4d60-daed-07a7b2dc8b2f"
   },
   "outputs": [
    {
     "data": {
      "text/html": [
       "<div>\n",
       "<style scoped>\n",
       "    .dataframe tbody tr th:only-of-type {\n",
       "        vertical-align: middle;\n",
       "    }\n",
       "\n",
       "    .dataframe tbody tr th {\n",
       "        vertical-align: top;\n",
       "    }\n",
       "\n",
       "    .dataframe thead th {\n",
       "        text-align: right;\n",
       "    }\n",
       "</style>\n",
       "<table border=\"1\" class=\"dataframe\">\n",
       "  <thead>\n",
       "    <tr style=\"text-align: right;\">\n",
       "      <th></th>\n",
       "      <th>Meaning</th>\n",
       "      <th>Value</th>\n",
       "    </tr>\n",
       "    <tr>\n",
       "      <th>Attribute</th>\n",
       "      <th></th>\n",
       "      <th></th>\n",
       "    </tr>\n",
       "  </thead>\n",
       "  <tbody>\n",
       "    <tr>\n",
       "      <th>AGER_TYP</th>\n",
       "      <td>unknown</td>\n",
       "      <td>-1</td>\n",
       "    </tr>\n",
       "    <tr>\n",
       "      <th>ALTERSKATEGORIE_GROB</th>\n",
       "      <td>unknown</td>\n",
       "      <td>-1, 0</td>\n",
       "    </tr>\n",
       "    <tr>\n",
       "      <th>ALTER_HH</th>\n",
       "      <td>unknown / no main age detectable</td>\n",
       "      <td>0</td>\n",
       "    </tr>\n",
       "    <tr>\n",
       "      <th>ANREDE_KZ</th>\n",
       "      <td>unknown</td>\n",
       "      <td>-1, 0</td>\n",
       "    </tr>\n",
       "    <tr>\n",
       "      <th>BALLRAUM</th>\n",
       "      <td>unknown</td>\n",
       "      <td>-1</td>\n",
       "    </tr>\n",
       "    <tr>\n",
       "      <th>BIP_FLAG</th>\n",
       "      <td>unknown</td>\n",
       "      <td>-1</td>\n",
       "    </tr>\n",
       "    <tr>\n",
       "      <th>CAMEO_DEUG_2015</th>\n",
       "      <td>unknown</td>\n",
       "      <td>-1</td>\n",
       "    </tr>\n",
       "    <tr>\n",
       "      <th>CAMEO_DEUINTL_2015</th>\n",
       "      <td>unknown</td>\n",
       "      <td>-1</td>\n",
       "    </tr>\n",
       "    <tr>\n",
       "      <th>CJT_GESAMTTYP</th>\n",
       "      <td>unknown</td>\n",
       "      <td>0</td>\n",
       "    </tr>\n",
       "    <tr>\n",
       "      <th>D19_KK_KUNDENTYP</th>\n",
       "      <td>unknown</td>\n",
       "      <td>-1</td>\n",
       "    </tr>\n",
       "  </tbody>\n",
       "</table>\n",
       "</div>"
      ],
      "text/plain": [
       "                                               Meaning  Value\n",
       "Attribute                                                    \n",
       "AGER_TYP                                       unknown     -1\n",
       "ALTERSKATEGORIE_GROB                           unknown  -1, 0\n",
       "ALTER_HH              unknown / no main age detectable      0\n",
       "ANREDE_KZ                                      unknown  -1, 0\n",
       "BALLRAUM                                       unknown     -1\n",
       "BIP_FLAG                                       unknown     -1\n",
       "CAMEO_DEUG_2015                                unknown     -1\n",
       "CAMEO_DEUINTL_2015                             unknown     -1\n",
       "CJT_GESAMTTYP                                  unknown      0\n",
       "D19_KK_KUNDENTYP                               unknown     -1"
      ]
     },
     "execution_count": 13,
     "metadata": {
      "tags": []
     },
     "output_type": "execute_result"
    }
   ],
   "source": [
    "columns= ['Attribute','Meaning','Value']\n",
    "mask = df_attr['Meaning'].str.contains('unknown')\n",
    "feat_mask = df_attr[columns][mask].set_index('Attribute')\n",
    "feat_mask.head(10)"
   ]
  },
  {
   "cell_type": "markdown",
   "metadata": {
    "colab_type": "text",
    "id": "oCepY4xg08Nv"
   },
   "source": [
    "When investigate in attributes information file there were found **233 features** about **missing-unknown value**. Let's  convert a list of value into dictionary with default value `np.nan` to **Azdias** and **Customers** data frames"
   ]
  },
  {
   "cell_type": "code",
   "execution_count": 14,
   "metadata": {
    "colab": {
     "base_uri": "https://localhost:8080/",
     "height": 402
    },
    "colab_type": "code",
    "executionInfo": {
     "elapsed": 100377,
     "status": "ok",
     "timestamp": 1595333800495,
     "user": {
      "displayName": "Var Yemez",
      "photoUrl": "https://lh3.googleusercontent.com/a-/AOh14GgMZy0d63Fhv7Z7KWvi_JY5vUQU5pKuMaCpqpY2=s64",
      "userId": "14611479774278270033"
     },
     "user_tz": 240
    },
    "id": "Og86VCpW08Nw",
    "outputId": "e5158bff-b795-4d76-d0d3-c4fa0c3ebb41"
   },
   "outputs": [
    {
     "data": {
      "text/html": [
       "<div>\n",
       "<style scoped>\n",
       "    .dataframe tbody tr th:only-of-type {\n",
       "        vertical-align: middle;\n",
       "    }\n",
       "\n",
       "    .dataframe tbody tr th {\n",
       "        vertical-align: top;\n",
       "    }\n",
       "\n",
       "    .dataframe thead th {\n",
       "        text-align: right;\n",
       "    }\n",
       "</style>\n",
       "<table border=\"1\" class=\"dataframe\">\n",
       "  <thead>\n",
       "    <tr style=\"text-align: right;\">\n",
       "      <th></th>\n",
       "      <th>Attribute</th>\n",
       "      <th>Value</th>\n",
       "      <th>Meaning</th>\n",
       "    </tr>\n",
       "  </thead>\n",
       "  <tbody>\n",
       "    <tr>\n",
       "      <th>0</th>\n",
       "      <td>AGER_TYP</td>\n",
       "      <td>-1</td>\n",
       "      <td>unknown</td>\n",
       "    </tr>\n",
       "    <tr>\n",
       "      <th>1</th>\n",
       "      <td>AGER_TYP</td>\n",
       "      <td>0</td>\n",
       "      <td>no classification possible</td>\n",
       "    </tr>\n",
       "    <tr>\n",
       "      <th>2</th>\n",
       "      <td>AGER_TYP</td>\n",
       "      <td>1</td>\n",
       "      <td>passive elderly</td>\n",
       "    </tr>\n",
       "    <tr>\n",
       "      <th>3</th>\n",
       "      <td>AGER_TYP</td>\n",
       "      <td>2</td>\n",
       "      <td>cultural elderly</td>\n",
       "    </tr>\n",
       "    <tr>\n",
       "      <th>4</th>\n",
       "      <td>AGER_TYP</td>\n",
       "      <td>3</td>\n",
       "      <td>experience-driven elderly</td>\n",
       "    </tr>\n",
       "    <tr>\n",
       "      <th>...</th>\n",
       "      <td>...</td>\n",
       "      <td>...</td>\n",
       "      <td>...</td>\n",
       "    </tr>\n",
       "    <tr>\n",
       "      <th>2253</th>\n",
       "      <td>ZABEOTYP</td>\n",
       "      <td>2</td>\n",
       "      <td>smart</td>\n",
       "    </tr>\n",
       "    <tr>\n",
       "      <th>2254</th>\n",
       "      <td>ZABEOTYP</td>\n",
       "      <td>3</td>\n",
       "      <td>fair supplied</td>\n",
       "    </tr>\n",
       "    <tr>\n",
       "      <th>2255</th>\n",
       "      <td>ZABEOTYP</td>\n",
       "      <td>4</td>\n",
       "      <td>price driven</td>\n",
       "    </tr>\n",
       "    <tr>\n",
       "      <th>2256</th>\n",
       "      <td>ZABEOTYP</td>\n",
       "      <td>5</td>\n",
       "      <td>seeking orientation</td>\n",
       "    </tr>\n",
       "    <tr>\n",
       "      <th>2257</th>\n",
       "      <td>ZABEOTYP</td>\n",
       "      <td>6</td>\n",
       "      <td>indifferent</td>\n",
       "    </tr>\n",
       "  </tbody>\n",
       "</table>\n",
       "<p>2247 rows × 3 columns</p>\n",
       "</div>"
      ],
      "text/plain": [
       "     Attribute Value                     Meaning\n",
       "0     AGER_TYP    -1                     unknown\n",
       "1     AGER_TYP     0  no classification possible\n",
       "2     AGER_TYP     1             passive elderly\n",
       "3     AGER_TYP     2            cultural elderly\n",
       "4     AGER_TYP     3   experience-driven elderly\n",
       "...        ...   ...                         ...\n",
       "2253  ZABEOTYP     2                       smart\n",
       "2254  ZABEOTYP     3               fair supplied\n",
       "2255  ZABEOTYP     4                price driven\n",
       "2256  ZABEOTYP     5         seeking orientation\n",
       "2257  ZABEOTYP     6                 indifferent\n",
       "\n",
       "[2247 rows x 3 columns]"
      ]
     },
     "execution_count": 14,
     "metadata": {
      "tags": []
     },
     "output_type": "execute_result"
    }
   ],
   "source": [
    "df_attr"
   ]
  },
  {
   "cell_type": "code",
   "execution_count": 15,
   "metadata": {
    "colab": {},
    "colab_type": "code",
    "executionInfo": {
     "elapsed": 103491,
     "status": "ok",
     "timestamp": 1595333803614,
     "user": {
      "displayName": "Var Yemez",
      "photoUrl": "https://lh3.googleusercontent.com/a-/AOh14GgMZy0d63Fhv7Z7KWvi_JY5vUQU5pKuMaCpqpY2=s64",
      "userId": "14611479774278270033"
     },
     "user_tz": 240
    },
    "id": "F-5P31Or08Ny"
   },
   "outputs": [],
   "source": [
    "# Converting Unknown values to NaN values in Azdias and Customers Dataframes\n",
    "code_to_nan(azdias, attribute_file)\n",
    "code_to_nan(customers, attribute_file)"
   ]
  },
  {
   "cell_type": "markdown",
   "metadata": {
    "colab_type": "text",
    "id": "aZgy9XkS08N1"
   },
   "source": [
    "### Sync Columns of Customers and Azdias Dataframes"
   ]
  },
  {
   "cell_type": "code",
   "execution_count": 16,
   "metadata": {
    "colab": {
     "base_uri": "https://localhost:8080/",
     "height": 182
    },
    "colab_type": "code",
    "executionInfo": {
     "elapsed": 103791,
     "status": "ok",
     "timestamp": 1595333803932,
     "user": {
      "displayName": "Var Yemez",
      "photoUrl": "https://lh3.googleusercontent.com/a-/AOh14GgMZy0d63Fhv7Z7KWvi_JY5vUQU5pKuMaCpqpY2=s64",
      "userId": "14611479774278270033"
     },
     "user_tz": 240
    },
    "id": "BnFJB5G_08N1",
    "outputId": "9e06bfda-ca87-4ded-d56c-6a33cb32a90d"
   },
   "outputs": [
    {
     "data": {
      "text/plain": [
       "['ONLINE_PURCHASE', 'CUSTOMER_GROUP', 'PRODUCT_GROUP']"
      ]
     },
     "metadata": {
      "tags": []
     },
     "output_type": "display_data"
    },
    {
     "data": {
      "text/html": [
       "<div>\n",
       "<style scoped>\n",
       "    .dataframe tbody tr th:only-of-type {\n",
       "        vertical-align: middle;\n",
       "    }\n",
       "\n",
       "    .dataframe tbody tr th {\n",
       "        vertical-align: top;\n",
       "    }\n",
       "\n",
       "    .dataframe thead th {\n",
       "        text-align: right;\n",
       "    }\n",
       "</style>\n",
       "<table border=\"1\" class=\"dataframe\">\n",
       "  <thead>\n",
       "    <tr style=\"text-align: right;\">\n",
       "      <th></th>\n",
       "      <th>ONLINE_PURCHASE</th>\n",
       "      <th>CUSTOMER_GROUP</th>\n",
       "      <th>PRODUCT_GROUP</th>\n",
       "    </tr>\n",
       "    <tr>\n",
       "      <th>LNR</th>\n",
       "      <th></th>\n",
       "      <th></th>\n",
       "      <th></th>\n",
       "    </tr>\n",
       "  </thead>\n",
       "  <tbody>\n",
       "    <tr>\n",
       "      <th>9626</th>\n",
       "      <td>0</td>\n",
       "      <td>MULTI_BUYER</td>\n",
       "      <td>COSMETIC_AND_FOOD</td>\n",
       "    </tr>\n",
       "    <tr>\n",
       "      <th>9628</th>\n",
       "      <td>0</td>\n",
       "      <td>SINGLE_BUYER</td>\n",
       "      <td>FOOD</td>\n",
       "    </tr>\n",
       "    <tr>\n",
       "      <th>143872</th>\n",
       "      <td>0</td>\n",
       "      <td>MULTI_BUYER</td>\n",
       "      <td>COSMETIC_AND_FOOD</td>\n",
       "    </tr>\n",
       "  </tbody>\n",
       "</table>\n",
       "</div>"
      ],
      "text/plain": [
       "        ONLINE_PURCHASE CUSTOMER_GROUP      PRODUCT_GROUP\n",
       "LNR                                                      \n",
       "9626                  0    MULTI_BUYER  COSMETIC_AND_FOOD\n",
       "9628                  0   SINGLE_BUYER               FOOD\n",
       "143872                0    MULTI_BUYER  COSMETIC_AND_FOOD"
      ]
     },
     "metadata": {
      "tags": []
     },
     "output_type": "display_data"
    }
   ],
   "source": [
    "# Check the excess columns between customers and azdias dataframe\n",
    "excess_col_customer = list(set(customers.columns.tolist()) - set(azdias.columns.tolist()))\n",
    "display(excess_col_customer)\n",
    "display(customers[excess_col_customer].head(3))"
   ]
  },
  {
   "cell_type": "markdown",
   "metadata": {
    "colab_type": "text",
    "id": "AMKHWhjF08N4"
   },
   "source": [
    "From above, **3 columns** in **`customers`** does not appear to be demographic data like all the columns in **`azdias`**. Thereof, I can remove these 3 extra columns from our analysis. These columus are:\n",
    "- 'PRODUCT_GROUP' \n",
    "- 'CUSTOMER_GROUP'\n",
    "- 'ONLINE_PURCHASE'"
   ]
  },
  {
   "cell_type": "code",
   "execution_count": 17,
   "metadata": {
    "colab": {},
    "colab_type": "code",
    "executionInfo": {
     "elapsed": 104141,
     "status": "ok",
     "timestamp": 1595333804289,
     "user": {
      "displayName": "Var Yemez",
      "photoUrl": "https://lh3.googleusercontent.com/a-/AOh14GgMZy0d63Fhv7Z7KWvi_JY5vUQU5pKuMaCpqpY2=s64",
      "userId": "14611479774278270033"
     },
     "user_tz": 240
    },
    "id": "OlC8D9zs08N5"
   },
   "outputs": [],
   "source": [
    "# Removing of excessing columns from Customers Dataframe\n",
    "drop(customers,excess_col_customer)"
   ]
  },
  {
   "cell_type": "markdown",
   "metadata": {
    "colab_type": "text",
    "id": "Ayp0Je1H08N7"
   },
   "source": [
    "### Missing values in Rows"
   ]
  },
  {
   "cell_type": "code",
   "execution_count": 18,
   "metadata": {
    "colab": {
     "base_uri": "https://localhost:8080/",
     "height": 84
    },
    "colab_type": "code",
    "executionInfo": {
     "elapsed": 113143,
     "status": "ok",
     "timestamp": 1595333813317,
     "user": {
      "displayName": "Var Yemez",
      "photoUrl": "https://lh3.googleusercontent.com/a-/AOh14GgMZy0d63Fhv7Z7KWvi_JY5vUQU5pKuMaCpqpY2=s64",
      "userId": "14611479774278270033"
     },
     "user_tz": 240
    },
    "id": "QLPs-PjD08N9",
    "outputId": "b99e41c5-f523-4dc8-db56-47d435a14e09"
   },
   "outputs": [
    {
     "name": "stdout",
     "output_type": "stream",
     "text": [
      "Total ROW numbers Originally...........................: 891221\n",
      "Total ROW numbers After dropping missing rows under 100: 785346\n",
      "Total ROW numbers Originally...........................: 191652\n",
      "Total ROW numbers After dropping missing rows under 100: 140358\n"
     ]
    }
   ],
   "source": [
    "row_missing_value(azdias, value=100)\n",
    "row_missing_value(customers, value=100)"
   ]
  },
  {
   "cell_type": "markdown",
   "metadata": {
    "colab_type": "text",
    "id": "hR6t6qAC08OA"
   },
   "source": [
    "### Missing values in Columns\n",
    "I classified it as **`High-Low-Zero`** of data sets features according to **missing values** of data."
   ]
  },
  {
   "cell_type": "code",
   "execution_count": 19,
   "metadata": {
    "colab": {},
    "colab_type": "code",
    "executionInfo": {
     "elapsed": 118834,
     "status": "ok",
     "timestamp": 1595333819016,
     "user": {
      "displayName": "Var Yemez",
      "photoUrl": "https://lh3.googleusercontent.com/a-/AOh14GgMZy0d63Fhv7Z7KWvi_JY5vUQU5pKuMaCpqpY2=s64",
      "userId": "14611479774278270033"
     },
     "user_tz": 240
    },
    "id": "ieJU9evv08OB"
   },
   "outputs": [],
   "source": [
    "# Creating count and percentage of Null values of features in Azdias and Customers Dataframes\n",
    "azdias_miss_report = report_missing_values(azdias)\n",
    "customers_miss_report = report_missing_values(customers)"
   ]
  },
  {
   "cell_type": "code",
   "execution_count": 20,
   "metadata": {
    "colab": {
     "base_uri": "https://localhost:8080/",
     "height": 374
    },
    "colab_type": "code",
    "executionInfo": {
     "elapsed": 118815,
     "status": "ok",
     "timestamp": 1595333819019,
     "user": {
      "displayName": "Var Yemez",
      "photoUrl": "https://lh3.googleusercontent.com/a-/AOh14GgMZy0d63Fhv7Z7KWvi_JY5vUQU5pKuMaCpqpY2=s64",
      "userId": "14611479774278270033"
     },
     "user_tz": 240
    },
    "id": "oLCcNLLh08OE",
    "outputId": "dde35431-2495-4af6-d0c3-ff30aba78e3b",
    "scrolled": false
   },
   "outputs": [
    {
     "data": {
      "text/html": [
       "<div>\n",
       "<style scoped>\n",
       "    .dataframe tbody tr th:only-of-type {\n",
       "        vertical-align: middle;\n",
       "    }\n",
       "\n",
       "    .dataframe tbody tr th {\n",
       "        vertical-align: top;\n",
       "    }\n",
       "\n",
       "    .dataframe thead th {\n",
       "        text-align: right;\n",
       "    }\n",
       "</style>\n",
       "<table border=\"1\" class=\"dataframe\">\n",
       "  <thead>\n",
       "    <tr style=\"text-align: right;\">\n",
       "      <th></th>\n",
       "      <th>column type</th>\n",
       "      <th>null values (nb)</th>\n",
       "      <th>null values (%)</th>\n",
       "      <th>level</th>\n",
       "      <th>N_unique</th>\n",
       "    </tr>\n",
       "  </thead>\n",
       "  <tbody>\n",
       "    <tr>\n",
       "      <th>ALTER_KIND4</th>\n",
       "      <td>float64</td>\n",
       "      <td>784181</td>\n",
       "      <td>99.8517</td>\n",
       "      <td>High</td>\n",
       "      <td>12</td>\n",
       "    </tr>\n",
       "    <tr>\n",
       "      <th>TITEL_KZ</th>\n",
       "      <td>float64</td>\n",
       "      <td>783300</td>\n",
       "      <td>99.7395</td>\n",
       "      <td>High</td>\n",
       "      <td>5</td>\n",
       "    </tr>\n",
       "    <tr>\n",
       "      <th>ALTER_KIND3</th>\n",
       "      <td>float64</td>\n",
       "      <td>779362</td>\n",
       "      <td>99.238</td>\n",
       "      <td>High</td>\n",
       "      <td>15</td>\n",
       "    </tr>\n",
       "    <tr>\n",
       "      <th>ALTER_KIND2</th>\n",
       "      <td>float64</td>\n",
       "      <td>756832</td>\n",
       "      <td>96.3692</td>\n",
       "      <td>High</td>\n",
       "      <td>17</td>\n",
       "    </tr>\n",
       "    <tr>\n",
       "      <th>ALTER_KIND1</th>\n",
       "      <td>float64</td>\n",
       "      <td>707201</td>\n",
       "      <td>90.0496</td>\n",
       "      <td>High</td>\n",
       "      <td>17</td>\n",
       "    </tr>\n",
       "  </tbody>\n",
       "</table>\n",
       "</div>"
      ],
      "text/plain": [
       "            column type null values (nb) null values (%) level  N_unique\n",
       "ALTER_KIND4     float64           784181         99.8517  High        12\n",
       "TITEL_KZ        float64           783300         99.7395  High         5\n",
       "ALTER_KIND3     float64           779362          99.238  High        15\n",
       "ALTER_KIND2     float64           756832         96.3692  High        17\n",
       "ALTER_KIND1     float64           707201         90.0496  High        17"
      ]
     },
     "metadata": {
      "tags": []
     },
     "output_type": "display_data"
    },
    {
     "data": {
      "text/html": [
       "<div>\n",
       "<style scoped>\n",
       "    .dataframe tbody tr th:only-of-type {\n",
       "        vertical-align: middle;\n",
       "    }\n",
       "\n",
       "    .dataframe tbody tr th {\n",
       "        vertical-align: top;\n",
       "    }\n",
       "\n",
       "    .dataframe thead th {\n",
       "        text-align: right;\n",
       "    }\n",
       "</style>\n",
       "<table border=\"1\" class=\"dataframe\">\n",
       "  <thead>\n",
       "    <tr style=\"text-align: right;\">\n",
       "      <th></th>\n",
       "      <th>column type</th>\n",
       "      <th>null values (nb)</th>\n",
       "      <th>null values (%)</th>\n",
       "      <th>level</th>\n",
       "      <th>N_unique</th>\n",
       "    </tr>\n",
       "  </thead>\n",
       "  <tbody>\n",
       "    <tr>\n",
       "      <th>ALTER_KIND4</th>\n",
       "      <td>float64</td>\n",
       "      <td>140125</td>\n",
       "      <td>99.834</td>\n",
       "      <td>High</td>\n",
       "      <td>10</td>\n",
       "    </tr>\n",
       "    <tr>\n",
       "      <th>ALTER_KIND3</th>\n",
       "      <td>float64</td>\n",
       "      <td>139124</td>\n",
       "      <td>99.1208</td>\n",
       "      <td>High</td>\n",
       "      <td>14</td>\n",
       "    </tr>\n",
       "    <tr>\n",
       "      <th>TITEL_KZ</th>\n",
       "      <td>float64</td>\n",
       "      <td>138122</td>\n",
       "      <td>98.4069</td>\n",
       "      <td>High</td>\n",
       "      <td>4</td>\n",
       "    </tr>\n",
       "    <tr>\n",
       "      <th>ALTER_KIND2</th>\n",
       "      <td>float64</td>\n",
       "      <td>135436</td>\n",
       "      <td>96.4933</td>\n",
       "      <td>High</td>\n",
       "      <td>17</td>\n",
       "    </tr>\n",
       "    <tr>\n",
       "      <th>ALTER_KIND1</th>\n",
       "      <td>float64</td>\n",
       "      <td>129004</td>\n",
       "      <td>91.9107</td>\n",
       "      <td>High</td>\n",
       "      <td>17</td>\n",
       "    </tr>\n",
       "  </tbody>\n",
       "</table>\n",
       "</div>"
      ],
      "text/plain": [
       "            column type null values (nb) null values (%) level  N_unique\n",
       "ALTER_KIND4     float64           140125          99.834  High        10\n",
       "ALTER_KIND3     float64           139124         99.1208  High        14\n",
       "TITEL_KZ        float64           138122         98.4069  High         4\n",
       "ALTER_KIND2     float64           135436         96.4933  High        17\n",
       "ALTER_KIND1     float64           129004         91.9107  High        17"
      ]
     },
     "metadata": {
      "tags": []
     },
     "output_type": "display_data"
    }
   ],
   "source": [
    "display(azdias_miss_report.head())\n",
    "display(customers_miss_report.head())"
   ]
  },
  {
   "cell_type": "markdown",
   "metadata": {},
   "source": [
    "#### Plot Distrubution Missing Value of Data"
   ]
  },
  {
   "cell_type": "code",
   "execution_count": 21,
   "metadata": {
    "colab": {
     "base_uri": "https://localhost:8080/",
     "height": 276
    },
    "colab_type": "code",
    "executionInfo": {
     "elapsed": 119297,
     "status": "ok",
     "timestamp": 1595333819525,
     "user": {
      "displayName": "Var Yemez",
      "photoUrl": "https://lh3.googleusercontent.com/a-/AOh14GgMZy0d63Fhv7Z7KWvi_JY5vUQU5pKuMaCpqpY2=s64",
      "userId": "14611479774278270033"
     },
     "user_tz": 240
    },
    "id": "xZf6mAP708OH",
    "outputId": "31f33c62-d86c-404a-c422-9e0e8b06aa05"
   },
   "outputs": [
    {
     "data": {
      "image/png": "[encoded data removed]",
      "text/plain": [
       "<Figure size 1080x360 with 2 Axes>"
      ]
     },
     "metadata": {
      "tags": []
     },
     "output_type": "display_data"
    }
   ],
   "source": [
    "# Distribution of missing level of Azdias and Customers features\n",
    "\n",
    "fig, axes= plt.subplots(nrows=1, ncols=2,figsize=(15,5))\n",
    "explode = (0.1,0.13, 0.16)\n",
    "colors = ['#95EC00', '#8BACDD', '#FF8271']\n",
    "labels = ['Low','Zero','High']\n",
    "\n",
    "axes[0].pie(azdias_miss_report['level'].value_counts(), \n",
    "            explode=explode, \n",
    "            labels=labels,\n",
    "            colors=colors,\n",
    "            autopct='%1.2f%%',\n",
    "            shadow=True,\n",
    "            startangle=20)\n",
    "axes[0].set_title('Distribution of missing level of Azdias features')\n",
    "\n",
    "axes[1].pie(customers_miss_report['level'].value_counts(), \n",
    "            explode=explode, \n",
    "            labels=labels,\n",
    "            colors=colors,\n",
    "            autopct='%1.2f%%',\n",
    "            shadow=True,\n",
    "            startangle=20)\n",
    "axes[1].set_title('Distribution of missing level of Customers features')\n",
    "\n",
    "plt.tight_layout();"
   ]
  },
  {
   "cell_type": "markdown",
   "metadata": {
    "colab_type": "text",
    "id": "GkSf2Bjd08OJ"
   },
   "source": [
    "#### Upon null values identifying columns to be removed"
   ]
  },
  {
   "cell_type": "code",
   "execution_count": 22,
   "metadata": {
    "colab": {
     "base_uri": "https://localhost:8080/",
     "height": 166
    },
    "colab_type": "code",
    "executionInfo": {
     "elapsed": 119280,
     "status": "ok",
     "timestamp": 1595333819527,
     "user": {
      "displayName": "Var Yemez",
      "photoUrl": "https://lh3.googleusercontent.com/a-/AOh14GgMZy0d63Fhv7Z7KWvi_JY5vUQU5pKuMaCpqpY2=s64",
      "userId": "14611479774278270033"
     },
     "user_tz": 240
    },
    "id": "OUWTiUYe08OK",
    "outputId": "7367ac5e-f216-4e97-894e-2013fa210a25"
   },
   "outputs": [
    {
     "data": {
      "text/html": [
       "<div>\n",
       "<style scoped>\n",
       "    .dataframe tbody tr th:only-of-type {\n",
       "        vertical-align: middle;\n",
       "    }\n",
       "\n",
       "    .dataframe tbody tr th {\n",
       "        vertical-align: top;\n",
       "    }\n",
       "\n",
       "    .dataframe thead th {\n",
       "        text-align: right;\n",
       "    }\n",
       "</style>\n",
       "<table border=\"1\" class=\"dataframe\">\n",
       "  <thead>\n",
       "    <tr style=\"text-align: right;\">\n",
       "      <th></th>\n",
       "      <th>azdias</th>\n",
       "      <th>customer</th>\n",
       "    </tr>\n",
       "    <tr>\n",
       "      <th>level</th>\n",
       "      <th></th>\n",
       "      <th></th>\n",
       "    </tr>\n",
       "  </thead>\n",
       "  <tbody>\n",
       "    <tr>\n",
       "      <th>High</th>\n",
       "      <td>10</td>\n",
       "      <td>8</td>\n",
       "    </tr>\n",
       "    <tr>\n",
       "      <th>Low</th>\n",
       "      <td>133</td>\n",
       "      <td>132</td>\n",
       "    </tr>\n",
       "    <tr>\n",
       "      <th>Zero</th>\n",
       "      <td>222</td>\n",
       "      <td>225</td>\n",
       "    </tr>\n",
       "  </tbody>\n",
       "</table>\n",
       "</div>"
      ],
      "text/plain": [
       "       azdias  customer\n",
       "level                  \n",
       "High       10         8\n",
       "Low       133       132\n",
       "Zero      222       225"
      ]
     },
     "execution_count": 22,
     "metadata": {
      "tags": []
     },
     "output_type": "execute_result"
    }
   ],
   "source": [
    "azdias_c = azdias_miss_report.groupby('level')[['column type']].count().rename(columns={'column type':'azdias'})\n",
    "customers_c = customers_miss_report.groupby('level')[['column type']].count().rename(columns={'column type':'customer'})\n",
    "\n",
    "na_table = azdias_c.join(customers_c)\n",
    "na_table"
   ]
  },
  {
   "cell_type": "code",
   "execution_count": 23,
   "metadata": {
    "colab": {},
    "colab_type": "code",
    "executionInfo": {
     "elapsed": 119277,
     "status": "ok",
     "timestamp": 1595333819529,
     "user": {
      "displayName": "Var Yemez",
      "photoUrl": "https://lh3.googleusercontent.com/a-/AOh14GgMZy0d63Fhv7Z7KWvi_JY5vUQU5pKuMaCpqpY2=s64",
      "userId": "14611479774278270033"
     },
     "user_tz": 240
    },
    "id": "V1hqawV708OM"
   },
   "outputs": [],
   "source": [
    "miss_report = azdias_miss_report[['null values (%)']].join(customers_miss_report[['null values (%)']],\n",
    "                                                     how='outer',\n",
    "                                                     lsuffix='_azdias',\n",
    "                                                     rsuffix='_customers').sort_values(\n",
    "                                                     by='null values (%)_azdias', ascending=False)"
   ]
  },
  {
   "cell_type": "code",
   "execution_count": 24,
   "metadata": {
    "colab": {
     "base_uri": "https://localhost:8080/",
     "height": 339
    },
    "colab_type": "code",
    "executionInfo": {
     "elapsed": 119644,
     "status": "ok",
     "timestamp": 1595333819912,
     "user": {
      "displayName": "Var Yemez",
      "photoUrl": "https://lh3.googleusercontent.com/a-/AOh14GgMZy0d63Fhv7Z7KWvi_JY5vUQU5pKuMaCpqpY2=s64",
      "userId": "14611479774278270033"
     },
     "user_tz": 240
    },
    "id": "NhJsf30K08OO",
    "outputId": "60b3b823-9720-4147-e766-7b08da64679e",
    "scrolled": false
   },
   "outputs": [
    {
     "data": {
      "image/png": "[encoded data removed]",
      "text/plain": [
       "<Figure size 1152x360 with 1 Axes>"
      ]
     },
     "metadata": {
      "needs_background": "light",
      "tags": []
     },
     "output_type": "display_data"
    }
   ],
   "source": [
    "plt.tight_layout                \n",
    "plt.figure(figsize=(16,5))\n",
    "\n",
    "miss_report = miss_report.head(20)\n",
    "x = np.arange(len(miss_report))\n",
    "\n",
    "plt.bar(x, miss_report['null values (%)_azdias'], label='Azdias', width=0.4, color='#FF5842',  alpha=0.6)\n",
    "plt.bar(x+0.4, miss_report['null values (%)_customers'], label='Customers', width=0.4, color='#95EC00',  alpha=0.6)\n",
    "\n",
    "plt.title('Top 20 of Columns with Null values (%)', size=16);\n",
    "plt.xticks(x+0.15, miss_report.index, rotation=90)\n",
    "plt.ylabel('Null values (%)')\n",
    "\n",
    "plt.legend();"
   ]
  },
  {
   "cell_type": "markdown",
   "metadata": {
    "colab_type": "text",
    "id": "E_UxtLbr08OR"
   },
   "source": [
    "#### Null Values"
   ]
  },
  {
   "cell_type": "code",
   "execution_count": 25,
   "metadata": {
    "colab": {},
    "colab_type": "code",
    "executionInfo": {
     "elapsed": 119633,
     "status": "ok",
     "timestamp": 1595333819913,
     "user": {
      "displayName": "Var Yemez",
      "photoUrl": "https://lh3.googleusercontent.com/a-/AOh14GgMZy0d63Fhv7Z7KWvi_JY5vUQU5pKuMaCpqpY2=s64",
      "userId": "14611479774278270033"
     },
     "user_tz": 240
    },
    "id": "ouq_uvFk08OR"
   },
   "outputs": [],
   "source": [
    "# Choosing of High Level Missing Values of features\n",
    "high_lev_column_az = azdias_miss_report[azdias_miss_report['level']=='High'].index.values.tolist()\n",
    "high_lev_column_cus = customers_miss_report[customers_miss_report['level']=='High'].index.values.tolist()\n",
    "\n",
    "# Finding similar columns of high_lev_col\n",
    "drop_miss_col = set(high_lev_column_az).intersection(set(high_lev_column_cus))"
   ]
  },
  {
   "cell_type": "markdown",
   "metadata": {
    "colab_type": "text",
    "id": "2GSjHvjF08OU"
   },
   "source": [
    "Columns with  missing values at the **'high'** level were observed to have _**the same columns**_ in datasets of **azdias** and **customers**. The number of column is **8** and name are:\n",
    "- 'ALTER_KIND4'\n",
    "- 'KK_KUNDENTYP'\n",
    "- 'ALTER_KIND3'\n",
    "- 'ALTER_KIND2'\n",
    "- 'ALTER_KIND1'\n",
    "- 'TITEL_KZ'\n",
    "- 'AGER_TYP'\n",
    "- 'KBA05_BAUMAX'"
   ]
  },
  {
   "cell_type": "code",
   "execution_count": 26,
   "metadata": {
    "colab": {},
    "colab_type": "code",
    "executionInfo": {
     "elapsed": 120281,
     "status": "ok",
     "timestamp": 1595333820571,
     "user": {
      "displayName": "Var Yemez",
      "photoUrl": "https://lh3.googleusercontent.com/a-/AOh14GgMZy0d63Fhv7Z7KWvi_JY5vUQU5pKuMaCpqpY2=s64",
      "userId": "14611479774278270033"
     },
     "user_tz": 240
    },
    "id": "dS3LpQLG08OU"
   },
   "outputs": [],
   "source": [
    "# Dropping drop_miss_col from Azdias and Customers Dataframes\n",
    "drop(azdias,drop_miss_col)\n",
    "drop(customers,drop_miss_col)"
   ]
  },
  {
   "cell_type": "code",
   "execution_count": 27,
   "metadata": {
    "colab": {
     "base_uri": "https://localhost:8080/",
     "height": 50
    },
    "colab_type": "code",
    "executionInfo": {
     "elapsed": 120750,
     "status": "ok",
     "timestamp": 1595333821066,
     "user": {
      "displayName": "Var Yemez",
      "photoUrl": "https://lh3.googleusercontent.com/a-/AOh14GgMZy0d63Fhv7Z7KWvi_JY5vUQU5pKuMaCpqpY2=s64",
      "userId": "14611479774278270033"
     },
     "user_tz": 240
    },
    "id": "nc3IPvtY08OX",
    "outputId": "8d4e2fbe-784e-4755-8877-4208a5c68ea0"
   },
   "outputs": [
    {
     "name": "stdout",
     "output_type": "stream",
     "text": [
      "Rows and Columns of General Population: (785346, 357)\n",
      "Rows and Columns of Customers.........: (140358, 357)\n"
     ]
    }
   ],
   "source": [
    "# Shape of Azdias and Customers Dataframes\n",
    "print('Rows and Columns of General Population: {}'.format(azdias.shape))\n",
    "print('Rows and Columns of Customers.........: {}'.format(customers.shape))"
   ]
  },
  {
   "cell_type": "markdown",
   "metadata": {
    "colab_type": "text",
    "id": "tPSMpws408Oa"
   },
   "source": [
    "### Descriptive Analysis"
   ]
  },
  {
   "cell_type": "code",
   "execution_count": 28,
   "metadata": {
    "colab": {},
    "colab_type": "code",
    "executionInfo": {
     "elapsed": 133311,
     "status": "ok",
     "timestamp": 1595333833637,
     "user": {
      "displayName": "Var Yemez",
      "photoUrl": "https://lh3.googleusercontent.com/a-/AOh14GgMZy0d63Fhv7Z7KWvi_JY5vUQU5pKuMaCpqpY2=s64",
      "userId": "14611479774278270033"
     },
     "user_tz": 240
    },
    "id": "w3voEaxv08Oa"
   },
   "outputs": [],
   "source": [
    "des_analysis_a = azdias.describe().T\n",
    "des_analysis_c = customers.describe().T"
   ]
  },
  {
   "cell_type": "code",
   "execution_count": 29,
   "metadata": {
    "colab": {
     "base_uri": "https://localhost:8080/",
     "height": 394
    },
    "colab_type": "code",
    "executionInfo": {
     "elapsed": 133276,
     "status": "ok",
     "timestamp": 1595333833639,
     "user": {
      "displayName": "Var Yemez",
      "photoUrl": "https://lh3.googleusercontent.com/a-/AOh14GgMZy0d63Fhv7Z7KWvi_JY5vUQU5pKuMaCpqpY2=s64",
      "userId": "14611479774278270033"
     },
     "user_tz": 240
    },
    "id": "KpvlEzxX08Oc",
    "outputId": "51e6e06a-3579-4999-ca30-101587a14a84"
   },
   "outputs": [
    {
     "data": {
      "text/html": [
       "<div>\n",
       "<style scoped>\n",
       "    .dataframe tbody tr th:only-of-type {\n",
       "        vertical-align: middle;\n",
       "    }\n",
       "\n",
       "    .dataframe tbody tr th {\n",
       "        vertical-align: top;\n",
       "    }\n",
       "\n",
       "    .dataframe thead th {\n",
       "        text-align: right;\n",
       "    }\n",
       "</style>\n",
       "<table border=\"1\" class=\"dataframe\">\n",
       "  <thead>\n",
       "    <tr style=\"text-align: right;\">\n",
       "      <th></th>\n",
       "      <th>count</th>\n",
       "      <th>mean</th>\n",
       "      <th>std</th>\n",
       "      <th>min</th>\n",
       "      <th>25%</th>\n",
       "      <th>50%</th>\n",
       "      <th>75%</th>\n",
       "      <th>max</th>\n",
       "    </tr>\n",
       "  </thead>\n",
       "  <tbody>\n",
       "    <tr>\n",
       "      <th>AKT_DAT_KL</th>\n",
       "      <td>785346.0</td>\n",
       "      <td>4.404983</td>\n",
       "      <td>3.638560</td>\n",
       "      <td>1.0</td>\n",
       "      <td>1.0</td>\n",
       "      <td>3.0</td>\n",
       "      <td>9.0</td>\n",
       "      <td>9.0</td>\n",
       "    </tr>\n",
       "    <tr>\n",
       "      <th>ALTER_HH</th>\n",
       "      <td>560022.0</td>\n",
       "      <td>15.291133</td>\n",
       "      <td>3.804120</td>\n",
       "      <td>1.0</td>\n",
       "      <td>13.0</td>\n",
       "      <td>16.0</td>\n",
       "      <td>18.0</td>\n",
       "      <td>21.0</td>\n",
       "    </tr>\n",
       "    <tr>\n",
       "      <th>ALTERSKATEGORIE_FEIN</th>\n",
       "      <td>605766.0</td>\n",
       "      <td>13.690354</td>\n",
       "      <td>5.080017</td>\n",
       "      <td>0.0</td>\n",
       "      <td>11.0</td>\n",
       "      <td>14.0</td>\n",
       "      <td>17.0</td>\n",
       "      <td>25.0</td>\n",
       "    </tr>\n",
       "    <tr>\n",
       "      <th>ANZ_HAUSHALTE_AKTIV</th>\n",
       "      <td>785346.0</td>\n",
       "      <td>8.289065</td>\n",
       "      <td>15.525302</td>\n",
       "      <td>0.0</td>\n",
       "      <td>1.0</td>\n",
       "      <td>4.0</td>\n",
       "      <td>10.0</td>\n",
       "      <td>595.0</td>\n",
       "    </tr>\n",
       "    <tr>\n",
       "      <th>ANZ_HH_TITEL</th>\n",
       "      <td>781664.0</td>\n",
       "      <td>0.040052</td>\n",
       "      <td>0.315780</td>\n",
       "      <td>0.0</td>\n",
       "      <td>0.0</td>\n",
       "      <td>0.0</td>\n",
       "      <td>0.0</td>\n",
       "      <td>20.0</td>\n",
       "    </tr>\n",
       "  </tbody>\n",
       "</table>\n",
       "</div>"
      ],
      "text/plain": [
       "                         count       mean        std  ...   50%   75%    max\n",
       "AKT_DAT_KL            785346.0   4.404983   3.638560  ...   3.0   9.0    9.0\n",
       "ALTER_HH              560022.0  15.291133   3.804120  ...  16.0  18.0   21.0\n",
       "ALTERSKATEGORIE_FEIN  605766.0  13.690354   5.080017  ...  14.0  17.0   25.0\n",
       "ANZ_HAUSHALTE_AKTIV   785346.0   8.289065  15.525302  ...   4.0  10.0  595.0\n",
       "ANZ_HH_TITEL          781664.0   0.040052   0.315780  ...   0.0   0.0   20.0\n",
       "\n",
       "[5 rows x 8 columns]"
      ]
     },
     "metadata": {
      "tags": []
     },
     "output_type": "display_data"
    },
    {
     "data": {
      "text/html": [
       "<div>\n",
       "<style scoped>\n",
       "    .dataframe tbody tr th:only-of-type {\n",
       "        vertical-align: middle;\n",
       "    }\n",
       "\n",
       "    .dataframe tbody tr th {\n",
       "        vertical-align: top;\n",
       "    }\n",
       "\n",
       "    .dataframe thead th {\n",
       "        text-align: right;\n",
       "    }\n",
       "</style>\n",
       "<table border=\"1\" class=\"dataframe\">\n",
       "  <thead>\n",
       "    <tr style=\"text-align: right;\">\n",
       "      <th></th>\n",
       "      <th>count</th>\n",
       "      <th>mean</th>\n",
       "      <th>std</th>\n",
       "      <th>min</th>\n",
       "      <th>25%</th>\n",
       "      <th>50%</th>\n",
       "      <th>75%</th>\n",
       "      <th>max</th>\n",
       "    </tr>\n",
       "  </thead>\n",
       "  <tbody>\n",
       "    <tr>\n",
       "      <th>AKT_DAT_KL</th>\n",
       "      <td>140358.0</td>\n",
       "      <td>1.730311</td>\n",
       "      <td>1.944810</td>\n",
       "      <td>1.0</td>\n",
       "      <td>1.0</td>\n",
       "      <td>1.0</td>\n",
       "      <td>1.0</td>\n",
       "      <td>9.0</td>\n",
       "    </tr>\n",
       "    <tr>\n",
       "      <th>ALTER_HH</th>\n",
       "      <td>119059.0</td>\n",
       "      <td>13.401734</td>\n",
       "      <td>4.369047</td>\n",
       "      <td>2.0</td>\n",
       "      <td>10.0</td>\n",
       "      <td>13.0</td>\n",
       "      <td>17.0</td>\n",
       "      <td>21.0</td>\n",
       "    </tr>\n",
       "    <tr>\n",
       "      <th>ALTERSKATEGORIE_FEIN</th>\n",
       "      <td>135438.0</td>\n",
       "      <td>10.317407</td>\n",
       "      <td>4.128577</td>\n",
       "      <td>0.0</td>\n",
       "      <td>9.0</td>\n",
       "      <td>10.0</td>\n",
       "      <td>13.0</td>\n",
       "      <td>25.0</td>\n",
       "    </tr>\n",
       "    <tr>\n",
       "      <th>ANZ_HAUSHALTE_AKTIV</th>\n",
       "      <td>140358.0</td>\n",
       "      <td>4.880919</td>\n",
       "      <td>13.762387</td>\n",
       "      <td>0.0</td>\n",
       "      <td>1.0</td>\n",
       "      <td>1.0</td>\n",
       "      <td>4.0</td>\n",
       "      <td>523.0</td>\n",
       "    </tr>\n",
       "    <tr>\n",
       "      <th>ANZ_HH_TITEL</th>\n",
       "      <td>138236.0</td>\n",
       "      <td>0.064274</td>\n",
       "      <td>0.503339</td>\n",
       "      <td>0.0</td>\n",
       "      <td>0.0</td>\n",
       "      <td>0.0</td>\n",
       "      <td>0.0</td>\n",
       "      <td>20.0</td>\n",
       "    </tr>\n",
       "  </tbody>\n",
       "</table>\n",
       "</div>"
      ],
      "text/plain": [
       "                         count       mean        std  ...   50%   75%    max\n",
       "AKT_DAT_KL            140358.0   1.730311   1.944810  ...   1.0   1.0    9.0\n",
       "ALTER_HH              119059.0  13.401734   4.369047  ...  13.0  17.0   21.0\n",
       "ALTERSKATEGORIE_FEIN  135438.0  10.317407   4.128577  ...  10.0  13.0   25.0\n",
       "ANZ_HAUSHALTE_AKTIV   140358.0   4.880919  13.762387  ...   1.0   4.0  523.0\n",
       "ANZ_HH_TITEL          138236.0   0.064274   0.503339  ...   0.0   0.0   20.0\n",
       "\n",
       "[5 rows x 8 columns]"
      ]
     },
     "metadata": {
      "tags": []
     },
     "output_type": "display_data"
    }
   ],
   "source": [
    "display(des_analysis_a.head())\n",
    "display(des_analysis_c.head())"
   ]
  },
  {
   "cell_type": "markdown",
   "metadata": {
    "colab_type": "text",
    "id": "EivsIeu-08Of"
   },
   "source": [
    "### Encoding some Columns"
   ]
  },
  {
   "cell_type": "markdown",
   "metadata": {
    "colab_type": "text",
    "id": "kcD03b4O08Og"
   },
   "source": [
    "**CUSTOMERS** dataset contains is _target dataset_ that as our customer's source data. Therefore, we will **act on the column investigation** on this dataset.\n",
    "As we begin this work, which is a preliminary preparation for **OneHotEncoding**, which we will use **before implementing the model**, we will start with **`  the columns with high 'nunique' value  `**.\n",
    "\n",
    "Here is the purpose is to identify **important columns** and significantly **reduce these columns's unique values**."
   ]
  },
  {
   "cell_type": "code",
   "execution_count": 30,
   "metadata": {
    "colab": {
     "base_uri": "https://localhost:8080/",
     "height": 286
    },
    "colab_type": "code",
    "executionInfo": {
     "elapsed": 138320,
     "status": "ok",
     "timestamp": 1595333838705,
     "user": {
      "displayName": "Var Yemez",
      "photoUrl": "https://lh3.googleusercontent.com/a-/AOh14GgMZy0d63Fhv7Z7KWvi_JY5vUQU5pKuMaCpqpY2=s64",
      "userId": "14611479774278270033"
     },
     "user_tz": 240
    },
    "id": "SpXLdayU08Oh",
    "outputId": "b745caa2-ce86-4f47-98c6-c29fd44c51de",
    "scrolled": true
   },
   "outputs": [
    {
     "data": {
      "text/plain": [
       "EINGEFUEGT_AM                 2760\n",
       "KBA13_ANZAHL_PKW              1250\n",
       "ANZ_STATISTISCHE_HAUSHALTE     208\n",
       "ANZ_HAUSHALTE_AKTIV            208\n",
       "GEBURTSJAHR                    113\n",
       "EXTSEL992                       56\n",
       "VERDICHTUNGSRAUM                46\n",
       "CAMEO_DEU_2015                  44\n",
       "LP_LEBENSPHASE_FEIN             41\n",
       "D19_LETZTER_KAUF_BRANCHE        35\n",
       "EINGEZOGENAM_HH_JAHR            33\n",
       "MIN_GEBAEUDEJAHR                29\n",
       "ALTERSKATEGORIE_FEIN            25\n",
       "CAMEO_INTL_2015                 21\n",
       "ALTER_HH                        20\n",
       "dtype: int64"
      ]
     },
     "execution_count": 30,
     "metadata": {
      "tags": []
     },
     "output_type": "execute_result"
    }
   ],
   "source": [
    "customers.nunique().sort_values(ascending=False)[:15]"
   ]
  },
  {
   "cell_type": "markdown",
   "metadata": {
    "colab_type": "text",
    "id": "1tIKItuB08Oj"
   },
   "source": [
    "---"
   ]
  },
  {
   "cell_type": "markdown",
   "metadata": {
    "colab_type": "text",
    "id": "jZBEdUEx08Ok"
   },
   "source": [
    "#### Encode and Investigation of some feutures"
   ]
  },
  {
   "cell_type": "markdown",
   "metadata": {
    "colab_type": "text",
    "id": "WBVrQs0-08Ok"
   },
   "source": [
    "##### 01: Encode and Investigation of 'LNR' feuture\n",
    "\n",
    "**`LNR`**, In this column give us ID information.<br>\n",
    "\n",
    "\n",
    "* **Result:** <br>\n",
    "We set column of **`LNR`** to index."
   ]
  },
  {
   "cell_type": "markdown",
   "metadata": {
    "colab_type": "text",
    "id": "CoZ2n--a08Ol"
   },
   "source": [
    "##### 02: Encode and Investigation of 'EINGEFUEGT_AM' feuture\n",
    "\n",
    "**`EINGEFUEGT_AM`**, In this column give us year-mount-day information. We transform year to index from **`EINGEFUEGT_AM`** feature into **`EINGEFUEGT_ind`**<br>"
   ]
  },
  {
   "cell_type": "code",
   "execution_count": 31,
   "metadata": {
    "colab": {},
    "colab_type": "code",
    "executionInfo": {
     "elapsed": 138615,
     "status": "ok",
     "timestamp": 1595333839008,
     "user": {
      "displayName": "Var Yemez",
      "photoUrl": "https://lh3.googleusercontent.com/a-/AOh14GgMZy0d63Fhv7Z7KWvi_JY5vUQU5pKuMaCpqpY2=s64",
      "userId": "14611479774278270033"
     },
     "user_tz": 240
    },
    "id": "LuRw11tf08Ol"
   },
   "outputs": [],
   "source": [
    "# 02: Encoding of 'EINGEFUEGT_AM' feuture into EINGEFUEGT_ind\n",
    "encode_df_EIN(azdias)\n",
    "encode_df_EIN(customers)"
   ]
  },
  {
   "cell_type": "code",
   "execution_count": 32,
   "metadata": {
    "colab": {
     "base_uri": "https://localhost:8080/",
     "height": 195
    },
    "colab_type": "code",
    "executionInfo": {
     "elapsed": 138766,
     "status": "ok",
     "timestamp": 1595333839199,
     "user": {
      "displayName": "Var Yemez",
      "photoUrl": "https://lh3.googleusercontent.com/a-/AOh14GgMZy0d63Fhv7Z7KWvi_JY5vUQU5pKuMaCpqpY2=s64",
      "userId": "14611479774278270033"
     },
     "user_tz": 240
    },
    "id": "6U9nr6e308Oo",
    "outputId": "d2cdaef4-2e54-4f57-99e0-50c5d4f50f02",
    "scrolled": false
   },
   "outputs": [
    {
     "data": {
      "text/html": [
       "<div>\n",
       "<style scoped>\n",
       "    .dataframe tbody tr th:only-of-type {\n",
       "        vertical-align: middle;\n",
       "    }\n",
       "\n",
       "    .dataframe tbody tr th {\n",
       "        vertical-align: top;\n",
       "    }\n",
       "\n",
       "    .dataframe thead th {\n",
       "        text-align: right;\n",
       "    }\n",
       "</style>\n",
       "<table border=\"1\" class=\"dataframe\">\n",
       "  <thead>\n",
       "    <tr style=\"text-align: right;\">\n",
       "      <th></th>\n",
       "      <th>Azdias_EINGEFUEGT_ind</th>\n",
       "      <th>Customers_EINGEFUEGT_ind</th>\n",
       "    </tr>\n",
       "  </thead>\n",
       "  <tbody>\n",
       "    <tr>\n",
       "      <th>22</th>\n",
       "      <td>3</td>\n",
       "      <td>NaN</td>\n",
       "    </tr>\n",
       "    <tr>\n",
       "      <th>21</th>\n",
       "      <td>573887</td>\n",
       "      <td>108495.0</td>\n",
       "    </tr>\n",
       "    <tr>\n",
       "      <th>20</th>\n",
       "      <td>23981</td>\n",
       "      <td>3871.0</td>\n",
       "    </tr>\n",
       "    <tr>\n",
       "      <th>19</th>\n",
       "      <td>28647</td>\n",
       "      <td>2810.0</td>\n",
       "    </tr>\n",
       "    <tr>\n",
       "      <th>18</th>\n",
       "      <td>42225</td>\n",
       "      <td>5635.0</td>\n",
       "    </tr>\n",
       "  </tbody>\n",
       "</table>\n",
       "</div>"
      ],
      "text/plain": [
       "    Azdias_EINGEFUEGT_ind  Customers_EINGEFUEGT_ind\n",
       "22                      3                       NaN\n",
       "21                 573887                  108495.0\n",
       "20                  23981                    3871.0\n",
       "19                  28647                    2810.0\n",
       "18                  42225                    5635.0"
      ]
     },
     "execution_count": 32,
     "metadata": {
      "tags": []
     },
     "output_type": "execute_result"
    }
   ],
   "source": [
    "a = azdias['EINGEFUEGT_ind'].value_counts()\n",
    "c = customers['EINGEFUEGT_ind'].value_counts()\n",
    "a.name ='Azdias_EINGEFUEGT_ind'\n",
    "c.name= 'Customers_EINGEFUEGT_ind'\n",
    "\n",
    "pd.concat([a,c], axis=1, ).sort_index(ascending=False).head()"
   ]
  },
  {
   "cell_type": "code",
   "execution_count": 33,
   "metadata": {
    "colab": {
     "base_uri": "https://localhost:8080/",
     "height": 50
    },
    "colab_type": "code",
    "executionInfo": {
     "elapsed": 138745,
     "status": "ok",
     "timestamp": 1595333839200,
     "user": {
      "displayName": "Var Yemez",
      "photoUrl": "https://lh3.googleusercontent.com/a-/AOh14GgMZy0d63Fhv7Z7KWvi_JY5vUQU5pKuMaCpqpY2=s64",
      "userId": "14611479774278270033"
     },
     "user_tz": 240
    },
    "id": "m7zk0e4508Or",
    "outputId": "2b34cb77-6eab-4af8-97d6-f49eb072fa00",
    "scrolled": true
   },
   "outputs": [
    {
     "name": "stdout",
     "output_type": "stream",
     "text": [
      "Percentage of First 7 unique value for Azdias....: 0.889132942677495\n",
      "Percentage of First 7 unique value for Customers.: 0.9029766739337979\n"
     ]
    }
   ],
   "source": [
    "a_per = sum(sorted(a.values[:5]))/azdias.shape[0]\n",
    "c_per = sum(sorted(c.values[:5]))/customers.shape[0]\n",
    "print('Percentage of First 7 unique value for Azdias....:',a_per)\n",
    "print('Percentage of First 7 unique value for Customers.:',c_per)"
   ]
  },
  {
   "cell_type": "markdown",
   "metadata": {
    "colab_type": "text",
    "id": "N89LKd-708Ot"
   },
   "source": [
    "* **Result:** <br>\n",
    "Most probably first records  are taken like 22 years ago and that year contains almost %60 of data. Also last 16 to 21 years contains ~%90 of data.<br>\n",
    "We drop this column due to huge skewness. Drop  **`EINGEFUEGT_AM`** and **`EINGEFUEGT_idn`** columns. <br>"
   ]
  },
  {
   "cell_type": "code",
   "execution_count": 34,
   "metadata": {
    "colab": {},
    "colab_type": "code",
    "executionInfo": {
     "elapsed": 138744,
     "status": "ok",
     "timestamp": 1595333839202,
     "user": {
      "displayName": "Var Yemez",
      "photoUrl": "https://lh3.googleusercontent.com/a-/AOh14GgMZy0d63Fhv7Z7KWvi_JY5vUQU5pKuMaCpqpY2=s64",
      "userId": "14611479774278270033"
     },
     "user_tz": 240
    },
    "id": "hPJqEZYW08Ou"
   },
   "outputs": [],
   "source": [
    "drop_col_list = ['EINGEFUEGT_AM','EINGEFUEGT_ind']"
   ]
  },
  {
   "cell_type": "markdown",
   "metadata": {
    "colab_type": "text",
    "id": "SDTbuCUL08Ow"
   },
   "source": [
    "##### 03: Encode and Investigation of some feutures\n",
    "- KBA13_ANZAHL_PKW'\n",
    "- 'ANZ_HAUSHALTE_AKTIV'\n",
    "- 'ANZ_STATISTISCHE_HAUSHALTE'\n",
    "\n",
    "**`KBA13_ANZAHL_PKW`**: In this column give us number of cars in the PLZ8 . This column type is **NUMERIC**.<br>\n",
    "**`ANZ_HAUSHALTE_AKTIV`**: In this column give us number of households in the building. This column type is **NUMERIC**.<br>\n",
    "**`ANZ_STATISTISCHE_HAUSHALTE`**: In this column give us in Germany a census data is given about statistical households, here its number is counted.This column type is **NUMERIC**.<br>\n",
    "* **Result:** <br>\n",
    "We use these columns: **`KBA13_ANZAHL_PKW`**, **`ANZ_STATISTISCHE_HAUSHALTE`** and **`ANZ_HAUSHALTE_AKTIV`**\n"
   ]
  },
  {
   "cell_type": "markdown",
   "metadata": {
    "colab_type": "text",
    "id": "JRbA8zFP08Ow"
   },
   "source": [
    "##### 04: Encode and Investigation of 'GEBURTSJAHR' feuture\n",
    "\n",
    "**`GEBURTSJAHR`**, In this column give us year of birth. This column type is **NUMERIC**.<br>"
   ]
  },
  {
   "cell_type": "markdown",
   "metadata": {
    "colab_type": "text",
    "id": "gP3IgFgf08Ox"
   },
   "source": [
    "* **Result:** <br>\n",
    "We use this column **`GEBURTSJAHR`** after below process:\n",
    "    - In this column it has `0` (zero). That means **wrong** or **no entry**. We should replace **zero** with **NaN**\n",
    "    - Divided the values into categorical with {190:193, 191:193, 192:193, 200:199, 201:np.NaN}"
   ]
  },
  {
   "cell_type": "code",
   "execution_count": 35,
   "metadata": {
    "colab": {},
    "colab_type": "code",
    "executionInfo": {
     "elapsed": 139412,
     "status": "ok",
     "timestamp": 1595333839878,
     "user": {
      "displayName": "Var Yemez",
      "photoUrl": "https://lh3.googleusercontent.com/a-/AOh14GgMZy0d63Fhv7Z7KWvi_JY5vUQU5pKuMaCpqpY2=s64",
      "userId": "14611479774278270033"
     },
     "user_tz": 240
    },
    "id": "pW8-Tn1a08Oy"
   },
   "outputs": [],
   "source": [
    "# Implamenting map_age function for GEBURTSJAHR feature\n",
    "encode_map_age(customers)\n",
    "encode_map_age(azdias)"
   ]
  },
  {
   "cell_type": "markdown",
   "metadata": {
    "colab_type": "text",
    "id": "pXdSogrD08O1"
   },
   "source": [
    "##### 05: Encode and Investigation of some feutures: Will Drop\n",
    "\n",
    "When investigation below features, have seen some **dimension problem** and **high missing value** for columns in datasets of **azdias** and **customers**.\n",
    "```\n",
    "'EINGEFUEGT_AM'                  2760 : Due to possible dimension problem and skewness issue\n",
    "'EXTSEL992'                        56 : Due to high missing value and possible dimension problem\n",
    "'VERDICHTUNGSRAUM '                46 : Due to possible dimension problem\n",
    "'CAMEO_DEU_2015'                   44 : Due to possible dimension problem\n",
    "'D19_LETZTER_KAUF_BRANCHE'         35 : Due to possible dimension problem\n",
    "'MIN_GEBAEUDEJAHR'                 29 : Due to possible dimension problem\n",
    "'CAMEO_INTL_2015'                  21 : Due to possible dimension problem\n",
    "```\n",
    "\n",
    "Columns with  missing values at the **'high'** level were observed to have _**the same columns**_ in datasets of **azdias** and **customers**. The number of columns is **8** and these names of features are:\n",
    "```\n",
    "'ALTER_KIND4'                        : Due to high missing value\n",
    "'KK_KUNDENTYP'                       : Due to high missing value\n",
    "'ALTER_KIND3'                        : Due to high missing value\n",
    "'ALTER_KIND2'                        : Due to high missing value\n",
    "'ALTER_KIND1'                        : Due to high missing value\n",
    "'TITEL_KZ'                           : Due to high missing value\n",
    "'AGER_TYP'                           : Due to high missing value\n",
    "'KBA05_BAUMAX'                       : Due to high missing value\n",
    "```"
   ]
  },
  {
   "cell_type": "code",
   "execution_count": 36,
   "metadata": {
    "colab": {},
    "colab_type": "code",
    "executionInfo": {
     "elapsed": 139404,
     "status": "ok",
     "timestamp": 1595333839881,
     "user": {
      "displayName": "Var Yemez",
      "photoUrl": "https://lh3.googleusercontent.com/a-/AOh14GgMZy0d63Fhv7Z7KWvi_JY5vUQU5pKuMaCpqpY2=s64",
      "userId": "14611479774278270033"
     },
     "user_tz": 240
    },
    "id": "yOXMzGJq08O1"
   },
   "outputs": [],
   "source": [
    "drop_col_list = ['EXTSEL992',\n",
    "                 'VERDICHTUNGSRAUM',\n",
    "                 'CAMEO_DEU_2015',\n",
    "                 'D19_LETZTER_KAUF_BRANCHE',\n",
    "                 'MIN_GEBAEUDEJAHR',\n",
    "                 'CAMEO_INTL_2015'] + drop_col_list"
   ]
  },
  {
   "cell_type": "markdown",
   "metadata": {
    "colab_type": "text",
    "id": "otlgcwG608O4"
   },
   "source": [
    "#### 06: Encoding of 'RAEGENDE_JUGENDJAHRE' feuture\n",
    "\n",
    "**`RAEGENDE_JUGENDJAHRE`**, In this column give us two different information. One is time serisi, other is two type (Mainstream - Avant Garde)<br>\n",
    "Must convert mixed information code into **two different columns.**\n",
    "* 1\t: 40ies - war years (Mainstream, O+W)\n",
    "* 2\t: 40ies - reconstruction years (Avantgarde, O+W)\n",
    "* 3 : 50ies - economic miracle (Mainstream, O+W)\n",
    "* 4\t: 50ies - milk bar / Individualisation (Avantgarde, O+W)\n",
    "* 5 : 60ies - economic miracle (Mainstream, O+W)\n",
    "* 6 : 60ies - generation 68 / student protestors (Avantgarde, W)\n",
    "* 7 : 60ies - opponents to the building of the Wall (Avantgarde, O)\n",
    "* 8 : 70ies - family orientation (Mainstream, O+W)\n",
    "* 9 : 70ies - peace movement (Avantgarde, O+W)\n",
    "* 10 : 80ies - Generation Golf (Mainstream, W)\n",
    "* 11 : 80ies - ecological awareness (Avantgarde, W)\n",
    "* 12 : 80ies - FDJ / communist party youth organisation (Mainstream, O)\n",
    "* 13 : 80ies - Swords into ploughshares (Avantgarde, O)\n",
    "* 14 : 90ies - digital media kids (Mainstream, O+W)\n",
    "* 15 : 90ies - ecological awareness (Avantgarde, O+W)\n"
   ]
  },
  {
   "cell_type": "code",
   "execution_count": 37,
   "metadata": {
    "colab": {},
    "colab_type": "code",
    "executionInfo": {
     "elapsed": 140128,
     "status": "ok",
     "timestamp": 1595333840611,
     "user": {
      "displayName": "Var Yemez",
      "photoUrl": "https://lh3.googleusercontent.com/a-/AOh14GgMZy0d63Fhv7Z7KWvi_JY5vUQU5pKuMaCpqpY2=s64",
      "userId": "14611479774278270033"
     },
     "user_tz": 240
    },
    "id": "q_5pWu0n08O4"
   },
   "outputs": [],
   "source": [
    "# 06 : Encoding of 'PRAEGENDE_JUGENDJAHRE' feature into 'PRAEGENDE_time' and 'PRAEGENDE_avant'\n",
    "encode_df_PJ(azdias)\n",
    "encode_df_PJ(customers)"
   ]
  },
  {
   "cell_type": "markdown",
   "metadata": {
    "colab_type": "text",
    "id": "tkg8IkRW08O8"
   },
   "source": [
    "#### 07: Encoding and Converting some feutures\n",
    "\n",
    "We will use these columns for **Label Encoding**. We will implamentation **get_dummies** for these columns after merge Azdias and Customers data sets.\n",
    "```\n",
    "'ANREDE_KZ'   : (1:male, 2:female)\n",
    "'VERS_TYP'    : (1:social-safety driven, 2:individualistic-accepting risks)\n",
    "'OST_WEST_KZ' : (1:'W' - West (FRG) 0:'O'- East (GDR))\n",
    "```"
   ]
  },
  {
   "cell_type": "code",
   "execution_count": 38,
   "metadata": {
    "colab": {},
    "colab_type": "code",
    "executionInfo": {
     "elapsed": 140309,
     "status": "ok",
     "timestamp": 1595333840797,
     "user": {
      "displayName": "Var Yemez",
      "photoUrl": "https://lh3.googleusercontent.com/a-/AOh14GgMZy0d63Fhv7Z7KWvi_JY5vUQU5pKuMaCpqpY2=s64",
      "userId": "14611479774278270033"
     },
     "user_tz": 240
    },
    "id": "MaUS5OV-M4Mb"
   },
   "outputs": [],
   "source": [
    "# 07 - Encoding of 'OST_WEST_KZ', 'VERS_TYP' and 'ANREDE_KZ'\n",
    "def label_encoding(df):\n",
    "    df['OST_WEST_KZ'].replace({'W': 1, 'O': 0}, inplace=True)\n",
    "    df['VERS_TYP'].replace({2: 0}, inplace=True)\n",
    "    df['ANREDE_KZ'].replace({2: 0}, inplace=True)\n",
    "\n",
    "label_encoding(azdias)\n",
    "label_encoding(customers)"
   ]
  },
  {
   "cell_type": "markdown",
   "metadata": {
    "colab_type": "text",
    "id": "ZWBvdFDA08PF"
   },
   "source": [
    "---"
   ]
  },
  {
   "cell_type": "markdown",
   "metadata": {
    "colab_type": "text",
    "id": "HXZL9nv_08PH"
   },
   "source": [
    "### Drop of Columns"
   ]
  },
  {
   "cell_type": "code",
   "execution_count": 39,
   "metadata": {
    "colab": {
     "base_uri": "https://localhost:8080/",
     "height": 218
    },
    "colab_type": "code",
    "executionInfo": {
     "elapsed": 142558,
     "status": "ok",
     "timestamp": 1595333843078,
     "user": {
      "displayName": "Var Yemez",
      "photoUrl": "https://lh3.googleusercontent.com/a-/AOh14GgMZy0d63Fhv7Z7KWvi_JY5vUQU5pKuMaCpqpY2=s64",
      "userId": "14611479774278270033"
     },
     "user_tz": 240
    },
    "id": "C_UOZv5G08PH",
    "outputId": "87a869bb-557d-4b66-d9cc-02af9df07005"
   },
   "outputs": [
    {
     "name": "stdout",
     "output_type": "stream",
     "text": [
      "Rows and Columns of General Population: (785346, 359)\n",
      "Rows and Columns of Customers.........: (140358, 359)\n"
     ]
    },
    {
     "data": {
      "text/plain": [
       "['EXTSEL992',\n",
       " 'VERDICHTUNGSRAUM',\n",
       " 'CAMEO_DEU_2015',\n",
       " 'D19_LETZTER_KAUF_BRANCHE',\n",
       " 'MIN_GEBAEUDEJAHR',\n",
       " 'CAMEO_INTL_2015',\n",
       " 'EINGEFUEGT_AM',\n",
       " 'EINGEFUEGT_ind']"
      ]
     },
     "metadata": {
      "tags": []
     },
     "output_type": "display_data"
    },
    {
     "name": "stdout",
     "output_type": "stream",
     "text": [
      "Rows and Columns of General Population: (785346, 351)\n",
      "Rows and Columns of Customers.........: (140358, 351)\n"
     ]
    }
   ],
   "source": [
    "# Currently size of Azdias and Customers datasets\n",
    "print('Rows and Columns of General Population: {}'.format(azdias.shape))\n",
    "print('Rows and Columns of Customers.........: {}'.format(customers.shape))\n",
    "\n",
    "# List of columns to be deleted\n",
    "display(drop_col_list)\n",
    "drop(customers,drop_col_list)\n",
    "drop(azdias,drop_col_list)\n",
    "\n",
    "# After droping size of Azdias and Customers datasets\n",
    "print('Rows and Columns of General Population: {}'.format(azdias.shape))\n",
    "print('Rows and Columns of Customers.........: {}'.format(customers.shape))"
   ]
  },
  {
   "cell_type": "markdown",
   "metadata": {
    "colab_type": "text",
    "id": "wwYff-hj08PL"
   },
   "source": [
    "## Merge of Azdias and Customers Data sets"
   ]
  },
  {
   "cell_type": "code",
   "execution_count": 40,
   "metadata": {
    "colab": {
     "base_uri": "https://localhost:8080/",
     "height": 274
    },
    "colab_type": "code",
    "executionInfo": {
     "elapsed": 147129,
     "status": "ok",
     "timestamp": 1595333847672,
     "user": {
      "displayName": "Var Yemez",
      "photoUrl": "https://lh3.googleusercontent.com/a-/AOh14GgMZy0d63Fhv7Z7KWvi_JY5vUQU5pKuMaCpqpY2=s64",
      "userId": "14611479774278270033"
     },
     "user_tz": 240
    },
    "id": "e5dM-1Zw08PM",
    "outputId": "f8398f53-4c0c-486a-a0fc-3125576bcd1a",
    "scrolled": false
   },
   "outputs": [
    {
     "data": {
      "text/html": [
       "<div>\n",
       "<style scoped>\n",
       "    .dataframe tbody tr th:only-of-type {\n",
       "        vertical-align: middle;\n",
       "    }\n",
       "\n",
       "    .dataframe tbody tr th {\n",
       "        vertical-align: top;\n",
       "    }\n",
       "\n",
       "    .dataframe thead th {\n",
       "        text-align: right;\n",
       "    }\n",
       "</style>\n",
       "<table border=\"1\" class=\"dataframe\">\n",
       "  <thead>\n",
       "    <tr style=\"text-align: right;\">\n",
       "      <th></th>\n",
       "      <th>AKT_DAT_KL</th>\n",
       "      <th>ALTER_HH</th>\n",
       "      <th>ALTERSKATEGORIE_FEIN</th>\n",
       "      <th>ANZ_HAUSHALTE_AKTIV</th>\n",
       "      <th>ANZ_HH_TITEL</th>\n",
       "      <th>ANZ_KINDER</th>\n",
       "      <th>ANZ_PERSONEN</th>\n",
       "      <th>ANZ_STATISTISCHE_HAUSHALTE</th>\n",
       "      <th>ANZ_TITEL</th>\n",
       "      <th>ARBEIT</th>\n",
       "      <th>BALLRAUM</th>\n",
       "      <th>CAMEO_DEUG_2015</th>\n",
       "      <th>CJT_GESAMTTYP</th>\n",
       "      <th>CJT_KATALOGNUTZER</th>\n",
       "      <th>CJT_TYP_1</th>\n",
       "      <th>CJT_TYP_2</th>\n",
       "      <th>CJT_TYP_3</th>\n",
       "      <th>CJT_TYP_4</th>\n",
       "      <th>CJT_TYP_5</th>\n",
       "      <th>CJT_TYP_6</th>\n",
       "      <th>D19_BANKEN_ANZ_12</th>\n",
       "      <th>D19_BANKEN_ANZ_24</th>\n",
       "      <th>D19_BANKEN_DATUM</th>\n",
       "      <th>D19_BANKEN_DIREKT</th>\n",
       "      <th>D19_BANKEN_GROSS</th>\n",
       "      <th>D19_BANKEN_LOKAL</th>\n",
       "      <th>D19_BANKEN_OFFLINE_DATUM</th>\n",
       "      <th>D19_BANKEN_ONLINE_DATUM</th>\n",
       "      <th>D19_BANKEN_ONLINE_QUOTE_12</th>\n",
       "      <th>D19_BANKEN_REST</th>\n",
       "      <th>D19_BEKLEIDUNG_GEH</th>\n",
       "      <th>D19_BEKLEIDUNG_REST</th>\n",
       "      <th>D19_BILDUNG</th>\n",
       "      <th>D19_BIO_OEKO</th>\n",
       "      <th>D19_BUCH_CD</th>\n",
       "      <th>D19_DIGIT_SERV</th>\n",
       "      <th>D19_DROGERIEARTIKEL</th>\n",
       "      <th>D19_ENERGIE</th>\n",
       "      <th>D19_FREIZEIT</th>\n",
       "      <th>D19_GARTEN</th>\n",
       "      <th>...</th>\n",
       "      <th>RELAT_AB</th>\n",
       "      <th>RETOURTYP_BK_S</th>\n",
       "      <th>RT_KEIN_ANREIZ</th>\n",
       "      <th>RT_SCHNAEPPCHEN</th>\n",
       "      <th>RT_UEBERGROESSE</th>\n",
       "      <th>SEMIO_DOM</th>\n",
       "      <th>SEMIO_ERL</th>\n",
       "      <th>SEMIO_FAM</th>\n",
       "      <th>SEMIO_KAEM</th>\n",
       "      <th>SEMIO_KRIT</th>\n",
       "      <th>SEMIO_KULT</th>\n",
       "      <th>SEMIO_LUST</th>\n",
       "      <th>SEMIO_MAT</th>\n",
       "      <th>SEMIO_PFLICHT</th>\n",
       "      <th>SEMIO_RAT</th>\n",
       "      <th>SEMIO_REL</th>\n",
       "      <th>SEMIO_SOZ</th>\n",
       "      <th>SEMIO_TRADV</th>\n",
       "      <th>SEMIO_VERT</th>\n",
       "      <th>SHOPPER_TYP</th>\n",
       "      <th>SOHO_KZ</th>\n",
       "      <th>STRUKTURTYP</th>\n",
       "      <th>UMFELD_ALT</th>\n",
       "      <th>UMFELD_JUNG</th>\n",
       "      <th>UNGLEICHENN_FLAG</th>\n",
       "      <th>VERS_TYP</th>\n",
       "      <th>VHA</th>\n",
       "      <th>VHN</th>\n",
       "      <th>VK_DHT4A</th>\n",
       "      <th>VK_DISTANZ</th>\n",
       "      <th>VK_ZG11</th>\n",
       "      <th>W_KEIT_KIND_HH</th>\n",
       "      <th>WOHNDAUER_2008</th>\n",
       "      <th>WOHNLAGE</th>\n",
       "      <th>ZABEOTYP</th>\n",
       "      <th>ANREDE_KZ</th>\n",
       "      <th>ALTERSKATEGORIE_GROB</th>\n",
       "      <th>PRAEGENDE_time</th>\n",
       "      <th>PRAEGENDE_avant</th>\n",
       "      <th>CUSTOMER</th>\n",
       "    </tr>\n",
       "    <tr>\n",
       "      <th>LNR</th>\n",
       "      <th></th>\n",
       "      <th></th>\n",
       "      <th></th>\n",
       "      <th></th>\n",
       "      <th></th>\n",
       "      <th></th>\n",
       "      <th></th>\n",
       "      <th></th>\n",
       "      <th></th>\n",
       "      <th></th>\n",
       "      <th></th>\n",
       "      <th></th>\n",
       "      <th></th>\n",
       "      <th></th>\n",
       "      <th></th>\n",
       "      <th></th>\n",
       "      <th></th>\n",
       "      <th></th>\n",
       "      <th></th>\n",
       "      <th></th>\n",
       "      <th></th>\n",
       "      <th></th>\n",
       "      <th></th>\n",
       "      <th></th>\n",
       "      <th></th>\n",
       "      <th></th>\n",
       "      <th></th>\n",
       "      <th></th>\n",
       "      <th></th>\n",
       "      <th></th>\n",
       "      <th></th>\n",
       "      <th></th>\n",
       "      <th></th>\n",
       "      <th></th>\n",
       "      <th></th>\n",
       "      <th></th>\n",
       "      <th></th>\n",
       "      <th></th>\n",
       "      <th></th>\n",
       "      <th></th>\n",
       "      <th></th>\n",
       "      <th></th>\n",
       "      <th></th>\n",
       "      <th></th>\n",
       "      <th></th>\n",
       "      <th></th>\n",
       "      <th></th>\n",
       "      <th></th>\n",
       "      <th></th>\n",
       "      <th></th>\n",
       "      <th></th>\n",
       "      <th></th>\n",
       "      <th></th>\n",
       "      <th></th>\n",
       "      <th></th>\n",
       "      <th></th>\n",
       "      <th></th>\n",
       "      <th></th>\n",
       "      <th></th>\n",
       "      <th></th>\n",
       "      <th></th>\n",
       "      <th></th>\n",
       "      <th></th>\n",
       "      <th></th>\n",
       "      <th></th>\n",
       "      <th></th>\n",
       "      <th></th>\n",
       "      <th></th>\n",
       "      <th></th>\n",
       "      <th></th>\n",
       "      <th></th>\n",
       "      <th></th>\n",
       "      <th></th>\n",
       "      <th></th>\n",
       "      <th></th>\n",
       "      <th></th>\n",
       "      <th></th>\n",
       "      <th></th>\n",
       "      <th></th>\n",
       "      <th></th>\n",
       "      <th></th>\n",
       "    </tr>\n",
       "  </thead>\n",
       "  <tbody>\n",
       "    <tr>\n",
       "      <th>139770</th>\n",
       "      <td>1.0</td>\n",
       "      <td>11.0</td>\n",
       "      <td>10.0</td>\n",
       "      <td>4.0</td>\n",
       "      <td>0.0</td>\n",
       "      <td>0.0</td>\n",
       "      <td>2.0</td>\n",
       "      <td>3.0</td>\n",
       "      <td>0.0</td>\n",
       "      <td>2.0</td>\n",
       "      <td>6.0</td>\n",
       "      <td>4.0</td>\n",
       "      <td>1.0</td>\n",
       "      <td>5.0</td>\n",
       "      <td>1.0</td>\n",
       "      <td>1.0</td>\n",
       "      <td>5.0</td>\n",
       "      <td>5.0</td>\n",
       "      <td>5.0</td>\n",
       "      <td>5.0</td>\n",
       "      <td>0</td>\n",
       "      <td>0</td>\n",
       "      <td>10</td>\n",
       "      <td>0</td>\n",
       "      <td>0</td>\n",
       "      <td>0</td>\n",
       "      <td>10</td>\n",
       "      <td>10</td>\n",
       "      <td>0.0</td>\n",
       "      <td>0</td>\n",
       "      <td>0</td>\n",
       "      <td>6</td>\n",
       "      <td>0</td>\n",
       "      <td>0</td>\n",
       "      <td>6</td>\n",
       "      <td>0</td>\n",
       "      <td>0</td>\n",
       "      <td>0</td>\n",
       "      <td>0</td>\n",
       "      <td>0</td>\n",
       "      <td>...</td>\n",
       "      <td>1.0</td>\n",
       "      <td>2.0</td>\n",
       "      <td>2.0</td>\n",
       "      <td>5.0</td>\n",
       "      <td>2.0</td>\n",
       "      <td>3</td>\n",
       "      <td>7</td>\n",
       "      <td>6</td>\n",
       "      <td>2</td>\n",
       "      <td>3</td>\n",
       "      <td>4</td>\n",
       "      <td>7</td>\n",
       "      <td>2</td>\n",
       "      <td>2</td>\n",
       "      <td>3</td>\n",
       "      <td>3</td>\n",
       "      <td>3</td>\n",
       "      <td>4</td>\n",
       "      <td>6</td>\n",
       "      <td>2.0</td>\n",
       "      <td>0.0</td>\n",
       "      <td>3.0</td>\n",
       "      <td>4.0</td>\n",
       "      <td>3.0</td>\n",
       "      <td>0.0</td>\n",
       "      <td>0.0</td>\n",
       "      <td>1.0</td>\n",
       "      <td>1.0</td>\n",
       "      <td>2.0</td>\n",
       "      <td>1.0</td>\n",
       "      <td>1.0</td>\n",
       "      <td>6.0</td>\n",
       "      <td>9.0</td>\n",
       "      <td>3.0</td>\n",
       "      <td>3</td>\n",
       "      <td>1</td>\n",
       "      <td>4</td>\n",
       "      <td>1.0</td>\n",
       "      <td>0.0</td>\n",
       "      <td>1</td>\n",
       "    </tr>\n",
       "    <tr>\n",
       "      <th>676736</th>\n",
       "      <td>1.0</td>\n",
       "      <td>11.0</td>\n",
       "      <td>11.0</td>\n",
       "      <td>75.0</td>\n",
       "      <td>0.0</td>\n",
       "      <td>0.0</td>\n",
       "      <td>2.0</td>\n",
       "      <td>66.0</td>\n",
       "      <td>0.0</td>\n",
       "      <td>3.0</td>\n",
       "      <td>6.0</td>\n",
       "      <td>9.0</td>\n",
       "      <td>1.0</td>\n",
       "      <td>5.0</td>\n",
       "      <td>2.0</td>\n",
       "      <td>2.0</td>\n",
       "      <td>5.0</td>\n",
       "      <td>5.0</td>\n",
       "      <td>5.0</td>\n",
       "      <td>5.0</td>\n",
       "      <td>0</td>\n",
       "      <td>0</td>\n",
       "      <td>10</td>\n",
       "      <td>0</td>\n",
       "      <td>0</td>\n",
       "      <td>0</td>\n",
       "      <td>10</td>\n",
       "      <td>10</td>\n",
       "      <td>0.0</td>\n",
       "      <td>0</td>\n",
       "      <td>0</td>\n",
       "      <td>0</td>\n",
       "      <td>0</td>\n",
       "      <td>0</td>\n",
       "      <td>6</td>\n",
       "      <td>0</td>\n",
       "      <td>0</td>\n",
       "      <td>0</td>\n",
       "      <td>0</td>\n",
       "      <td>0</td>\n",
       "      <td>...</td>\n",
       "      <td>3.0</td>\n",
       "      <td>5.0</td>\n",
       "      <td>3.0</td>\n",
       "      <td>2.0</td>\n",
       "      <td>1.0</td>\n",
       "      <td>2</td>\n",
       "      <td>4</td>\n",
       "      <td>6</td>\n",
       "      <td>3</td>\n",
       "      <td>5</td>\n",
       "      <td>5</td>\n",
       "      <td>6</td>\n",
       "      <td>6</td>\n",
       "      <td>5</td>\n",
       "      <td>5</td>\n",
       "      <td>4</td>\n",
       "      <td>6</td>\n",
       "      <td>4</td>\n",
       "      <td>5</td>\n",
       "      <td>1.0</td>\n",
       "      <td>0.0</td>\n",
       "      <td>3.0</td>\n",
       "      <td>2.0</td>\n",
       "      <td>4.0</td>\n",
       "      <td>0.0</td>\n",
       "      <td>0.0</td>\n",
       "      <td>0.0</td>\n",
       "      <td>4.0</td>\n",
       "      <td>6.0</td>\n",
       "      <td>7.0</td>\n",
       "      <td>4.0</td>\n",
       "      <td>6.0</td>\n",
       "      <td>9.0</td>\n",
       "      <td>4.0</td>\n",
       "      <td>3</td>\n",
       "      <td>1</td>\n",
       "      <td>3</td>\n",
       "      <td>2.0</td>\n",
       "      <td>0.0</td>\n",
       "      <td>0</td>\n",
       "    </tr>\n",
       "    <tr>\n",
       "      <th>724902</th>\n",
       "      <td>1.0</td>\n",
       "      <td>11.0</td>\n",
       "      <td>11.0</td>\n",
       "      <td>15.0</td>\n",
       "      <td>0.0</td>\n",
       "      <td>0.0</td>\n",
       "      <td>2.0</td>\n",
       "      <td>13.0</td>\n",
       "      <td>0.0</td>\n",
       "      <td>3.0</td>\n",
       "      <td>7.0</td>\n",
       "      <td>9.0</td>\n",
       "      <td>2.0</td>\n",
       "      <td>5.0</td>\n",
       "      <td>2.0</td>\n",
       "      <td>1.0</td>\n",
       "      <td>5.0</td>\n",
       "      <td>5.0</td>\n",
       "      <td>5.0</td>\n",
       "      <td>4.0</td>\n",
       "      <td>0</td>\n",
       "      <td>0</td>\n",
       "      <td>10</td>\n",
       "      <td>0</td>\n",
       "      <td>0</td>\n",
       "      <td>0</td>\n",
       "      <td>10</td>\n",
       "      <td>10</td>\n",
       "      <td>0.0</td>\n",
       "      <td>0</td>\n",
       "      <td>0</td>\n",
       "      <td>0</td>\n",
       "      <td>0</td>\n",
       "      <td>0</td>\n",
       "      <td>0</td>\n",
       "      <td>0</td>\n",
       "      <td>6</td>\n",
       "      <td>0</td>\n",
       "      <td>0</td>\n",
       "      <td>0</td>\n",
       "      <td>...</td>\n",
       "      <td>5.0</td>\n",
       "      <td>3.0</td>\n",
       "      <td>2.0</td>\n",
       "      <td>2.0</td>\n",
       "      <td>1.0</td>\n",
       "      <td>4</td>\n",
       "      <td>6</td>\n",
       "      <td>3</td>\n",
       "      <td>7</td>\n",
       "      <td>6</td>\n",
       "      <td>3</td>\n",
       "      <td>1</td>\n",
       "      <td>5</td>\n",
       "      <td>5</td>\n",
       "      <td>4</td>\n",
       "      <td>3</td>\n",
       "      <td>5</td>\n",
       "      <td>2</td>\n",
       "      <td>2</td>\n",
       "      <td>2.0</td>\n",
       "      <td>0.0</td>\n",
       "      <td>3.0</td>\n",
       "      <td>4.0</td>\n",
       "      <td>2.0</td>\n",
       "      <td>0.0</td>\n",
       "      <td>1.0</td>\n",
       "      <td>0.0</td>\n",
       "      <td>2.0</td>\n",
       "      <td>9.0</td>\n",
       "      <td>12.0</td>\n",
       "      <td>10.0</td>\n",
       "      <td>6.0</td>\n",
       "      <td>9.0</td>\n",
       "      <td>5.0</td>\n",
       "      <td>3</td>\n",
       "      <td>0</td>\n",
       "      <td>3</td>\n",
       "      <td>2.0</td>\n",
       "      <td>0.0</td>\n",
       "      <td>0</td>\n",
       "    </tr>\n",
       "    <tr>\n",
       "      <th>429055</th>\n",
       "      <td>1.0</td>\n",
       "      <td>NaN</td>\n",
       "      <td>0.0</td>\n",
       "      <td>10.0</td>\n",
       "      <td>0.0</td>\n",
       "      <td>0.0</td>\n",
       "      <td>0.0</td>\n",
       "      <td>7.0</td>\n",
       "      <td>0.0</td>\n",
       "      <td>4.0</td>\n",
       "      <td>7.0</td>\n",
       "      <td>8.0</td>\n",
       "      <td>1.0</td>\n",
       "      <td>5.0</td>\n",
       "      <td>2.0</td>\n",
       "      <td>2.0</td>\n",
       "      <td>5.0</td>\n",
       "      <td>5.0</td>\n",
       "      <td>5.0</td>\n",
       "      <td>4.0</td>\n",
       "      <td>0</td>\n",
       "      <td>0</td>\n",
       "      <td>10</td>\n",
       "      <td>0</td>\n",
       "      <td>0</td>\n",
       "      <td>0</td>\n",
       "      <td>10</td>\n",
       "      <td>10</td>\n",
       "      <td>NaN</td>\n",
       "      <td>0</td>\n",
       "      <td>0</td>\n",
       "      <td>0</td>\n",
       "      <td>0</td>\n",
       "      <td>0</td>\n",
       "      <td>0</td>\n",
       "      <td>0</td>\n",
       "      <td>0</td>\n",
       "      <td>0</td>\n",
       "      <td>0</td>\n",
       "      <td>0</td>\n",
       "      <td>...</td>\n",
       "      <td>5.0</td>\n",
       "      <td>5.0</td>\n",
       "      <td>2.0</td>\n",
       "      <td>5.0</td>\n",
       "      <td>1.0</td>\n",
       "      <td>5</td>\n",
       "      <td>7</td>\n",
       "      <td>2</td>\n",
       "      <td>6</td>\n",
       "      <td>6</td>\n",
       "      <td>1</td>\n",
       "      <td>7</td>\n",
       "      <td>3</td>\n",
       "      <td>2</td>\n",
       "      <td>2</td>\n",
       "      <td>1</td>\n",
       "      <td>1</td>\n",
       "      <td>1</td>\n",
       "      <td>2</td>\n",
       "      <td>1.0</td>\n",
       "      <td>0.0</td>\n",
       "      <td>3.0</td>\n",
       "      <td>4.0</td>\n",
       "      <td>3.0</td>\n",
       "      <td>0.0</td>\n",
       "      <td>0.0</td>\n",
       "      <td>0.0</td>\n",
       "      <td>2.0</td>\n",
       "      <td>10.0</td>\n",
       "      <td>10.0</td>\n",
       "      <td>7.0</td>\n",
       "      <td>NaN</td>\n",
       "      <td>9.0</td>\n",
       "      <td>4.0</td>\n",
       "      <td>3</td>\n",
       "      <td>0</td>\n",
       "      <td>4</td>\n",
       "      <td>1.0</td>\n",
       "      <td>0.0</td>\n",
       "      <td>0</td>\n",
       "    </tr>\n",
       "    <tr>\n",
       "      <th>43949</th>\n",
       "      <td>1.0</td>\n",
       "      <td>11.0</td>\n",
       "      <td>11.0</td>\n",
       "      <td>1.0</td>\n",
       "      <td>0.0</td>\n",
       "      <td>0.0</td>\n",
       "      <td>2.0</td>\n",
       "      <td>1.0</td>\n",
       "      <td>0.0</td>\n",
       "      <td>3.0</td>\n",
       "      <td>6.0</td>\n",
       "      <td>3.0</td>\n",
       "      <td>2.0</td>\n",
       "      <td>1.0</td>\n",
       "      <td>2.0</td>\n",
       "      <td>1.0</td>\n",
       "      <td>5.0</td>\n",
       "      <td>5.0</td>\n",
       "      <td>5.0</td>\n",
       "      <td>4.0</td>\n",
       "      <td>0</td>\n",
       "      <td>0</td>\n",
       "      <td>10</td>\n",
       "      <td>0</td>\n",
       "      <td>0</td>\n",
       "      <td>0</td>\n",
       "      <td>10</td>\n",
       "      <td>10</td>\n",
       "      <td>0.0</td>\n",
       "      <td>0</td>\n",
       "      <td>6</td>\n",
       "      <td>6</td>\n",
       "      <td>6</td>\n",
       "      <td>0</td>\n",
       "      <td>6</td>\n",
       "      <td>0</td>\n",
       "      <td>0</td>\n",
       "      <td>0</td>\n",
       "      <td>3</td>\n",
       "      <td>0</td>\n",
       "      <td>...</td>\n",
       "      <td>5.0</td>\n",
       "      <td>2.0</td>\n",
       "      <td>1.0</td>\n",
       "      <td>3.0</td>\n",
       "      <td>1.0</td>\n",
       "      <td>7</td>\n",
       "      <td>6</td>\n",
       "      <td>1</td>\n",
       "      <td>7</td>\n",
       "      <td>7</td>\n",
       "      <td>3</td>\n",
       "      <td>4</td>\n",
       "      <td>2</td>\n",
       "      <td>4</td>\n",
       "      <td>4</td>\n",
       "      <td>3</td>\n",
       "      <td>5</td>\n",
       "      <td>2</td>\n",
       "      <td>1</td>\n",
       "      <td>3.0</td>\n",
       "      <td>0.0</td>\n",
       "      <td>3.0</td>\n",
       "      <td>5.0</td>\n",
       "      <td>4.0</td>\n",
       "      <td>0.0</td>\n",
       "      <td>1.0</td>\n",
       "      <td>1.0</td>\n",
       "      <td>2.0</td>\n",
       "      <td>1.0</td>\n",
       "      <td>2.0</td>\n",
       "      <td>1.0</td>\n",
       "      <td>3.0</td>\n",
       "      <td>9.0</td>\n",
       "      <td>4.0</td>\n",
       "      <td>3</td>\n",
       "      <td>0</td>\n",
       "      <td>3</td>\n",
       "      <td>2.0</td>\n",
       "      <td>1.0</td>\n",
       "      <td>1</td>\n",
       "    </tr>\n",
       "  </tbody>\n",
       "</table>\n",
       "<p>5 rows × 352 columns</p>\n",
       "</div>"
      ],
      "text/plain": [
       "        AKT_DAT_KL  ALTER_HH  ...  PRAEGENDE_avant  CUSTOMER\n",
       "LNR                           ...                           \n",
       "139770         1.0      11.0  ...              0.0         1\n",
       "676736         1.0      11.0  ...              0.0         0\n",
       "724902         1.0      11.0  ...              0.0         0\n",
       "429055         1.0       NaN  ...              0.0         0\n",
       "43949          1.0      11.0  ...              1.0         1\n",
       "\n",
       "[5 rows x 352 columns]"
      ]
     },
     "metadata": {
      "tags": []
     },
     "output_type": "display_data"
    }
   ],
   "source": [
    "customers['CUSTOMER'] = 1\n",
    "azdias['CUSTOMER'] = 0\n",
    "df_total =  pd.concat([customers,azdias])\n",
    "display(df_total.sample(5))"
   ]
  },
  {
   "cell_type": "markdown",
   "metadata": {
    "colab_type": "text",
    "id": "hiDUHr9C08PT"
   },
   "source": [
    "## Removing Duplicates Rows"
   ]
  },
  {
   "cell_type": "code",
   "execution_count": 41,
   "metadata": {
    "colab": {},
    "colab_type": "code",
    "executionInfo": {
     "elapsed": 157194,
     "status": "ok",
     "timestamp": 1595333857746,
     "user": {
      "displayName": "Var Yemez",
      "photoUrl": "https://lh3.googleusercontent.com/a-/AOh14GgMZy0d63Fhv7Z7KWvi_JY5vUQU5pKuMaCpqpY2=s64",
      "userId": "14611479774278270033"
     },
     "user_tz": 240
    },
    "id": "GYliJTHl08PU"
   },
   "outputs": [],
   "source": [
    "df_total.drop_duplicates(inplace=True)"
   ]
  },
  {
   "cell_type": "markdown",
   "metadata": {
    "colab_type": "text",
    "id": "3nQd3quy08PX"
   },
   "source": [
    "## Missing Value"
   ]
  },
  {
   "cell_type": "markdown",
   "metadata": {
    "colab_type": "text",
    "id": "x6fb8sWP08PY"
   },
   "source": [
    "Which use to handle for missing values for these datasets?\n",
    "\n",
    "- Replace with **MODE**   : Viable solution in our situation\n",
    "- Replace with **MEAN**   : If Missing values  are filling with mean will introduce decimals into dataset and can effect efficiency.\n",
    "- Replace with **FFILLL** : This is a solution that does not apply to datasets.\n",
    "- Replace with **BFILL**  : This is a solution that does not apply to datasets."
   ]
  },
  {
   "cell_type": "markdown",
   "metadata": {
    "colab_type": "text",
    "id": "mBmzBETt08PY"
   },
   "source": [
    "#### Fillna With Mode"
   ]
  },
  {
   "cell_type": "code",
   "execution_count": 42,
   "metadata": {
    "colab": {
     "base_uri": "https://localhost:8080/",
     "height": 50
    },
    "colab_type": "code",
    "executionInfo": {
     "elapsed": 166385,
     "status": "ok",
     "timestamp": 1595333866960,
     "user": {
      "displayName": "Var Yemez",
      "photoUrl": "https://lh3.googleusercontent.com/a-/AOh14GgMZy0d63Fhv7Z7KWvi_JY5vUQU5pKuMaCpqpY2=s64",
      "userId": "14611479774278270033"
     },
     "user_tz": 240
    },
    "id": "WlQezSqD08PY",
    "outputId": "de70bd92-db0c-49a4-d955-31faa374c918"
   },
   "outputs": [
    {
     "name": "stdout",
     "output_type": "stream",
     "text": [
      "Number of NaN before fillna : 6310113\n",
      "Number of NaN after fillna  : 0\n"
     ]
    }
   ],
   "source": [
    "# Checking count of Null value\n",
    "print('Number of NaN before fillna : {}'.format(df_total.isnull().sum().sum()))\n",
    "df_total = df_total.fillna(df_total.mode().iloc[0])\n",
    "print('Number of NaN after fillna  : {}'.format(df_total.isnull().sum().sum()))"
   ]
  },
  {
   "cell_type": "markdown",
   "metadata": {
    "colab_type": "text",
    "id": "zHfbnXug08Pd"
   },
   "source": [
    "---\n",
    "<a id=\"3\"></a>\n",
    "# 3. Feature Engineering\n",
    "Let's identify important features to be used in the next processes."
   ]
  },
  {
   "cell_type": "markdown",
   "metadata": {
    "colab_type": "text",
    "id": "cOOg-GAQQwym"
   },
   "source": [
    "#### **Selection of Sample data**"
   ]
  },
  {
   "cell_type": "code",
   "execution_count": 43,
   "metadata": {
    "colab": {},
    "colab_type": "code",
    "executionInfo": {
     "elapsed": 167271,
     "status": "ok",
     "timestamp": 1595333867852,
     "user": {
      "displayName": "Var Yemez",
      "photoUrl": "https://lh3.googleusercontent.com/a-/AOh14GgMZy0d63Fhv7Z7KWvi_JY5vUQU5pKuMaCpqpY2=s64",
      "userId": "14611479774278270033"
     },
     "user_tz": 240
    },
    "id": "WYrmNV7G08Pe"
   },
   "outputs": [],
   "source": [
    "df_sample = df_total.sample(frac=0.2, replace=True, random_state=seed)"
   ]
  },
  {
   "cell_type": "markdown",
   "metadata": {
    "colab_type": "text",
    "id": "HBf2NWPU08Pi"
   },
   "source": [
    "#### Base model for finding Importanced Features\n",
    "First of all, I will use **`H2O library`** for finding **Importanced Features**."
   ]
  },
  {
   "cell_type": "code",
   "execution_count": 44,
   "metadata": {
    "colab": {},
    "colab_type": "code",
    "executionInfo": {
     "elapsed": 168024,
     "status": "ok",
     "timestamp": 1595333868613,
     "user": {
      "displayName": "Var Yemez",
      "photoUrl": "https://lh3.googleusercontent.com/a-/AOh14GgMZy0d63Fhv7Z7KWvi_JY5vUQU5pKuMaCpqpY2=s64",
      "userId": "14611479774278270033"
     },
     "user_tz": 240
    },
    "id": "G_qTPtjJ08Pk"
   },
   "outputs": [],
   "source": [
    "df_sample = df_sample.astype(dtype = {'CUSTOMER':'float'})"
   ]
  },
  {
   "cell_type": "code",
   "execution_count": 45,
   "metadata": {
    "colab": {
     "base_uri": "https://localhost:8080/",
     "height": 543
    },
    "colab_type": "code",
    "executionInfo": {
     "elapsed": 224248,
     "status": "ok",
     "timestamp": 1595333924851,
     "user": {
      "displayName": "Var Yemez",
      "photoUrl": "https://lh3.googleusercontent.com/a-/AOh14GgMZy0d63Fhv7Z7KWvi_JY5vUQU5pKuMaCpqpY2=s64",
      "userId": "14611479774278270033"
     },
     "user_tz": 240
    },
    "id": "NyA5wA2108Pq",
    "outputId": "13c96647-4abe-4855-f3e8-b8f302be1ab5"
   },
   "outputs": [
    {
     "name": "stdout",
     "output_type": "stream",
     "text": [
      "Checking whether there is an H2O instance running at http://localhost:54321 ..... not found.\n",
      "Attempting to start a local H2O server...\n",
      "  Java Version: openjdk version \"11.0.7\" 2020-04-14; OpenJDK Runtime Environment (build 11.0.7+10-post-Ubuntu-2ubuntu218.04); OpenJDK 64-Bit Server VM (build 11.0.7+10-post-Ubuntu-2ubuntu218.04, mixed mode, sharing)\n",
      "  Starting server from /usr/local/lib/python3.6/dist-packages/h2o/backend/bin/h2o.jar\n",
      "  Ice root: /tmp/tmppgtg8iko\n",
      "  JVM stdout: /tmp/tmppgtg8iko/h2o_unknownUser_started_from_python.out\n",
      "  JVM stderr: /tmp/tmppgtg8iko/h2o_unknownUser_started_from_python.err\n",
      "  Server is running at http://127.0.0.1:54321\n",
      "Connecting to H2O server at http://127.0.0.1:54321 ... successful.\n"
     ]
    },
    {
     "data": {
      "text/html": [
       "<div style=\"overflow:auto\"><table style=\"width:50%\"><tr><td>H2O_cluster_uptime:</td>\n",
       "<td>04 secs</td></tr>\n",
       "<tr><td>H2O_cluster_timezone:</td>\n",
       "<td>Etc/UTC</td></tr>\n",
       "<tr><td>H2O_data_parsing_timezone:</td>\n",
       "<td>UTC</td></tr>\n",
       "<tr><td>H2O_cluster_version:</td>\n",
       "<td>3.30.0.6</td></tr>\n",
       "<tr><td>H2O_cluster_version_age:</td>\n",
       "<td>20 days </td></tr>\n",
       "<tr><td>H2O_cluster_name:</td>\n",
       "<td>H2O_from_python_unknownUser_ceqyfo</td></tr>\n",
       "<tr><td>H2O_cluster_total_nodes:</td>\n",
       "<td>1</td></tr>\n",
       "<tr><td>H2O_cluster_free_memory:</td>\n",
       "<td>3.180 Gb</td></tr>\n",
       "<tr><td>H2O_cluster_total_cores:</td>\n",
       "<td>2</td></tr>\n",
       "<tr><td>H2O_cluster_allowed_cores:</td>\n",
       "<td>2</td></tr>\n",
       "<tr><td>H2O_cluster_status:</td>\n",
       "<td>accepting new members, healthy</td></tr>\n",
       "<tr><td>H2O_connection_url:</td>\n",
       "<td>http://127.0.0.1:54321</td></tr>\n",
       "<tr><td>H2O_connection_proxy:</td>\n",
       "<td>{\"http\": null, \"https\": null}</td></tr>\n",
       "<tr><td>H2O_internal_security:</td>\n",
       "<td>False</td></tr>\n",
       "<tr><td>H2O_API_Extensions:</td>\n",
       "<td>Amazon S3, XGBoost, Algos, AutoML, Core V3, TargetEncoder, Core V4</td></tr>\n",
       "<tr><td>Python_version:</td>\n",
       "<td>3.6.9 final</td></tr></table></div>"
      ],
      "text/plain": [
       "--------------------------  ------------------------------------------------------------------\n",
       "H2O_cluster_uptime:         04 secs\n",
       "H2O_cluster_timezone:       Etc/UTC\n",
       "H2O_data_parsing_timezone:  UTC\n",
       "H2O_cluster_version:        3.30.0.6\n",
       "H2O_cluster_version_age:    20 days\n",
       "H2O_cluster_name:           H2O_from_python_unknownUser_ceqyfo\n",
       "H2O_cluster_total_nodes:    1\n",
       "H2O_cluster_free_memory:    3.180 Gb\n",
       "H2O_cluster_total_cores:    2\n",
       "H2O_cluster_allowed_cores:  2\n",
       "H2O_cluster_status:         accepting new members, healthy\n",
       "H2O_connection_url:         http://127.0.0.1:54321\n",
       "H2O_connection_proxy:       {\"http\": null, \"https\": null}\n",
       "H2O_internal_security:      False\n",
       "H2O_API_Extensions:         Amazon S3, XGBoost, Algos, AutoML, Core V3, TargetEncoder, Core V4\n",
       "Python_version:             3.6.9 final\n",
       "--------------------------  ------------------------------------------------------------------"
      ]
     },
     "metadata": {
      "tags": []
     },
     "output_type": "display_data"
    },
    {
     "name": "stdout",
     "output_type": "stream",
     "text": [
      "Parse progress: |█████████████████████████████████████████████████████████| 100%\n"
     ]
    }
   ],
   "source": [
    "# Start model h2o\n",
    "h2o.init()\n",
    "\n",
    "# Convert a sample binary outcome train/test set into H2O\n",
    "hf = h2o.H2OFrame(df_sample)\n",
    "\n",
    "# For binary classification, response should be a factor\n",
    "hf['CUSTOMER']=hf['CUSTOMER'].asfactor()"
   ]
  },
  {
   "cell_type": "code",
   "execution_count": 46,
   "metadata": {
    "colab": {},
    "colab_type": "code",
    "executionInfo": {
     "elapsed": 224403,
     "status": "ok",
     "timestamp": 1595333925012,
     "user": {
      "displayName": "Var Yemez",
      "photoUrl": "https://lh3.googleusercontent.com/a-/AOh14GgMZy0d63Fhv7Z7KWvi_JY5vUQU5pKuMaCpqpY2=s64",
      "userId": "14611479774278270033"
     },
     "user_tz": 240
    },
    "id": "8ITFU0jsm9_2"
   },
   "outputs": [],
   "source": [
    "# Let's clear the cache\n",
    "azdias=customers=df_total=None"
   ]
  },
  {
   "cell_type": "code",
   "execution_count": 47,
   "metadata": {
    "colab": {},
    "colab_type": "code",
    "executionInfo": {
     "elapsed": 224396,
     "status": "ok",
     "timestamp": 1595333925014,
     "user": {
      "displayName": "Var Yemez",
      "photoUrl": "https://lh3.googleusercontent.com/a-/AOh14GgMZy0d63Fhv7Z7KWvi_JY5vUQU5pKuMaCpqpY2=s64",
      "userId": "14611479774278270033"
     },
     "user_tz": 240
    },
    "id": "SXacB4gV08Pu"
   },
   "outputs": [],
   "source": [
    "# Identify predictors and response\n",
    "label = ['CUSTOMER']\n",
    "label_train = label[0]\n",
    "label_train\n",
    "features_train = list(df_sample.columns.drop(label))"
   ]
  },
  {
   "cell_type": "code",
   "execution_count": 48,
   "metadata": {
    "colab": {},
    "colab_type": "code",
    "executionInfo": {
     "elapsed": 229443,
     "status": "ok",
     "timestamp": 1595333930069,
     "user": {
      "displayName": "Var Yemez",
      "photoUrl": "https://lh3.googleusercontent.com/a-/AOh14GgMZy0d63Fhv7Z7KWvi_JY5vUQU5pKuMaCpqpY2=s64",
      "userId": "14611479774278270033"
     },
     "user_tz": 240
    },
    "id": "_PKB-huY08Pz"
   },
   "outputs": [],
   "source": [
    "# Split of Data\n",
    "train, test = hf.split_frame(ratios=[0.8])"
   ]
  },
  {
   "cell_type": "code",
   "execution_count": 49,
   "metadata": {
    "colab": {
     "base_uri": "https://localhost:8080/",
     "height": 34
    },
    "colab_type": "code",
    "executionInfo": {
     "elapsed": 229425,
     "status": "ok",
     "timestamp": 1595333930070,
     "user": {
      "displayName": "Var Yemez",
      "photoUrl": "https://lh3.googleusercontent.com/a-/AOh14GgMZy0d63Fhv7Z7KWvi_JY5vUQU5pKuMaCpqpY2=s64",
      "userId": "14611479774278270033"
     },
     "user_tz": 240
    },
    "id": "mZ_1nBwAPpJh",
    "outputId": "668a24fc-3f27-49ac-f78e-ae6792cea2a0"
   },
   "outputs": [
    {
     "name": "stdout",
     "output_type": "stream",
     "text": [
      "Starting Modeling\n"
     ]
    }
   ],
   "source": [
    "try:\n",
    "    \n",
    "    my_gbm = h2o.load_model(\"../content/drive/My Drive/Colab Notebooks/model/GBM_model_python_1595091729587_1\")\n",
    "    my_rf = h2o.load_model(\"../content/drive/My Drive/Colab Notebooks/model/DRF_model_python_1595091729587_55\")\n",
    "    my_xgb = h2o.load_model(\"../content/drive/My Drive/Colab Notebooks/model/XGBoost_model_python_1595091729587_489\")\n",
    "    ensemble = h2o.load_model(\"../content/drive/My Drive/Colab Notebooks/model/ensemble\")\n",
    "    print('Loading models...')\n",
    "except:\n",
    "    print('Starting Modeling')\n",
    "    pass\n"
   ]
  },
  {
   "cell_type": "code",
   "execution_count": 50,
   "metadata": {
    "colab": {
     "base_uri": "https://localhost:8080/",
     "height": 34
    },
    "colab_type": "code",
    "executionInfo": {
     "elapsed": 380058,
     "status": "ok",
     "timestamp": 1595334080721,
     "user": {
      "displayName": "Var Yemez",
      "photoUrl": "https://lh3.googleusercontent.com/a-/AOh14GgMZy0d63Fhv7Z7KWvi_JY5vUQU5pKuMaCpqpY2=s64",
      "userId": "14611479774278270033"
     },
     "user_tz": 240
    },
    "id": "NpLflNMe08P3",
    "outputId": "67293fc8-a966-4084-e062-a937d7f60bf0"
   },
   "outputs": [
    {
     "name": "stdout",
     "output_type": "stream",
     "text": [
      "gbm Model Build progress: |███████████████████████████████████████████████| 100%\n"
     ]
    }
   ],
   "source": [
    "# Train and cross-validate a GB\n",
    "my_gbm = H2OGradientBoostingEstimator(distribution=\"bernoulli\",\n",
    "                                      ntrees=10,\n",
    "                                      max_depth=3,\n",
    "                                      min_rows=2,\n",
    "                                      learn_rate=0.2,\n",
    "                                      nfolds=5,\n",
    "                                      fold_assignment=\"Modulo\",\n",
    "                                      keep_cross_validation_predictions=True,\n",
    "                                      seed=1)\n",
    "my_gbm.train(x = features_train, y = label_train,training_frame = train)"
   ]
  },
  {
   "cell_type": "code",
   "execution_count": 51,
   "metadata": {
    "colab": {
     "base_uri": "https://localhost:8080/",
     "height": 34
    },
    "colab_type": "code",
    "executionInfo": {
     "elapsed": 3220902,
     "status": "ok",
     "timestamp": 1595336921584,
     "user": {
      "displayName": "Var Yemez",
      "photoUrl": "https://lh3.googleusercontent.com/a-/AOh14GgMZy0d63Fhv7Z7KWvi_JY5vUQU5pKuMaCpqpY2=s64",
      "userId": "14611479774278270033"
     },
     "user_tz": 240
    },
    "id": "41-L_b9j08P5",
    "outputId": "67bcf1ce-4f04-4450-acd3-89ac89809060"
   },
   "outputs": [
    {
     "name": "stdout",
     "output_type": "stream",
     "text": [
      "drf Model Build progress: |███████████████████████████████████████████████| 100%\n"
     ]
    }
   ],
   "source": [
    "# Train and cross-validate a RF\n",
    "my_rf = H2ORandomForestEstimator(ntrees=50,\n",
    "                                 nfolds=5,\n",
    "                                 fold_assignment=\"Modulo\",\n",
    "                                 keep_cross_validation_predictions=True,\n",
    "                                 seed=seed)\n",
    "my_rf.train(x = features_train, y = label_train, training_frame = train)"
   ]
  },
  {
   "cell_type": "code",
   "execution_count": 52,
   "metadata": {
    "colab": {
     "base_uri": "https://localhost:8080/",
     "height": 34
    },
    "colab_type": "code",
    "executionInfo": {
     "elapsed": 3559594,
     "status": "ok",
     "timestamp": 1595337260298,
     "user": {
      "displayName": "Var Yemez",
      "photoUrl": "https://lh3.googleusercontent.com/a-/AOh14GgMZy0d63Fhv7Z7KWvi_JY5vUQU5pKuMaCpqpY2=s64",
      "userId": "14611479774278270033"
     },
     "user_tz": 240
    },
    "id": "vrVnewRG08P-",
    "outputId": "f8344634-f566-430f-f607-215c5d2e4a4b"
   },
   "outputs": [
    {
     "name": "stdout",
     "output_type": "stream",
     "text": [
      "xgboost Model Build progress: |███████████████████████████████████████████| 100%\n"
     ]
    }
   ],
   "source": [
    "# Train and cross-validate a XGB\n",
    "my_xgb = H2OXGBoostEstimator(booster='dart',\n",
    "                             nfolds=5,\n",
    "                             fold_assignment=\"Modulo\",\n",
    "                             normalize_type=\"tree\",\n",
    "                             keep_cross_validation_predictions=True,\n",
    "                             ntrees = 40,\n",
    "                             max_depth = 4,\n",
    "                             learn_rate = 0.01,\n",
    "                             sample_rate = 0.8,\n",
    "                             col_sample_rate_per_tree = 0.8,\n",
    "                             min_rows = 3,\n",
    "                             seed = seed,\n",
    "                             )\n",
    "my_xgb.train(x = features_train, y = label_train, training_frame = train )"
   ]
  },
  {
   "cell_type": "code",
   "execution_count": 53,
   "metadata": {
    "colab": {
     "base_uri": "https://localhost:8080/",
     "height": 34
    },
    "colab_type": "code",
    "executionInfo": {
     "elapsed": 3928687,
     "status": "ok",
     "timestamp": 1595337629417,
     "user": {
      "displayName": "Var Yemez",
      "photoUrl": "https://lh3.googleusercontent.com/a-/AOh14GgMZy0d63Fhv7Z7KWvi_JY5vUQU5pKuMaCpqpY2=s64",
      "userId": "14611479774278270033"
     },
     "user_tz": 240
    },
    "id": "Pvt7bt3SPH19",
    "outputId": "a2d05b5f-9a62-4a21-8a77-e318f2c1a30f"
   },
   "outputs": [
    {
     "name": "stdout",
     "output_type": "stream",
     "text": [
      "xgboost Model Build progress: |███████████████████████████████████████████| 100%\n"
     ]
    }
   ],
   "source": [
    "# Chosen below parameters acquire best score for XGB after Grid Search with 48 variations.\n",
    "my_xgb_BP = H2OXGBoostEstimator(booster='dart',\n",
    "                             nfolds=5,\n",
    "                             fold_assignment=\"Modulo\",\n",
    "                             normalize_type=\"tree\",\n",
    "                             keep_cross_validation_predictions=True,\n",
    "                             ntrees = 40,\n",
    "                             max_depth = 8,\n",
    "                             learn_rate = 0.03,\n",
    "                             sample_rate = 0.7,\n",
    "                             col_sample_rate_per_tree = 0.3,\n",
    "                             min_rows = 3,\n",
    "                             seed = seed,\n",
    "                             )\n",
    "my_xgb_BP.train(x = features_train, y = label_train, training_frame = train )"
   ]
  },
  {
   "cell_type": "code",
   "execution_count": 56,
   "metadata": {
    "colab": {
     "base_uri": "https://localhost:8080/",
     "height": 34
    },
    "colab_type": "code",
    "id": "s_s9tN4AK5HQ",
    "outputId": "4cc4e6bf-5ff7-4716-89b4-4c843543253c"
   },
   "outputs": [
    {
     "name": "stdout",
     "output_type": "stream",
     "text": [
      "stackedensemble Model Build progress: |███████████████████████████████████| 100%\n"
     ]
    }
   ],
   "source": [
    "# Train a stacked ensemble using the GBM, RF and XGB above\n",
    "ensemble = H2OStackedEnsembleEstimator(model_id=\"ensemble\",\n",
    "                                       seed=seed,\n",
    "                                       keep_levelone_frame=True,\n",
    "                                       training_frame=train,\n",
    "                                       base_models=[my_gbm.model_id,\n",
    "                                                    my_rf.model_id,\n",
    "                                                    my_xgb.model_id,\n",
    "                                                    my_xgb_BP.model_id])\n",
    "ensemble.train(x = features_train, y = label_train,training_frame = train)"
   ]
  },
  {
   "cell_type": "markdown",
   "metadata": {
    "colab_type": "text",
    "id": "wqwuhN7t7hE-"
   },
   "source": [
    "### Some number of Result"
   ]
  },
  {
   "cell_type": "code",
   "execution_count": 55,
   "metadata": {
    "colab": {
     "base_uri": "https://localhost:8080/",
     "height": 1000
    },
    "colab_type": "code",
    "executionInfo": {
     "elapsed": 3932452,
     "status": "ok",
     "timestamp": 1595337633223,
     "user": {
      "displayName": "Var Yemez",
      "photoUrl": "https://lh3.googleusercontent.com/a-/AOh14GgMZy0d63Fhv7Z7KWvi_JY5vUQU5pKuMaCpqpY2=s64",
      "userId": "14611479774278270033"
     },
     "user_tz": 240
    },
    "id": "TY-ts2Bb08QW",
    "outputId": "e68ea678-2c35-44cc-ac92-7dc5e908e464",
    "scrolled": false
   },
   "outputs": [
    {
     "name": "stdout",
     "output_type": "stream",
     "text": [
      ">> > Model : GBM \n",
      "Confusion Matrix (Act/Pred) for max f1 @ threshold = 0.28154139091288805: \n"
     ]
    },
    {
     "data": {
      "text/html": [
       "<div>\n",
       "<style scoped>\n",
       "    .dataframe tbody tr th:only-of-type {\n",
       "        vertical-align: middle;\n",
       "    }\n",
       "\n",
       "    .dataframe tbody tr th {\n",
       "        vertical-align: top;\n",
       "    }\n",
       "\n",
       "    .dataframe thead th {\n",
       "        text-align: right;\n",
       "    }\n",
       "</style>\n",
       "<table border=\"1\" class=\"dataframe\">\n",
       "  <thead>\n",
       "    <tr style=\"text-align: right;\">\n",
       "      <th></th>\n",
       "      <th></th>\n",
       "      <th>0</th>\n",
       "      <th>1</th>\n",
       "      <th>Error</th>\n",
       "      <th>Rate</th>\n",
       "    </tr>\n",
       "  </thead>\n",
       "  <tbody>\n",
       "    <tr>\n",
       "      <th>0</th>\n",
       "      <td>0</td>\n",
       "      <td>121059.0</td>\n",
       "      <td>4588.0</td>\n",
       "      <td>0.0365</td>\n",
       "      <td>(4588.0/125647.0)</td>\n",
       "    </tr>\n",
       "    <tr>\n",
       "      <th>1</th>\n",
       "      <td>1</td>\n",
       "      <td>6496.0</td>\n",
       "      <td>15876.0</td>\n",
       "      <td>0.2904</td>\n",
       "      <td>(6496.0/22372.0)</td>\n",
       "    </tr>\n",
       "    <tr>\n",
       "      <th>2</th>\n",
       "      <td>Total</td>\n",
       "      <td>127555.0</td>\n",
       "      <td>20464.0</td>\n",
       "      <td>0.0749</td>\n",
       "      <td>(11084.0/148019.0)</td>\n",
       "    </tr>\n",
       "  </tbody>\n",
       "</table>\n",
       "</div>"
      ],
      "text/plain": [
       "                 0        1   Error                 Rate\n",
       "0      0  121059.0   4588.0  0.0365    (4588.0/125647.0)\n",
       "1      1    6496.0  15876.0  0.2904     (6496.0/22372.0)\n",
       "2  Total  127555.0  20464.0  0.0749   (11084.0/148019.0)"
      ]
     },
     "metadata": {
      "tags": []
     },
     "output_type": "display_data"
    },
    {
     "name": "stdout",
     "output_type": "stream",
     "text": [
      "\n",
      ">> > Model : DRF \n",
      "Confusion Matrix (Act/Pred) for max f1 @ threshold = 0.3864888486403119: \n"
     ]
    },
    {
     "data": {
      "text/html": [
       "<div>\n",
       "<style scoped>\n",
       "    .dataframe tbody tr th:only-of-type {\n",
       "        vertical-align: middle;\n",
       "    }\n",
       "\n",
       "    .dataframe tbody tr th {\n",
       "        vertical-align: top;\n",
       "    }\n",
       "\n",
       "    .dataframe thead th {\n",
       "        text-align: right;\n",
       "    }\n",
       "</style>\n",
       "<table border=\"1\" class=\"dataframe\">\n",
       "  <thead>\n",
       "    <tr style=\"text-align: right;\">\n",
       "      <th></th>\n",
       "      <th></th>\n",
       "      <th>0</th>\n",
       "      <th>1</th>\n",
       "      <th>Error</th>\n",
       "      <th>Rate</th>\n",
       "    </tr>\n",
       "  </thead>\n",
       "  <tbody>\n",
       "    <tr>\n",
       "      <th>0</th>\n",
       "      <td>0</td>\n",
       "      <td>119321.0</td>\n",
       "      <td>6326.0</td>\n",
       "      <td>0.0503</td>\n",
       "      <td>(6326.0/125647.0)</td>\n",
       "    </tr>\n",
       "    <tr>\n",
       "      <th>1</th>\n",
       "      <td>1</td>\n",
       "      <td>6033.0</td>\n",
       "      <td>16339.0</td>\n",
       "      <td>0.2697</td>\n",
       "      <td>(6033.0/22372.0)</td>\n",
       "    </tr>\n",
       "    <tr>\n",
       "      <th>2</th>\n",
       "      <td>Total</td>\n",
       "      <td>125354.0</td>\n",
       "      <td>22665.0</td>\n",
       "      <td>0.0835</td>\n",
       "      <td>(12359.0/148019.0)</td>\n",
       "    </tr>\n",
       "  </tbody>\n",
       "</table>\n",
       "</div>"
      ],
      "text/plain": [
       "                 0        1   Error                 Rate\n",
       "0      0  119321.0   6326.0  0.0503    (6326.0/125647.0)\n",
       "1      1    6033.0  16339.0  0.2697     (6033.0/22372.0)\n",
       "2  Total  125354.0  22665.0  0.0835   (12359.0/148019.0)"
      ]
     },
     "metadata": {
      "tags": []
     },
     "output_type": "display_data"
    },
    {
     "name": "stdout",
     "output_type": "stream",
     "text": [
      "\n",
      ">> > Model : XGBOOST \n",
      "Confusion Matrix (Act/Pred) for max f1 @ threshold = 0.4573097532870723: \n"
     ]
    },
    {
     "data": {
      "text/html": [
       "<div>\n",
       "<style scoped>\n",
       "    .dataframe tbody tr th:only-of-type {\n",
       "        vertical-align: middle;\n",
       "    }\n",
       "\n",
       "    .dataframe tbody tr th {\n",
       "        vertical-align: top;\n",
       "    }\n",
       "\n",
       "    .dataframe thead th {\n",
       "        text-align: right;\n",
       "    }\n",
       "</style>\n",
       "<table border=\"1\" class=\"dataframe\">\n",
       "  <thead>\n",
       "    <tr style=\"text-align: right;\">\n",
       "      <th></th>\n",
       "      <th></th>\n",
       "      <th>0</th>\n",
       "      <th>1</th>\n",
       "      <th>Error</th>\n",
       "      <th>Rate</th>\n",
       "    </tr>\n",
       "  </thead>\n",
       "  <tbody>\n",
       "    <tr>\n",
       "      <th>0</th>\n",
       "      <td>0</td>\n",
       "      <td>121626.0</td>\n",
       "      <td>4021.0</td>\n",
       "      <td>0.032</td>\n",
       "      <td>(4021.0/125647.0)</td>\n",
       "    </tr>\n",
       "    <tr>\n",
       "      <th>1</th>\n",
       "      <td>1</td>\n",
       "      <td>6667.0</td>\n",
       "      <td>15705.0</td>\n",
       "      <td>0.298</td>\n",
       "      <td>(6667.0/22372.0)</td>\n",
       "    </tr>\n",
       "    <tr>\n",
       "      <th>2</th>\n",
       "      <td>Total</td>\n",
       "      <td>128293.0</td>\n",
       "      <td>19726.0</td>\n",
       "      <td>0.0722</td>\n",
       "      <td>(10688.0/148019.0)</td>\n",
       "    </tr>\n",
       "  </tbody>\n",
       "</table>\n",
       "</div>"
      ],
      "text/plain": [
       "                 0        1   Error                 Rate\n",
       "0      0  121626.0   4021.0   0.032    (4021.0/125647.0)\n",
       "1      1    6667.0  15705.0   0.298     (6667.0/22372.0)\n",
       "2  Total  128293.0  19726.0  0.0722   (10688.0/148019.0)"
      ]
     },
     "metadata": {
      "tags": []
     },
     "output_type": "display_data"
    },
    {
     "name": "stdout",
     "output_type": "stream",
     "text": [
      "\n",
      ">> > Model : XGBOOST \n",
      "Confusion Matrix (Act/Pred) for max f1 @ threshold = 0.41923905540220807: \n"
     ]
    },
    {
     "data": {
      "text/html": [
       "<div>\n",
       "<style scoped>\n",
       "    .dataframe tbody tr th:only-of-type {\n",
       "        vertical-align: middle;\n",
       "    }\n",
       "\n",
       "    .dataframe tbody tr th {\n",
       "        vertical-align: top;\n",
       "    }\n",
       "\n",
       "    .dataframe thead th {\n",
       "        text-align: right;\n",
       "    }\n",
       "</style>\n",
       "<table border=\"1\" class=\"dataframe\">\n",
       "  <thead>\n",
       "    <tr style=\"text-align: right;\">\n",
       "      <th></th>\n",
       "      <th></th>\n",
       "      <th>0</th>\n",
       "      <th>1</th>\n",
       "      <th>Error</th>\n",
       "      <th>Rate</th>\n",
       "    </tr>\n",
       "  </thead>\n",
       "  <tbody>\n",
       "    <tr>\n",
       "      <th>0</th>\n",
       "      <td>0</td>\n",
       "      <td>120874.0</td>\n",
       "      <td>4773.0</td>\n",
       "      <td>0.038</td>\n",
       "      <td>(4773.0/125647.0)</td>\n",
       "    </tr>\n",
       "    <tr>\n",
       "      <th>1</th>\n",
       "      <td>1</td>\n",
       "      <td>5898.0</td>\n",
       "      <td>16474.0</td>\n",
       "      <td>0.2636</td>\n",
       "      <td>(5898.0/22372.0)</td>\n",
       "    </tr>\n",
       "    <tr>\n",
       "      <th>2</th>\n",
       "      <td>Total</td>\n",
       "      <td>126772.0</td>\n",
       "      <td>21247.0</td>\n",
       "      <td>0.0721</td>\n",
       "      <td>(10671.0/148019.0)</td>\n",
       "    </tr>\n",
       "  </tbody>\n",
       "</table>\n",
       "</div>"
      ],
      "text/plain": [
       "                 0        1   Error                 Rate\n",
       "0      0  120874.0   4773.0   0.038    (4773.0/125647.0)\n",
       "1      1    5898.0  16474.0  0.2636     (5898.0/22372.0)\n",
       "2  Total  126772.0  21247.0  0.0721   (10671.0/148019.0)"
      ]
     },
     "metadata": {
      "tags": []
     },
     "output_type": "display_data"
    },
    {
     "name": "stdout",
     "output_type": "stream",
     "text": [
      "\n",
      ">> > Model : STACKEDENSEMBLE \n",
      "Confusion Matrix (Act/Pred) for max f1 @ threshold = 0.33599342917563524: \n"
     ]
    },
    {
     "data": {
      "text/html": [
       "<div>\n",
       "<style scoped>\n",
       "    .dataframe tbody tr th:only-of-type {\n",
       "        vertical-align: middle;\n",
       "    }\n",
       "\n",
       "    .dataframe tbody tr th {\n",
       "        vertical-align: top;\n",
       "    }\n",
       "\n",
       "    .dataframe thead th {\n",
       "        text-align: right;\n",
       "    }\n",
       "</style>\n",
       "<table border=\"1\" class=\"dataframe\">\n",
       "  <thead>\n",
       "    <tr style=\"text-align: right;\">\n",
       "      <th></th>\n",
       "      <th></th>\n",
       "      <th>0</th>\n",
       "      <th>1</th>\n",
       "      <th>Error</th>\n",
       "      <th>Rate</th>\n",
       "    </tr>\n",
       "  </thead>\n",
       "  <tbody>\n",
       "    <tr>\n",
       "      <th>0</th>\n",
       "      <td>0</td>\n",
       "      <td>8277.0</td>\n",
       "      <td>114.0</td>\n",
       "      <td>0.0136</td>\n",
       "      <td>(114.0/8391.0)</td>\n",
       "    </tr>\n",
       "    <tr>\n",
       "      <th>1</th>\n",
       "      <td>1</td>\n",
       "      <td>25.0</td>\n",
       "      <td>1548.0</td>\n",
       "      <td>0.0159</td>\n",
       "      <td>(25.0/1573.0)</td>\n",
       "    </tr>\n",
       "    <tr>\n",
       "      <th>2</th>\n",
       "      <td>Total</td>\n",
       "      <td>8302.0</td>\n",
       "      <td>1662.0</td>\n",
       "      <td>0.014</td>\n",
       "      <td>(139.0/9964.0)</td>\n",
       "    </tr>\n",
       "  </tbody>\n",
       "</table>\n",
       "</div>"
      ],
      "text/plain": [
       "               0       1   Error             Rate\n",
       "0      0  8277.0   114.0  0.0136   (114.0/8391.0)\n",
       "1      1    25.0  1548.0  0.0159    (25.0/1573.0)\n",
       "2  Total  8302.0  1662.0   0.014   (139.0/9964.0)"
      ]
     },
     "metadata": {
      "tags": []
     },
     "output_type": "display_data"
    },
    {
     "name": "stdout",
     "output_type": "stream",
     "text": [
      "\n"
     ]
    },
    {
     "data": {
      "text/html": [
       "<div>\n",
       "<style scoped>\n",
       "    .dataframe tbody tr th:only-of-type {\n",
       "        vertical-align: middle;\n",
       "    }\n",
       "\n",
       "    .dataframe tbody tr th {\n",
       "        vertical-align: top;\n",
       "    }\n",
       "\n",
       "    .dataframe thead th {\n",
       "        text-align: right;\n",
       "    }\n",
       "</style>\n",
       "<table border=\"1\" class=\"dataframe\">\n",
       "  <thead>\n",
       "    <tr style=\"text-align: right;\">\n",
       "      <th></th>\n",
       "      <th>gbm</th>\n",
       "      <th>drf</th>\n",
       "      <th>xgboost</th>\n",
       "      <th>stackedensemble</th>\n",
       "    </tr>\n",
       "  </thead>\n",
       "  <tbody>\n",
       "    <tr>\n",
       "      <th>Accuracy</th>\n",
       "      <td>0.926888</td>\n",
       "      <td>0.920274</td>\n",
       "      <td>0.929043</td>\n",
       "      <td>0.986150</td>\n",
       "    </tr>\n",
       "    <tr>\n",
       "      <th>AUC Score</th>\n",
       "      <td>0.929944</td>\n",
       "      <td>0.932689</td>\n",
       "      <td>0.945892</td>\n",
       "      <td>0.998671</td>\n",
       "    </tr>\n",
       "    <tr>\n",
       "      <th>AUC-pr Score</th>\n",
       "      <td>0.757669</td>\n",
       "      <td>0.775269</td>\n",
       "      <td>0.801327</td>\n",
       "      <td>0.992693</td>\n",
       "    </tr>\n",
       "    <tr>\n",
       "      <th>Recall</th>\n",
       "      <td>0.027004</td>\n",
       "      <td>0.000006</td>\n",
       "      <td>0.151395</td>\n",
       "      <td>0.184207</td>\n",
       "    </tr>\n",
       "  </tbody>\n",
       "</table>\n",
       "</div>"
      ],
      "text/plain": [
       "                   gbm       drf   xgboost  stackedensemble\n",
       "Accuracy      0.926888  0.920274  0.929043         0.986150\n",
       "AUC Score     0.929944  0.932689  0.945892         0.998671\n",
       "AUC-pr Score  0.757669  0.775269  0.801327         0.992693\n",
       "Recall        0.027004  0.000006  0.151395         0.184207"
      ]
     },
     "execution_count": 55,
     "metadata": {
      "tags": []
     },
     "output_type": "execute_result"
    }
   ],
   "source": [
    "models = [my_gbm, my_rf, my_xgb, my_xgb_BP, ensemble]\n",
    "result_d={}\n",
    "for model in models:\n",
    "    print('>> > Model :',model.algo.upper(), model.confusion_matrix())\n",
    "    result_d[model.algo] = {'Accuracy':model.accuracy()[0][1],'AUC Score':model.auc(),'AUC-pr Score':model.aucpr(), 'Recall':model.recall()[0][0]}\n",
    "pd.DataFrame(result_d)"
   ]
  },
  {
   "cell_type": "markdown",
   "metadata": {
    "colab": {},
    "colab_type": "code",
    "executionInfo": {
     "elapsed": 3932447,
     "status": "ok",
     "timestamp": 1595337633225,
     "user": {
      "displayName": "Var Yemez",
      "photoUrl": "https://lh3.googleusercontent.com/a-/AOh14GgMZy0d63Fhv7Z7KWvi_JY5vUQU5pKuMaCpqpY2=s64",
      "userId": "14611479774278270033"
     },
     "user_tz": 240
    },
    "id": "xGFdwbkM08QY"
   },
   "source": [
    "#### Identify the important features"
   ]
  },
  {
   "cell_type": "code",
   "execution_count": 56,
   "metadata": {
    "colab": {
     "base_uri": "https://localhost:8080/",
     "height": 34
    },
    "colab_type": "code",
    "executionInfo": {
     "elapsed": 3932592,
     "status": "ok",
     "timestamp": 1595337633390,
     "user": {
      "displayName": "Var Yemez",
      "photoUrl": "https://lh3.googleusercontent.com/a-/AOh14GgMZy0d63Fhv7Z7KWvi_JY5vUQU5pKuMaCpqpY2=s64",
      "userId": "14611479774278270033"
     },
     "user_tz": 240
    },
    "id": "o44Lnl8g_uqb",
    "outputId": "550bca7d-8ad5-4116-9240-789f365f7166"
   },
   "outputs": [
    {
     "data": {
      "text/plain": [
       "(57, 1)"
      ]
     },
     "execution_count": 56,
     "metadata": {
      "tags": []
     },
     "output_type": "execute_result"
    }
   ],
   "source": [
    "# Identify the important features\n",
    "\n",
    "# Extracting columns from models by percentage scores\n",
    "features_gbm = h2o.get_model(ensemble.base_models[0]).varimp(use_pandas=True)[['variable', 'percentage']]\n",
    "features_rf = h2o.get_model(ensemble.base_models[1]).varimp(use_pandas=True)[['variable', 'percentage']]\n",
    "features_xgb = h2o.get_model(ensemble.base_models[2]).varimp(use_pandas=True)[['variable', 'percentage']]\n",
    "features_xgb_BP = h2o.get_model(ensemble.base_models[3]).varimp(use_pandas=True)[['variable', 'percentage']]\n",
    "\n",
    "# Weeding out low percentages\n",
    "mostimp_features_gbm = set(features_gbm['variable'][features_gbm['percentage']>0].values.tolist())\n",
    "mostimp_features_rf = set(features_rf['variable'][features_rf['percentage']>0.002].values.tolist())\n",
    "mostimp_features_xgb = set(features_xgb['variable'][features_xgb['percentage']>0].values.tolist())\n",
    "mostimp_features_xgb_BP = set(features_xgb_BP['variable'][features_xgb_BP['percentage']>0.001].values.tolist())\n",
    "\n",
    "# Finding the most repeated feature in list that comes from models\n",
    "dic = {}\n",
    "for i in mostimp_features_rf:\n",
    "    dic[i]=1\n",
    "\n",
    "for j in [mostimp_features_xgb_BP, mostimp_features_xgb, mostimp_features_gbm]:\n",
    "    for i in j:\n",
    "        if i in dic:\n",
    "            dic[i] = dic[i]+1\n",
    "        else:\n",
    "            dic[i] = 1\n",
    "most_imp_features = pd.DataFrame(dic.values(), index=dic.keys()).sort_values(by=0, ascending=False)\n",
    "most_imp_features = most_imp_features[most_imp_features[0]>=2]\n",
    "most_imp_features.shape"
   ]
  },
  {
   "cell_type": "markdown",
   "metadata": {
    "colab_type": "text",
    "id": "8uIX5oz85tFi"
   },
   "source": [
    "\n",
    "\n",
    "---\n",
    "### **Saving**\n",
    "\n"
   ]
  },
  {
   "cell_type": "code",
   "execution_count": 57,
   "metadata": {
    "colab": {},
    "colab_type": "code",
    "executionInfo": {
     "elapsed": 3933348,
     "status": "ok",
     "timestamp": 1595337634152,
     "user": {
      "displayName": "Var Yemez",
      "photoUrl": "https://lh3.googleusercontent.com/a-/AOh14GgMZy0d63Fhv7Z7KWvi_JY5vUQU5pKuMaCpqpY2=s64",
      "userId": "14611479774278270033"
     },
     "user_tz": 240
    },
    "id": "duw32G1wgmR_"
   },
   "outputs": [],
   "source": [
    "# Save Most Important Features all models\n",
    "pd.DataFrame(mostimp_features_gbm).to_csv('../content/drive/My Drive/Colab Notebooks/model/most_imp_features_gbm.csv', index=False)\n",
    "pd.DataFrame(mostimp_features_rf).to_csv('../content/drive/My Drive/Colab Notebooks/model/most_imp_features_rf.csv', index=False)\n",
    "pd.DataFrame(mostimp_features_xgb).to_csv('../content/drive/My Drive/Colab Notebooks/model/most_imp_features_xgb.csv', index=False)\n",
    "pd.DataFrame(mostimp_features_xgb_BP).to_csv('../content/drive/My Drive/Colab Notebooks/model/most_imp_features_xgb.csv', index=False)\n",
    "pd.DataFrame(most_imp_features).to_csv('../content/drive/My Drive/Colab Notebooks/model/most_imp_features.csv', index=False)\n",
    "\n"
   ]
  },
  {
   "cell_type": "code",
   "execution_count": 58,
   "metadata": {
    "colab": {
     "base_uri": "https://localhost:8080/",
     "height": 101
    },
    "colab_type": "code",
    "executionInfo": {
     "elapsed": 3934255,
     "status": "ok",
     "timestamp": 1595337635086,
     "user": {
      "displayName": "Var Yemez",
      "photoUrl": "https://lh3.googleusercontent.com/a-/AOh14GgMZy0d63Fhv7Z7KWvi_JY5vUQU5pKuMaCpqpY2=s64",
      "userId": "14611479774278270033"
     },
     "user_tz": 240
    },
    "id": "p3_7r1X9_8ab",
    "outputId": "4e5152e6-e4b5-49ae-cdbd-ddea967bcfd7"
   },
   "outputs": [
    {
     "name": "stdout",
     "output_type": "stream",
     "text": [
      "/content/drive/My Drive/Colab Notebooks/model/GBM_model_python_1595333870331_1\n",
      "/content/drive/My Drive/Colab Notebooks/model/DRF_model_python_1595333870331_51\n",
      "/content/drive/My Drive/Colab Notebooks/model/XGBoost_model_python_1595333870331_495\n",
      "/content/drive/My Drive/Colab Notebooks/model/XGBoost_model_python_1595333870331_560\n",
      "/content/drive/My Drive/Colab Notebooks/model/ensemble\n"
     ]
    }
   ],
   "source": [
    "models = [my_gbm, my_rf, my_xgb, my_xgb_BP, ensemble]\n",
    "models_path={}\n",
    "for model in models:\n",
    "    # save the model\n",
    "    model_path = h2o.save_model(model=model, path=\"../content/drive/My Drive/Colab Notebooks/model\", force=True)\n",
    "    models_path[model]=models_path\n",
    "    print (model_path)\n",
    "\n",
    "    # load the model\n",
    "    #saved_model = h2o.load_model(model_path)\n",
    "    #my_gbm = h2o.load_model(\"../content/drive/My Drive/Colab Notebooks/model/GBM_model_python_1595091729587_1\")\n",
    "    #my_rf = h2o.load_model(\"../content/drive/My Drive/Colab Notebooks/model/DRF_model_python_1595091729587_55\")\n",
    "   # my_xgb = h2o.load_model(\"../content/drive/My Drive/Colab Notebooks/model/XGBoost_model_python_1595091729587_489)\n",
    "    #ensemble = h2o.load_model(\"../content/drive/My Drive/Colab Notebooks/model/ensemble\")\n",
    "\n",
    "    # download the model built above to your local machine\n",
    "    #my_local_model = h2o.download_model(model, path=\"D:\\DS_Document\\Data_Projects\\DS_Project_by_UdaCity\\Capstone-Arvato\\Last\\model\")\n",
    "\n",
    "    # upload the model that you just downloded above to the H2O cluster\n",
    "    #uploaded_model = h2o.upload_model(my_local_model)"
   ]
  },
  {
   "cell_type": "markdown",
   "metadata": {
    "colab_type": "text",
    "id": "v33Q8J6e7GHu"
   },
   "source": [
    "### **Plot of Features Importance**"
   ]
  },
  {
   "cell_type": "code",
   "execution_count": 59,
   "metadata": {
    "colab": {
     "base_uri": "https://localhost:8080/",
     "height": 1000
    },
    "colab_type": "code",
    "executionInfo": {
     "elapsed": 3936638,
     "status": "ok",
     "timestamp": 1595337637486,
     "user": {
      "displayName": "Var Yemez",
      "photoUrl": "https://lh3.googleusercontent.com/a-/AOh14GgMZy0d63Fhv7Z7KWvi_JY5vUQU5pKuMaCpqpY2=s64",
      "userId": "14611479774278270033"
     },
     "user_tz": 240
    },
    "id": "Vjhg6cKUQGvC",
    "outputId": "d74d7816-a3fa-4a0f-d0ab-fadf2856ce67"
   },
   "outputs": [
    {
     "data": {
      "image/png": "[encoded data removed]",
      "text/plain": [
       "<Figure size 1296x1296 with 4 Axes>"
      ]
     },
     "metadata": {
      "needs_background": "light",
      "tags": []
     },
     "output_type": "display_data"
    }
   ],
   "source": [
    "# Plot of Features Importance\n",
    "\n",
    "ecolor='#138FAD'\n",
    "bcolor='#95EC00'\n",
    "becolor='#56781E'\n",
    "plt.tight_layout \n",
    "            \n",
    "# Figure size-title for Plot \n",
    "plt.subplots(figsize=(18,18))\n",
    "plt.suptitle(\"Rank of Features Importance  (%)\",fontsize = 14)  \n",
    "i=411\n",
    "plt.subplots_adjust(hspace=0.95, top=0.95)\n",
    "for model in ensemble.base_models:\n",
    "    plt.subplot(i)\n",
    "    i+=1\n",
    "    variable = h2o.get_model(model).varimp(use_pandas=True)[['variable', 'percentage']]\n",
    "    y = np.arange(len(variable['percentage'].head(25)))\n",
    "    bars = variable['variable']\n",
    "    height = variable['percentage'].head(25)\n",
    "    plt.bar(y, height*100, edgecolor=becolor, color=bcolor, alpha=0.5 )\n",
    "    labels = bars\n",
    "    plt.title(model.split('_p')[0])\n",
    "    plt.xticks(y, labels, rotation=90)\n",
    "    plt.ylabel('Important_Rank (%)', size=9)\n",
    "    plt.show;"
   ]
  },
  {
   "cell_type": "markdown",
   "metadata": {
    "colab": {},
    "colab_type": "code",
    "executionInfo": {
     "elapsed": 3936637,
     "status": "ok",
     "timestamp": 1595337637488,
     "user": {
      "displayName": "Var Yemez",
      "photoUrl": "https://lh3.googleusercontent.com/a-/AOh14GgMZy0d63Fhv7Z7KWvi_JY5vUQU5pKuMaCpqpY2=s64",
      "userId": "14611479774278270033"
     },
     "user_tz": 240
    },
    "id": "WWCCVLmGS297"
   },
   "source": [
    "---\n",
    "<a id=\"4\"> </a>\n",
    "# 4. Conclusion\n",
    "Using 4 different models, we tried to identify the important ones in 366 features. After examining the scores of the columns I obtained from each model, I found **57 important** features. In the next stages, these **57 features will be used.**"
   ]
  }
 ],
 "metadata": {
  "colab": {
   "collapsed_sections": [],
   "name": "Copy of 001_PRE.ipynb",
   "provenance": [
    {
     "file_id": "1-LR1gMx3L-BncvQGvRn_u7fVC44utkTy",
     "timestamp": 1595282572914
    }
   ],
   "toc_visible": true
  },
  "kernelspec": {
   "display_name": "Python 3",
   "language": "python",
   "name": "python3"
  },
  "language_info": {
   "codemirror_mode": {
    "name": "ipython",
    "version": 3
   },
   "file_extension": ".py",
   "mimetype": "text/x-python",
   "name": "python",
   "nbconvert_exporter": "python",
   "pygments_lexer": "ipython3",
   "version": "3.7.6"
  }
 },
 "nbformat": 4,
 "nbformat_minor": 1
}
