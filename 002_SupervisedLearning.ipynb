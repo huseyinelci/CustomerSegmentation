{
 "cells": [
  {
   "cell_type": "markdown",
   "metadata": {},
   "source": [
    "<img src=\"https://github.com/huseyinelci2000/CustomerSegmentation/blob/master/Last/image/022.png?raw=true\" width=\"100%\">"
   ]
  },
  {
   "cell_type": "markdown",
   "metadata": {},
   "source": [
    "# PART2: Supervised Learning\n",
    "\n",
    "The purpose of this part is to train an algorithm to be able to find customers who will respond positive to a mailout campaign.\n",
    "Did to apply Supervised Learning to investigate **MAILOUT-TRAIN** and **MAILOUT-TEST** datasets to predict a person became a customer or not of **the mail-order company following the campaign**.\n",
    "The model of the algorithm is chosen with the help of learning curves and the best parameters."
   ]
  },
  {
   "cell_type": "markdown",
   "metadata": {
    "colab_type": "text",
    "id": "AbIBg__WbT7_"
   },
   "source": [
    "---\n",
    "\n",
    "<a id=\"1\"></a>\n",
    "# 1. Load the datas and Import Libraries\n",
    "\n",
    "<a id=\"2\"></a>\n",
    "#### Summary about datas\n",
    "The first step in this process is to read all the data from the different sources and check if this data have correct formats.\n",
    "\n",
    "The data and sources to read in this project are four:\n",
    "\n",
    "- **`Udacity_AZDIAS_052018.csv`**: <br>Demographics data for the general population of Germany; 891 211 persons (rows) x 366 features (columns).\n",
    "- **`Udacity_CUSTOMERS_052018.csv`**: <br>Demographics data for customers of a mail-order company; 191 652 persons (rows) x 369 features (columns).\n",
    "- **`Udacity_MAILOUT_052018_TRAIN.csv`**: <br>Demographics data for individuals who were targets of a marketing campaign; 42 982 persons (rows) x 367 (columns).\n",
    "- **`Udacity_MAILOUT_052018_TEST.csv`**:<br> Demographics data for individuals who were targets of a marketing campaign; 42 833 persons (rows) x 366 (columns).\n"
   ]
  },
  {
   "cell_type": "markdown",
   "metadata": {},
   "source": [
    "#### Choose Platform"
   ]
  },
  {
   "cell_type": "code",
   "execution_count": 1,
   "metadata": {
    "colab": {
     "base_uri": "https://localhost:8080/",
     "height": 34
    },
    "colab_type": "code",
    "id": "18F44E3XjPFo",
    "outputId": "6f1c1638-5c4e-4632-f94b-b633b6d4061a"
   },
   "outputs": [],
   "source": [
    "use_colab=0  # When you want to use COLAB, assign 1 to use_colab\n",
    "if use_colab==1:\n",
    "    # Use Colab\n",
    "    # Connecting with Google Drive\n",
    "    from google.colab import drive\n",
    "    drive.mount('/content/drive')  #Drive a baglanmak icin kullanilir\n",
    "    #drive.flush_and_unmount()   #Drive dan baglantiyi kesmek icin kullanilir\n",
    "    \n",
    "    # Connecting to Path\n",
    "    import sys\n",
    "    sys.path.insert(0,'/content/drive/My Drive/Colab Notebooks')\n",
    "    \n",
    "    # Install Some Library\n",
    "    !pip install catboost\n",
    "    !pip install category_encoders\n",
    "    !pip install yellowbrick\n",
    "\n",
    "    # Files with Path of Data from Colab\n",
    "    attribute_file = '../content/drive/My Drive/Studying_Data/Last/data/DIAS Attributes - Values 2017.xlsx'\n",
    "    train_file = '../content/drive/My Drive/Studying_Data/Last/data/mailout_train'\n",
    "    test_file = '../content/drive/My Drive/Studying_Data/Last/data/mailout_test'\n",
    "else:\n",
    "    # Use data from My Local\n",
    "    # Files with PATH\n",
    "    attribute_file = '../Last/data/DIAS Attributes - Values 2017.xlsx'\n",
    "    train_file = '../Last/data/mailout_train'\n",
    "    test_file = '../Last/data/mailout_test'"
   ]
  },
  {
   "cell_type": "markdown",
   "metadata": {},
   "source": [
    "##### Import Libraries"
   ]
  },
  {
   "cell_type": "code",
   "execution_count": 2,
   "metadata": {},
   "outputs": [],
   "source": [
    "import pandas as pd\n",
    "import numpy as np\n",
    "import sys\n",
    "import os\n",
    "from collections import Counter\n",
    "\n",
    "\n",
    "import matplotlib.pyplot as plt\n",
    "from matplotlib import rc\n",
    "import seaborn as sns\n",
    "from sklearn.cluster import KMeans\n",
    "from sklearn.preprocessing import StandardScaler\n",
    "from sklearn.model_selection import train_test_split,StratifiedKFold, cross_val_score, GridSearchCV\n",
    "\n",
    "from xgboost.sklearn import XGBRegressor # Extreme Gradient Boosting\n",
    "from sklearn.metrics import (roc_auc_score, fbeta_score, accuracy_score, precision_score,\n",
    "                             recall_score, confusion_matrix, roc_curve, auc)\n",
    "\n",
    "from imblearn.over_sampling import RandomOverSampler\n",
    "from lightgbm import LGBMClassifier\n",
    "from xgboost import XGBClassifier\n",
    "from catboost import CatBoostClassifier\n",
    "from sklearn.linear_model import LogisticRegression\n",
    "from sklearn.ensemble import RandomForestClassifier, VotingClassifier\n",
    "\n",
    "import pickle"
   ]
  },
  {
   "cell_type": "code",
   "execution_count": 3,
   "metadata": {
    "colab": {},
    "colab_type": "code",
    "id": "mieA5CovbT8G"
   },
   "outputs": [
    {
     "name": "stderr",
     "output_type": "stream",
     "text": [
      "D:\\Anaconda\\lib\\site-packages\\sklearn\\utils\\deprecation.py:143: FutureWarning: The sklearn.metrics.classification module is  deprecated in version 0.22 and will be removed in version 0.24. The corresponding classes / functions should instead be imported from sklearn.metrics. Anything that cannot be imported from sklearn.metrics is now part of the private API.\n",
      "  warnings.warn(message, FutureWarning)\n"
     ]
    }
   ],
   "source": [
    "# Import my libraries for this project\n",
    "from myutils.utils import (accu_cm,\n",
    "                           attribute,\n",
    "                           code_to_nan,\n",
    "                           col_sync,\n",
    "                           corr_drop,\n",
    "                           drop,\n",
    "                           encode_map_age,\n",
    "                           encode_df_PJ,\n",
    "                           encode_df_EIN,\n",
    "                           encode_df_OWK,\n",
    "                           N_unique,\n",
    "                           pre_processing,\n",
    "                           printS,\n",
    "                           ROC_AUC_score,\n",
    "                           report_missing_values,\n",
    "                           row_missing_value)\n",
    "seed = 29"
   ]
  },
  {
   "cell_type": "markdown",
   "metadata": {},
   "source": [
    "#### Loading data"
   ]
  },
  {
   "cell_type": "code",
   "execution_count": 4,
   "metadata": {
    "colab": {
     "base_uri": "https://localhost:8080/",
     "height": 392
    },
    "colab_type": "code",
    "id": "glzjoEO4bT8N",
    "outputId": "29b969ae-c3cf-4195-928a-54f6e48dab9b",
    "scrolled": false
   },
   "outputs": [
    {
     "data": {
      "text/html": [
       "<div>\n",
       "<style scoped>\n",
       "    .dataframe tbody tr th:only-of-type {\n",
       "        vertical-align: middle;\n",
       "    }\n",
       "\n",
       "    .dataframe tbody tr th {\n",
       "        vertical-align: top;\n",
       "    }\n",
       "\n",
       "    .dataframe thead th {\n",
       "        text-align: right;\n",
       "    }\n",
       "</style>\n",
       "<table border=\"1\" class=\"dataframe\">\n",
       "  <thead>\n",
       "    <tr style=\"text-align: right;\">\n",
       "      <th></th>\n",
       "      <th>AGER_TYP</th>\n",
       "      <th>AKT_DAT_KL</th>\n",
       "      <th>ALTER_HH</th>\n",
       "      <th>ALTER_KIND1</th>\n",
       "      <th>ALTER_KIND2</th>\n",
       "      <th>ALTER_KIND3</th>\n",
       "      <th>ALTER_KIND4</th>\n",
       "      <th>ALTERSKATEGORIE_FEIN</th>\n",
       "      <th>ANZ_HAUSHALTE_AKTIV</th>\n",
       "      <th>ANZ_HH_TITEL</th>\n",
       "      <th>...</th>\n",
       "      <th>VK_DHT4A</th>\n",
       "      <th>VK_DISTANZ</th>\n",
       "      <th>VK_ZG11</th>\n",
       "      <th>W_KEIT_KIND_HH</th>\n",
       "      <th>WOHNDAUER_2008</th>\n",
       "      <th>WOHNLAGE</th>\n",
       "      <th>ZABEOTYP</th>\n",
       "      <th>RESPONSE</th>\n",
       "      <th>ANREDE_KZ</th>\n",
       "      <th>ALTERSKATEGORIE_GROB</th>\n",
       "    </tr>\n",
       "    <tr>\n",
       "      <th>LNR</th>\n",
       "      <th></th>\n",
       "      <th></th>\n",
       "      <th></th>\n",
       "      <th></th>\n",
       "      <th></th>\n",
       "      <th></th>\n",
       "      <th></th>\n",
       "      <th></th>\n",
       "      <th></th>\n",
       "      <th></th>\n",
       "      <th></th>\n",
       "      <th></th>\n",
       "      <th></th>\n",
       "      <th></th>\n",
       "      <th></th>\n",
       "      <th></th>\n",
       "      <th></th>\n",
       "      <th></th>\n",
       "      <th></th>\n",
       "      <th></th>\n",
       "      <th></th>\n",
       "    </tr>\n",
       "  </thead>\n",
       "  <tbody>\n",
       "    <tr>\n",
       "      <th>1763</th>\n",
       "      <td>2.0</td>\n",
       "      <td>1.0</td>\n",
       "      <td>8.0</td>\n",
       "      <td>NaN</td>\n",
       "      <td>NaN</td>\n",
       "      <td>NaN</td>\n",
       "      <td>NaN</td>\n",
       "      <td>8.0</td>\n",
       "      <td>15.0</td>\n",
       "      <td>0.0</td>\n",
       "      <td>...</td>\n",
       "      <td>5.0</td>\n",
       "      <td>2.0</td>\n",
       "      <td>1.0</td>\n",
       "      <td>6.0</td>\n",
       "      <td>9.0</td>\n",
       "      <td>3.0</td>\n",
       "      <td>3</td>\n",
       "      <td>0</td>\n",
       "      <td>2</td>\n",
       "      <td>4</td>\n",
       "    </tr>\n",
       "    <tr>\n",
       "      <th>1771</th>\n",
       "      <td>1.0</td>\n",
       "      <td>4.0</td>\n",
       "      <td>13.0</td>\n",
       "      <td>NaN</td>\n",
       "      <td>NaN</td>\n",
       "      <td>NaN</td>\n",
       "      <td>NaN</td>\n",
       "      <td>13.0</td>\n",
       "      <td>1.0</td>\n",
       "      <td>0.0</td>\n",
       "      <td>...</td>\n",
       "      <td>1.0</td>\n",
       "      <td>2.0</td>\n",
       "      <td>1.0</td>\n",
       "      <td>4.0</td>\n",
       "      <td>9.0</td>\n",
       "      <td>7.0</td>\n",
       "      <td>1</td>\n",
       "      <td>0</td>\n",
       "      <td>2</td>\n",
       "      <td>3</td>\n",
       "    </tr>\n",
       "    <tr>\n",
       "      <th>1776</th>\n",
       "      <td>1.0</td>\n",
       "      <td>1.0</td>\n",
       "      <td>9.0</td>\n",
       "      <td>NaN</td>\n",
       "      <td>NaN</td>\n",
       "      <td>NaN</td>\n",
       "      <td>NaN</td>\n",
       "      <td>7.0</td>\n",
       "      <td>0.0</td>\n",
       "      <td>NaN</td>\n",
       "      <td>...</td>\n",
       "      <td>6.0</td>\n",
       "      <td>4.0</td>\n",
       "      <td>2.0</td>\n",
       "      <td>NaN</td>\n",
       "      <td>9.0</td>\n",
       "      <td>2.0</td>\n",
       "      <td>3</td>\n",
       "      <td>0</td>\n",
       "      <td>1</td>\n",
       "      <td>4</td>\n",
       "    </tr>\n",
       "  </tbody>\n",
       "</table>\n",
       "<p>3 rows × 366 columns</p>\n",
       "</div>"
      ],
      "text/plain": [
       "      AGER_TYP  AKT_DAT_KL  ALTER_HH  ALTER_KIND1  ALTER_KIND2  ALTER_KIND3  \\\n",
       "LNR                                                                           \n",
       "1763       2.0         1.0       8.0          NaN          NaN          NaN   \n",
       "1771       1.0         4.0      13.0          NaN          NaN          NaN   \n",
       "1776       1.0         1.0       9.0          NaN          NaN          NaN   \n",
       "\n",
       "      ALTER_KIND4  ALTERSKATEGORIE_FEIN  ANZ_HAUSHALTE_AKTIV  ANZ_HH_TITEL  \\\n",
       "LNR                                                                          \n",
       "1763          NaN                   8.0                 15.0           0.0   \n",
       "1771          NaN                  13.0                  1.0           0.0   \n",
       "1776          NaN                   7.0                  0.0           NaN   \n",
       "\n",
       "      ...  VK_DHT4A  VK_DISTANZ  VK_ZG11  W_KEIT_KIND_HH  WOHNDAUER_2008  \\\n",
       "LNR   ...                                                                  \n",
       "1763  ...       5.0         2.0      1.0             6.0             9.0   \n",
       "1771  ...       1.0         2.0      1.0             4.0             9.0   \n",
       "1776  ...       6.0         4.0      2.0             NaN             9.0   \n",
       "\n",
       "      WOHNLAGE ZABEOTYP  RESPONSE  ANREDE_KZ  ALTERSKATEGORIE_GROB  \n",
       "LNR                                                                 \n",
       "1763       3.0        3         0          2                     4  \n",
       "1771       7.0        1         0          2                     3  \n",
       "1776       2.0        3         0          1                     4  \n",
       "\n",
       "[3 rows x 366 columns]"
      ]
     },
     "metadata": {},
     "output_type": "display_data"
    },
    {
     "data": {
      "text/html": [
       "<div>\n",
       "<style scoped>\n",
       "    .dataframe tbody tr th:only-of-type {\n",
       "        vertical-align: middle;\n",
       "    }\n",
       "\n",
       "    .dataframe tbody tr th {\n",
       "        vertical-align: top;\n",
       "    }\n",
       "\n",
       "    .dataframe thead th {\n",
       "        text-align: right;\n",
       "    }\n",
       "</style>\n",
       "<table border=\"1\" class=\"dataframe\">\n",
       "  <thead>\n",
       "    <tr style=\"text-align: right;\">\n",
       "      <th></th>\n",
       "      <th>AGER_TYP</th>\n",
       "      <th>AKT_DAT_KL</th>\n",
       "      <th>ALTER_HH</th>\n",
       "      <th>ALTER_KIND1</th>\n",
       "      <th>ALTER_KIND2</th>\n",
       "      <th>ALTER_KIND3</th>\n",
       "      <th>ALTER_KIND4</th>\n",
       "      <th>ALTERSKATEGORIE_FEIN</th>\n",
       "      <th>ANZ_HAUSHALTE_AKTIV</th>\n",
       "      <th>ANZ_HH_TITEL</th>\n",
       "      <th>...</th>\n",
       "      <th>VK_DHT4A</th>\n",
       "      <th>VK_DISTANZ</th>\n",
       "      <th>VK_ZG11</th>\n",
       "      <th>W_KEIT_KIND_HH</th>\n",
       "      <th>WOHNDAUER_2008</th>\n",
       "      <th>WOHNLAGE</th>\n",
       "      <th>ZABEOTYP</th>\n",
       "      <th>ANREDE_KZ</th>\n",
       "      <th>ALTERSKATEGORIE_GROB</th>\n",
       "      <th>RESPONSE</th>\n",
       "    </tr>\n",
       "    <tr>\n",
       "      <th>LNR</th>\n",
       "      <th></th>\n",
       "      <th></th>\n",
       "      <th></th>\n",
       "      <th></th>\n",
       "      <th></th>\n",
       "      <th></th>\n",
       "      <th></th>\n",
       "      <th></th>\n",
       "      <th></th>\n",
       "      <th></th>\n",
       "      <th></th>\n",
       "      <th></th>\n",
       "      <th></th>\n",
       "      <th></th>\n",
       "      <th></th>\n",
       "      <th></th>\n",
       "      <th></th>\n",
       "      <th></th>\n",
       "      <th></th>\n",
       "      <th></th>\n",
       "      <th></th>\n",
       "    </tr>\n",
       "  </thead>\n",
       "  <tbody>\n",
       "    <tr>\n",
       "      <th>1754</th>\n",
       "      <td>2.0</td>\n",
       "      <td>1.0</td>\n",
       "      <td>7.0</td>\n",
       "      <td>NaN</td>\n",
       "      <td>NaN</td>\n",
       "      <td>NaN</td>\n",
       "      <td>NaN</td>\n",
       "      <td>6.0</td>\n",
       "      <td>2.0</td>\n",
       "      <td>0.0</td>\n",
       "      <td>...</td>\n",
       "      <td>5.0</td>\n",
       "      <td>6.0</td>\n",
       "      <td>3.0</td>\n",
       "      <td>6.0</td>\n",
       "      <td>9.0</td>\n",
       "      <td>3.0</td>\n",
       "      <td>3</td>\n",
       "      <td>1</td>\n",
       "      <td>4</td>\n",
       "      <td>0</td>\n",
       "    </tr>\n",
       "    <tr>\n",
       "      <th>1770</th>\n",
       "      <td>NaN</td>\n",
       "      <td>1.0</td>\n",
       "      <td>0.0</td>\n",
       "      <td>NaN</td>\n",
       "      <td>NaN</td>\n",
       "      <td>NaN</td>\n",
       "      <td>NaN</td>\n",
       "      <td>0.0</td>\n",
       "      <td>20.0</td>\n",
       "      <td>0.0</td>\n",
       "      <td>...</td>\n",
       "      <td>5.0</td>\n",
       "      <td>2.0</td>\n",
       "      <td>1.0</td>\n",
       "      <td>6.0</td>\n",
       "      <td>9.0</td>\n",
       "      <td>5.0</td>\n",
       "      <td>3</td>\n",
       "      <td>1</td>\n",
       "      <td>4</td>\n",
       "      <td>0</td>\n",
       "    </tr>\n",
       "    <tr>\n",
       "      <th>1465</th>\n",
       "      <td>2.0</td>\n",
       "      <td>9.0</td>\n",
       "      <td>16.0</td>\n",
       "      <td>NaN</td>\n",
       "      <td>NaN</td>\n",
       "      <td>NaN</td>\n",
       "      <td>NaN</td>\n",
       "      <td>11.0</td>\n",
       "      <td>2.0</td>\n",
       "      <td>0.0</td>\n",
       "      <td>...</td>\n",
       "      <td>9.0</td>\n",
       "      <td>6.0</td>\n",
       "      <td>3.0</td>\n",
       "      <td>2.0</td>\n",
       "      <td>9.0</td>\n",
       "      <td>4.0</td>\n",
       "      <td>3</td>\n",
       "      <td>2</td>\n",
       "      <td>4</td>\n",
       "      <td>0</td>\n",
       "    </tr>\n",
       "  </tbody>\n",
       "</table>\n",
       "<p>3 rows × 366 columns</p>\n",
       "</div>"
      ],
      "text/plain": [
       "      AGER_TYP  AKT_DAT_KL  ALTER_HH  ALTER_KIND1  ALTER_KIND2  ALTER_KIND3  \\\n",
       "LNR                                                                           \n",
       "1754       2.0         1.0       7.0          NaN          NaN          NaN   \n",
       "1770       NaN         1.0       0.0          NaN          NaN          NaN   \n",
       "1465       2.0         9.0      16.0          NaN          NaN          NaN   \n",
       "\n",
       "      ALTER_KIND4  ALTERSKATEGORIE_FEIN  ANZ_HAUSHALTE_AKTIV  ANZ_HH_TITEL  \\\n",
       "LNR                                                                          \n",
       "1754          NaN                   6.0                  2.0           0.0   \n",
       "1770          NaN                   0.0                 20.0           0.0   \n",
       "1465          NaN                  11.0                  2.0           0.0   \n",
       "\n",
       "      ...  VK_DHT4A  VK_DISTANZ  VK_ZG11  W_KEIT_KIND_HH  WOHNDAUER_2008  \\\n",
       "LNR   ...                                                                  \n",
       "1754  ...       5.0         6.0      3.0             6.0             9.0   \n",
       "1770  ...       5.0         2.0      1.0             6.0             9.0   \n",
       "1465  ...       9.0         6.0      3.0             2.0             9.0   \n",
       "\n",
       "      WOHNLAGE ZABEOTYP  ANREDE_KZ  ALTERSKATEGORIE_GROB  RESPONSE  \n",
       "LNR                                                                 \n",
       "1754       3.0        3          1                     4         0  \n",
       "1770       5.0        3          1                     4         0  \n",
       "1465       4.0        3          2                     4         0  \n",
       "\n",
       "[3 rows x 366 columns]"
      ]
     },
     "metadata": {},
     "output_type": "display_data"
    }
   ],
   "source": [
    "# Loading data\n",
    "train    = pd.read_csv(train_file, \n",
    "                        na_values=['X','XX', -1],\n",
    "                        index_col=0)\n",
    "test = pd.read_csv(test_file, \n",
    "                        na_values=['X','XX', -1], \n",
    "                        index_col=0)\n",
    "\n",
    "train.set_index('LNR',inplace=True)\n",
    "test.set_index('LNR',inplace=True)\n",
    "test['RESPONSE']=0\n",
    "response = train[['RESPONSE']]\n",
    "\n",
    "display(train.head(3))\n",
    "display(test.head(3))"
   ]
  },
  {
   "cell_type": "code",
   "execution_count": 5,
   "metadata": {
    "colab": {
     "base_uri": "https://localhost:8080/",
     "height": 50
    },
    "colab_type": "code",
    "id": "9X3E-WMLbT8S",
    "outputId": "1d8dd466-e2f3-46dc-86b3-7d8c1ee45f08"
   },
   "outputs": [
    {
     "name": "stdout",
     "output_type": "stream",
     "text": [
      "Number of row size in Mailout Train : 42962\n",
      "Number of row size in Mailout Test : 42833\n"
     ]
    }
   ],
   "source": [
    "rsize_train = train.shape[0]\n",
    "rsize_test = test.shape[0]\n",
    "print('Number of row size in Mailout Train :',rsize_train)\n",
    "print('Number of row size in Mailout Test :',rsize_test)"
   ]
  },
  {
   "cell_type": "code",
   "execution_count": 6,
   "metadata": {
    "colab": {
     "base_uri": "https://localhost:8080/",
     "height": 34
    },
    "colab_type": "code",
    "id": "XtQMGag1bT8X",
    "outputId": "2833ec76-2a67-48e9-bac6-3663bc3588e8"
   },
   "outputs": [
    {
     "name": "stdout",
     "output_type": "stream",
     "text": [
      "Number of row size in Mailout Total : 85795\n"
     ]
    }
   ],
   "source": [
    "df_mailout = pd.concat([train, test],sort=False)\n",
    "rsize_df_mailout = df_mailout.shape[0]\n",
    "print('Number of row size in Mailout Total :',rsize_df_mailout);"
   ]
  },
  {
   "cell_type": "markdown",
   "metadata": {
    "colab_type": "text",
    "id": "9saA9ysRbT8d"
   },
   "source": [
    "---\n",
    "<a id=\"2\"></a>\n",
    "# 2. Preprocesing the data for Supervised Modeling"
   ]
  },
  {
   "cell_type": "markdown",
   "metadata": {
    "colab_type": "text",
    "id": "PGxVXoo9bT8i"
   },
   "source": [
    "##### Loading important columns come from Part-2-UnsupervisedLearing"
   ]
  },
  {
   "cell_type": "code",
   "execution_count": 7,
   "metadata": {
    "colab": {
     "base_uri": "https://localhost:8080/",
     "height": 34
    },
    "colab_type": "code",
    "id": "V4HoX-W8bT8j",
    "outputId": "0647e923-299c-43df-e545-dfa3f6886399"
   },
   "outputs": [
    {
     "name": "stdout",
     "output_type": "stream",
     "text": [
      "Size of important columns comes from Part-2-UnsupervisedLearing: 55\n"
     ]
    }
   ],
   "source": [
    "# Loading important columns comes from Part-2-UnsupervisedLearing\n",
    "imp_feat_list = list(pd.read_csv('../Last/imp_feat_list_part2.csv', index_col=0).index.values[0:70])\n",
    "\n",
    "if 'customer' in imp_feat_list:\n",
    "    imp_feat_list.remove('customer')\n",
    "# Length of important columns list\n",
    "print('Size of important columns comes from Part-2-UnsupervisedLearing:',len(imp_feat_list))"
   ]
  },
  {
   "cell_type": "markdown",
   "metadata": {
    "colab_type": "text",
    "id": "COuVl1cebT8m"
   },
   "source": [
    "##### Merging Mailout Train and Mailout Test set"
   ]
  },
  {
   "cell_type": "code",
   "execution_count": 8,
   "metadata": {
    "colab": {
     "base_uri": "https://localhost:8080/",
     "height": 34
    },
    "colab_type": "code",
    "id": "AQnLPQ3NbT8m",
    "outputId": "452e5597-c136-40f0-a0a6-1649351a86ad"
   },
   "outputs": [
    {
     "name": "stdout",
     "output_type": "stream",
     "text": [
      "Number of row size in Mailout Total : 74391\n"
     ]
    }
   ],
   "source": [
    "df_mailout = pd.concat([train, test],sort=False)\n",
    "df_mailout.drop_duplicates(inplace=True)\n",
    "rsize_df_mailout = df_mailout.shape[0]\n",
    "print('Number of row size in Mailout Total :',rsize_df_mailout);"
   ]
  },
  {
   "cell_type": "markdown",
   "metadata": {
    "colab_type": "text",
    "id": "YSznF-libT8p"
   },
   "source": [
    "##### Preprocessing of Merged Mailout Data set"
   ]
  },
  {
   "cell_type": "code",
   "execution_count": 9,
   "metadata": {
    "colab": {
     "base_uri": "https://localhost:8080/",
     "height": 346
    },
    "colab_type": "code",
    "id": "ze1aUHy4bT8p",
    "outputId": "29ebc0ca-7161-4359-9ca4-13881ead87ae",
    "scrolled": false
   },
   "outputs": [
    {
     "name": "stdout",
     "output_type": "stream",
     "text": [
      "Start Preprocessing...\n",
      " Implementing of Cols-Drop\n",
      " processing of get_dummies ...\n",
      " Processing of fill NaN with MEAN...\n",
      " Processing of scaling...\n"
     ]
    },
    {
     "data": {
      "text/html": [
       "<div>\n",
       "<style scoped>\n",
       "    .dataframe tbody tr th:only-of-type {\n",
       "        vertical-align: middle;\n",
       "    }\n",
       "\n",
       "    .dataframe tbody tr th {\n",
       "        vertical-align: top;\n",
       "    }\n",
       "\n",
       "    .dataframe thead th {\n",
       "        text-align: right;\n",
       "    }\n",
       "</style>\n",
       "<table border=\"1\" class=\"dataframe\">\n",
       "  <thead>\n",
       "    <tr style=\"text-align: right;\">\n",
       "      <th></th>\n",
       "      <th>AKT_DAT_KL</th>\n",
       "      <th>ALTER_HH</th>\n",
       "      <th>ALTERSKATEGORIE_FEIN</th>\n",
       "      <th>ANZ_PERSONEN</th>\n",
       "      <th>ANZ_STATISTISCHE_HAUSHALTE</th>\n",
       "      <th>CJT_TYP_1</th>\n",
       "      <th>CJT_TYP_2</th>\n",
       "      <th>CJT_TYP_3</th>\n",
       "      <th>CJT_TYP_4</th>\n",
       "      <th>CJT_TYP_5</th>\n",
       "      <th>...</th>\n",
       "      <th>SEMIO_LUST</th>\n",
       "      <th>SEMIO_PFLICHT</th>\n",
       "      <th>SEMIO_TRADV</th>\n",
       "      <th>SEMIO_VERT</th>\n",
       "      <th>VK_DISTANZ</th>\n",
       "      <th>VK_ZG11</th>\n",
       "      <th>ZABEOTYP</th>\n",
       "      <th>RESPONSE</th>\n",
       "      <th>ANREDE_KZ</th>\n",
       "      <th>ALTERSKATEGORIE_GROB</th>\n",
       "    </tr>\n",
       "    <tr>\n",
       "      <th>LNR</th>\n",
       "      <th></th>\n",
       "      <th></th>\n",
       "      <th></th>\n",
       "      <th></th>\n",
       "      <th></th>\n",
       "      <th></th>\n",
       "      <th></th>\n",
       "      <th></th>\n",
       "      <th></th>\n",
       "      <th></th>\n",
       "      <th></th>\n",
       "      <th></th>\n",
       "      <th></th>\n",
       "      <th></th>\n",
       "      <th></th>\n",
       "      <th></th>\n",
       "      <th></th>\n",
       "      <th></th>\n",
       "      <th></th>\n",
       "      <th></th>\n",
       "      <th></th>\n",
       "    </tr>\n",
       "  </thead>\n",
       "  <tbody>\n",
       "    <tr>\n",
       "      <th>1763</th>\n",
       "      <td>-0.305176</td>\n",
       "      <td>-1.167194</td>\n",
       "      <td>-0.433050</td>\n",
       "      <td>-0.763982</td>\n",
       "      <td>0.485227</td>\n",
       "      <td>-0.157002</td>\n",
       "      <td>0.114272</td>\n",
       "      <td>0.636437</td>\n",
       "      <td>0.656146</td>\n",
       "      <td>0.63119</td>\n",
       "      <td>...</td>\n",
       "      <td>0.949396</td>\n",
       "      <td>-0.058031</td>\n",
       "      <td>-1.228791</td>\n",
       "      <td>-0.699073</td>\n",
       "      <td>-0.776907</td>\n",
       "      <td>-0.851586</td>\n",
       "      <td>0.189967</td>\n",
       "      <td>-0.079994</td>\n",
       "      <td>0.852908</td>\n",
       "      <td>0.609333</td>\n",
       "    </tr>\n",
       "    <tr>\n",
       "      <th>1771</th>\n",
       "      <td>1.448848</td>\n",
       "      <td>0.149789</td>\n",
       "      <td>0.744528</td>\n",
       "      <td>-0.015198</td>\n",
       "      <td>-0.384358</td>\n",
       "      <td>-0.157002</td>\n",
       "      <td>0.114272</td>\n",
       "      <td>-0.403848</td>\n",
       "      <td>-1.159035</td>\n",
       "      <td>0.63119</td>\n",
       "      <td>...</td>\n",
       "      <td>0.337073</td>\n",
       "      <td>1.244039</td>\n",
       "      <td>0.168557</td>\n",
       "      <td>-0.172619</td>\n",
       "      <td>-0.776907</td>\n",
       "      <td>-0.851586</td>\n",
       "      <td>-1.475244</td>\n",
       "      <td>-0.079994</td>\n",
       "      <td>0.852908</td>\n",
       "      <td>-0.508188</td>\n",
       "    </tr>\n",
       "    <tr>\n",
       "      <th>1776</th>\n",
       "      <td>-0.305176</td>\n",
       "      <td>-0.903798</td>\n",
       "      <td>-0.668566</td>\n",
       "      <td>-1.512767</td>\n",
       "      <td>-0.384358</td>\n",
       "      <td>-1.152909</td>\n",
       "      <td>-0.929476</td>\n",
       "      <td>0.636437</td>\n",
       "      <td>0.656146</td>\n",
       "      <td>0.63119</td>\n",
       "      <td>...</td>\n",
       "      <td>0.949396</td>\n",
       "      <td>-1.360102</td>\n",
       "      <td>-1.228791</td>\n",
       "      <td>1.406744</td>\n",
       "      <td>-0.154693</td>\n",
       "      <td>-0.446750</td>\n",
       "      <td>0.189967</td>\n",
       "      <td>-0.079994</td>\n",
       "      <td>-1.172459</td>\n",
       "      <td>0.609333</td>\n",
       "    </tr>\n",
       "    <tr>\n",
       "      <th>1460</th>\n",
       "      <td>-0.305176</td>\n",
       "      <td>-1.693988</td>\n",
       "      <td>-0.904081</td>\n",
       "      <td>-0.015198</td>\n",
       "      <td>-0.166962</td>\n",
       "      <td>-0.157002</td>\n",
       "      <td>0.114272</td>\n",
       "      <td>0.636437</td>\n",
       "      <td>0.656146</td>\n",
       "      <td>0.63119</td>\n",
       "      <td>...</td>\n",
       "      <td>0.949396</td>\n",
       "      <td>0.593004</td>\n",
       "      <td>0.168557</td>\n",
       "      <td>-1.225527</td>\n",
       "      <td>2.023059</td>\n",
       "      <td>3.196773</td>\n",
       "      <td>0.189967</td>\n",
       "      <td>-0.079994</td>\n",
       "      <td>0.852908</td>\n",
       "      <td>0.609333</td>\n",
       "    </tr>\n",
       "    <tr>\n",
       "      <th>1783</th>\n",
       "      <td>-0.305176</td>\n",
       "      <td>-0.903798</td>\n",
       "      <td>-0.197535</td>\n",
       "      <td>-0.763982</td>\n",
       "      <td>2.731653</td>\n",
       "      <td>-1.152909</td>\n",
       "      <td>0.114272</td>\n",
       "      <td>0.636437</td>\n",
       "      <td>0.656146</td>\n",
       "      <td>0.63119</td>\n",
       "      <td>...</td>\n",
       "      <td>0.337073</td>\n",
       "      <td>0.593004</td>\n",
       "      <td>-0.530117</td>\n",
       "      <td>1.406744</td>\n",
       "      <td>-0.776907</td>\n",
       "      <td>-0.851586</td>\n",
       "      <td>0.189967</td>\n",
       "      <td>-0.079994</td>\n",
       "      <td>-1.172459</td>\n",
       "      <td>-0.508188</td>\n",
       "    </tr>\n",
       "  </tbody>\n",
       "</table>\n",
       "<p>5 rows × 56 columns</p>\n",
       "</div>"
      ],
      "text/plain": [
       "      AKT_DAT_KL  ALTER_HH  ALTERSKATEGORIE_FEIN  ANZ_PERSONEN  \\\n",
       "LNR                                                              \n",
       "1763   -0.305176 -1.167194             -0.433050     -0.763982   \n",
       "1771    1.448848  0.149789              0.744528     -0.015198   \n",
       "1776   -0.305176 -0.903798             -0.668566     -1.512767   \n",
       "1460   -0.305176 -1.693988             -0.904081     -0.015198   \n",
       "1783   -0.305176 -0.903798             -0.197535     -0.763982   \n",
       "\n",
       "      ANZ_STATISTISCHE_HAUSHALTE  CJT_TYP_1  CJT_TYP_2  CJT_TYP_3  CJT_TYP_4  \\\n",
       "LNR                                                                            \n",
       "1763                    0.485227  -0.157002   0.114272   0.636437   0.656146   \n",
       "1771                   -0.384358  -0.157002   0.114272  -0.403848  -1.159035   \n",
       "1776                   -0.384358  -1.152909  -0.929476   0.636437   0.656146   \n",
       "1460                   -0.166962  -0.157002   0.114272   0.636437   0.656146   \n",
       "1783                    2.731653  -1.152909   0.114272   0.636437   0.656146   \n",
       "\n",
       "      CJT_TYP_5  ...  SEMIO_LUST  SEMIO_PFLICHT  SEMIO_TRADV  SEMIO_VERT  \\\n",
       "LNR              ...                                                       \n",
       "1763    0.63119  ...    0.949396      -0.058031    -1.228791   -0.699073   \n",
       "1771    0.63119  ...    0.337073       1.244039     0.168557   -0.172619   \n",
       "1776    0.63119  ...    0.949396      -1.360102    -1.228791    1.406744   \n",
       "1460    0.63119  ...    0.949396       0.593004     0.168557   -1.225527   \n",
       "1783    0.63119  ...    0.337073       0.593004    -0.530117    1.406744   \n",
       "\n",
       "      VK_DISTANZ   VK_ZG11  ZABEOTYP  RESPONSE  ANREDE_KZ  \\\n",
       "LNR                                                         \n",
       "1763   -0.776907 -0.851586  0.189967 -0.079994   0.852908   \n",
       "1771   -0.776907 -0.851586 -1.475244 -0.079994   0.852908   \n",
       "1776   -0.154693 -0.446750  0.189967 -0.079994  -1.172459   \n",
       "1460    2.023059  3.196773  0.189967 -0.079994   0.852908   \n",
       "1783   -0.776907 -0.851586  0.189967 -0.079994  -1.172459   \n",
       "\n",
       "      ALTERSKATEGORIE_GROB  \n",
       "LNR                         \n",
       "1763              0.609333  \n",
       "1771             -0.508188  \n",
       "1776              0.609333  \n",
       "1460              0.609333  \n",
       "1783             -0.508188  \n",
       "\n",
       "[5 rows x 56 columns]"
      ]
     },
     "metadata": {},
     "output_type": "display_data"
    },
    {
     "data": {
      "text/plain": [
       "(74391, 56)"
      ]
     },
     "execution_count": 9,
     "metadata": {},
     "output_type": "execute_result"
    }
   ],
   "source": [
    "# Preprocess of df_mailout\n",
    "df_mailout, df_cols = pre_processing(df_mailout, attribute_file, 0.7, imp_feat_list)\n",
    "\n",
    "display(df_mailout.head())\n",
    "df_mailout.shape"
   ]
  },
  {
   "cell_type": "code",
   "execution_count": 10,
   "metadata": {
    "colab": {
     "base_uri": "https://localhost:8080/",
     "height": 67
    },
    "colab_type": "code",
    "id": "2k_yhkOYbT8t",
    "outputId": "38df289b-8495-4548-a87e-d8ac08618743",
    "scrolled": true
   },
   "outputs": [
    {
     "name": "stdout",
     "output_type": "stream",
     "text": [
      "set()\n",
      "{'RESPONSE'}\n",
      "56\n"
     ]
    }
   ],
   "source": [
    "# Just Control list of important columns list\n",
    "important_list_use = 1  \n",
    "if important_list_use ==0:\n",
    "    print(set(df_cols_from02) - set(df_mailout.columns.tolist()))\n",
    "    print(set(df_mailout.columns.tolist()) - set(df_cols_from02))\n",
    "else:\n",
    "    print(set(imp_feat_list) - set(df_mailout.columns.tolist()))\n",
    "    print(set(df_mailout.columns.tolist()) - set(imp_feat_list))\n",
    "print(len(df_mailout.columns.tolist()))"
   ]
  },
  {
   "cell_type": "markdown",
   "metadata": {
    "colab_type": "text",
    "id": "pAlEMm4YbT8x"
   },
   "source": [
    "#### Label encoding of Responce Column"
   ]
  },
  {
   "cell_type": "code",
   "execution_count": 11,
   "metadata": {
    "colab": {
     "base_uri": "https://localhost:8080/",
     "height": 118
    },
    "colab_type": "code",
    "id": "h-PdTLqUbT8y",
    "outputId": "c8418dc4-0826-4d4f-ff30-ca6cba301289"
   },
   "outputs": [
    {
     "data": {
      "text/plain": [
       "-0.079994     73918\n",
       " 12.500994      473\n",
       "Name: RESPONSE, dtype: int64"
      ]
     },
     "metadata": {},
     "output_type": "display_data"
    },
    {
     "data": {
      "text/plain": [
       "0.0    73918\n",
       "1.0      473\n",
       "Name: RESPONSE, dtype: int64"
      ]
     },
     "execution_count": 11,
     "metadata": {},
     "output_type": "execute_result"
    }
   ],
   "source": [
    "# Looking for RESPONSE column\n",
    "display(df_mailout['RESPONSE'].value_counts())\n",
    "\n",
    "# Label  Encoding for RESPONSE column\n",
    "df_mailout['RESPONSE'].replace({df_mailout['RESPONSE'].unique().tolist()[1]:1,\n",
    "                                df_mailout['RESPONSE'].unique().tolist()[0]:0}, inplace=True)\n",
    "df_mailout['RESPONSE'].value_counts()"
   ]
  },
  {
   "cell_type": "markdown",
   "metadata": {
    "colab_type": "text",
    "id": "VU4q8Tr1bT81"
   },
   "source": [
    "#### Saving of Data After Preperation"
   ]
  },
  {
   "cell_type": "code",
   "execution_count": 12,
   "metadata": {
    "colab": {},
    "colab_type": "code",
    "id": "OnWQR4RpbT82"
   },
   "outputs": [],
   "source": [
    "# Separate Train and Test Dataframes from df_mailout\n",
    "\n",
    "df_train = df_mailout.head(rsize_train) # Train file split from df_mailout\n",
    "df_test = df_mailout.tail(rsize_test)   # Test file split from df_mailout\n",
    "\n",
    "# Delete RESPONSE column which is created artificially to apply K-means algorithm\n",
    "del df_test['RESPONSE']\n"
   ]
  },
  {
   "cell_type": "code",
   "execution_count": 13,
   "metadata": {
    "colab": {},
    "colab_type": "code",
    "id": "51NwdROkbT87"
   },
   "outputs": [],
   "source": [
    "df_train.to_csv('df_train.csv')\n",
    "df_test.to_csv('df_test.csv')"
   ]
  },
  {
   "cell_type": "markdown",
   "metadata": {},
   "source": [
    "---\n",
    "<a id=\"1\"></a>\n",
    "# 3. Model Preperation"
   ]
  },
  {
   "cell_type": "markdown",
   "metadata": {
    "colab_type": "text",
    "id": "v3VTVVi2bT9B"
   },
   "source": [
    "---\n",
    "\n",
    "## Train-Test Split of Mailout-Train Data"
   ]
  },
  {
   "cell_type": "code",
   "execution_count": 14,
   "metadata": {
    "colab": {},
    "colab_type": "code",
    "id": "SWsJRu5KbT9C"
   },
   "outputs": [],
   "source": [
    "df_train = pd.read_csv('df_train.csv')"
   ]
  },
  {
   "cell_type": "code",
   "execution_count": 15,
   "metadata": {
    "colab": {
     "base_uri": "https://localhost:8080/",
     "height": 34
    },
    "colab_type": "code",
    "id": "voB_DugdbT9G",
    "outputId": "68fbc2d6-350c-4a77-d1db-9c2335350a45"
   },
   "outputs": [
    {
     "data": {
      "text/plain": [
       "(42962, 57)"
      ]
     },
     "execution_count": 15,
     "metadata": {},
     "output_type": "execute_result"
    }
   ],
   "source": [
    "df_train.shape"
   ]
  },
  {
   "cell_type": "code",
   "execution_count": 16,
   "metadata": {
    "colab": {},
    "colab_type": "code",
    "id": "P2hIuXtnbT9I"
   },
   "outputs": [],
   "source": [
    "y = df_train['RESPONSE'].values # Target Value as array\n",
    "X = df_train.drop('RESPONSE', axis=1).values   # Features as array\n",
    "\n",
    "# Train - Test - Split Data \n",
    "X_train, X_test, y_train, y_test = train_test_split(X, y, stratify=y, test_size=0.25, random_state=seed)"
   ]
  },
  {
   "cell_type": "markdown",
   "metadata": {},
   "source": [
    "---\n",
    "\n",
    "## Sampling for Imbalance Problem\n",
    "\n",
    "<img src=\"https://github.com/huseyinelci2000/CustomerSegmentation/blob/master/Last/image/Imbalance_scales.jpg?raw=true\" width=\"100%\">"
   ]
  },
  {
   "cell_type": "markdown",
   "metadata": {
    "colab_type": "text",
    "id": "k3yvzQz9bT9N"
   },
   "source": [
    "Distribution for **` target (RESPONSE) `** value in **Mailout-Train** data set like as sets of **Azdias** and **Customers**,  is **1.238%**. This tells us that there is an important **ImBalance** problem in this data set.<br>\n",
    "To fix this situation, we will take samples in set of Mailout-Train. Let's try to implement with **RandomOverSampler** for to expand the data before implementation of ML algoritms."
   ]
  },
  {
   "cell_type": "code",
   "execution_count": 17,
   "metadata": {
    "colab": {
     "base_uri": "https://localhost:8080/",
     "height": 104
    },
    "colab_type": "code",
    "id": "huggB6KgbT9N",
    "outputId": "605dbf86-e7a7-41dc-d5f4-cd4f01bc0f89"
   },
   "outputs": [
    {
     "name": "stdout",
     "output_type": "stream",
     "text": [
      "Original dataset shape Counter({0.0: 31866, 1.0: 355})\n",
      "Resampled dataset shape Counter({0.0: 31866, 1.0: 7966})\n"
     ]
    }
   ],
   "source": [
    "ros = RandomOverSampler(sampling_strategy=0.25, random_state=seed)\n",
    "\n",
    "X_ros, y_ros = ros.fit_resample(X_train, y_train)\n",
    "\n",
    "print('Original dataset shape {}'.format(Counter(y_train)))\n",
    "print('Resampled dataset shape {}'.format(Counter(y_ros)))\n"
   ]
  },
  {
   "cell_type": "code",
   "execution_count": 18,
   "metadata": {
    "colab": {
     "base_uri": "https://localhost:8080/",
     "height": 381
    },
    "colab_type": "code",
    "id": "1f6bECnXbT9R",
    "outputId": "ce1b944d-b1b1-4570-90d6-47d768b5e0bd",
    "scrolled": false
   },
   "outputs": [
    {
     "data": {
      "image/png": "[encoded data removed]",
      "text/plain": [
       "<Figure size 1080x720 with 2 Axes>"
      ]
     },
     "metadata": {},
     "output_type": "display_data"
    }
   ],
   "source": [
    "#Plot \n",
    "plot_y_train = pd.DataFrame(y_train,columns=['RESPONSE'])\n",
    "plot_yros = pd.DataFrame(y_ros,columns=['RESPONSE'])\n",
    "\n",
    "# Figure size-title for Plot \n",
    "fig, ax = plt.subplots(1, 2, figsize=(15,10))\n",
    "fig.suptitle('Distribution of Before and After\\nRandomOverSampler', fontsize=18)\n",
    "\n",
    "\n",
    "# Plot for Distribution of Before RandomOverSampler\n",
    "plt.subplot(221).set_title('Distribution of BEFORE RandomOverSampler')\n",
    "sns.countplot(x=\"RESPONSE\",\n",
    "              hue=\"RESPONSE\",\n",
    "              data=plot_y_train,\n",
    "              dodge=False,\n",
    "              palette=\"RdBu_r\")\n",
    "plt.legend({\"Non-Response : {}\".format(Counter(y_train)[0]):0,\n",
    "            \"Response : {}\".format(Counter(y_train)[1]):1})\n",
    "\n",
    "# Plot for Distribution of After RandomOverSampler\n",
    "plt.subplot(222).set_title('Distribution of AFTER RandomOverSampler')\n",
    "sns.countplot(x=\"RESPONSE\",\n",
    "              hue=\"RESPONSE\",\n",
    "              data=plot_yros,\n",
    "              dodge=False,\n",
    "              palette=\"RdBu_r\")\n",
    "plt.legend({\"Non-Response : {}\".format(Counter(y_ros)[0]):0,\n",
    "            \"Response : {}\".format(Counter(y_ros)[1]):1})\n",
    "\n",
    "\n",
    ";\n",
    "plot_y_train = plot_y_ros = None"
   ]
  },
  {
   "cell_type": "markdown",
   "metadata": {},
   "source": [
    "---\n",
    "<a id=\"1\"></a>\n",
    "# 4. Modeling\n",
    "This is classifier processing. Because of this, I choose **classifier models**."
   ]
  },
  {
   "cell_type": "markdown",
   "metadata": {
    "colab_type": "text",
    "id": "g60xG6cdbT9g"
   },
   "source": [
    "---\n",
    "\n",
    "## Lightgbm\n",
    "Let's try with **Lightgbm** to see if can improve the score."
   ]
  },
  {
   "cell_type": "markdown",
   "metadata": {
    "colab_type": "text",
    "id": "D9Oj22-qbT9g"
   },
   "source": [
    "##### With Default Parameters "
   ]
  },
  {
   "cell_type": "code",
   "execution_count": 19,
   "metadata": {
    "colab": {
     "base_uri": "https://localhost:8080/",
     "height": 168
    },
    "colab_type": "code",
    "id": "Lo9-F7XVbT9h",
    "outputId": "e1634b29-ffa1-4422-cafe-cefe9b07011f"
   },
   "outputs": [
    {
     "name": "stdout",
     "output_type": "stream",
     "text": [
      "════════════════════════════════════════════════════════════\n",
      "Model Name      : LGBMClassifier\n",
      "════════════════════════════════════════════════════════════\n",
      "ROC-AUC Score   :  0.7718633377848192\n",
      "Accurarcy Score :  0.9824038730099618\n",
      "Confusion Matrix:\n",
      " [[10547    76]\n",
      " [  113     5]]\n"
     ]
    }
   ],
   "source": [
    "lgb = LGBMClassifier(random_state = seed)\n",
    "accu_cm(lgb, X_ros, y_ros, X_test, y_test)"
   ]
  },
  {
   "cell_type": "markdown",
   "metadata": {
    "colab_type": "text",
    "id": "eOG2ThWWbT9k"
   },
   "source": [
    "##### Model Tuning"
   ]
  },
  {
   "cell_type": "code",
   "execution_count": 20,
   "metadata": {
    "colab": {},
    "colab_type": "code",
    "id": "b_RhrN3XbT9l"
   },
   "outputs": [],
   "source": [
    "grid_params = {\n",
    "        'random_state': [seed],\n",
    "        'n_estimators': [10,15,20,50,80,120],\n",
    "        'n_jobs': [-1],\n",
    "        'ntrees': [40,80,120],\n",
    "        'learn_rate' : np.arange(0.01,0.5,0.005),\n",
    "        'sample_rate':[0.45], \n",
    "        'col_sample_rate_per_tree': [0.8],\n",
    "        'stopping_metric':['AUC'],\n",
    "        'min_rows':[3],\n",
    "        'min_child_samples':[40,60,100],\n",
    "        'max_depth': [8],\n",
    "        'max_features':[3],\n",
    "        'class_weight': ['balanced']\n",
    "}\n"
   ]
  },
  {
   "cell_type": "code",
   "execution_count": 21,
   "metadata": {
    "colab": {
     "base_uri": "https://localhost:8080/",
     "height": 138
    },
    "colab_type": "code",
    "id": "Ub7Ky0tGbT9n",
    "outputId": "2ff85fd6-400a-4390-c2db-9817ac286729"
   },
   "outputs": [
    {
     "name": "stdout",
     "output_type": "stream",
     "text": [
      "════════════════════════════════════════════════════════════\n",
      "For GridSearchCV model \n",
      "Best Score: 0.9536802371545114\n",
      "════════════════════════════════════════════════════════════\n",
      "Best Params: \n",
      " {'class_weight': 'balanced', 'col_sample_rate_per_tree': 0.8, 'learn_rate': 0.01, 'max_depth': 8, 'max_features': 3, 'min_child_samples': 60, 'min_rows': 3, 'n_estimators': 120, 'n_jobs': -1, 'ntrees': 40, 'random_state': 29, 'sample_rate': 0.45, 'stopping_metric': 'AUC'}\n"
     ]
    }
   ],
   "source": [
    "try: \n",
    "    # After Sampling\n",
    "    clf_ros_LGB = GridSearchCV(LGBMClassifier(), grid_params, cv=5)\n",
    "    clf_ros_LGB.fit(X_ros, y_ros)\n",
    "except:\n",
    "    print('OOPSS.. Something wrong')\n",
    "    pass\n",
    "\n",
    "printS(clf_ros_LGB)"
   ]
  },
  {
   "cell_type": "code",
   "execution_count": 22,
   "metadata": {},
   "outputs": [
    {
     "name": "stdout",
     "output_type": "stream",
     "text": [
      "════════════════════════════════════════════════════════════\n",
      "Model Name      : LGBMClassifier\n",
      "════════════════════════════════════════════════════════════\n",
      "ROC-AUC Score   :  0.7577087292204157\n",
      "Accurarcy Score :  0.9279396704217484\n",
      "Confusion Matrix:\n",
      " [[9938  685]\n",
      " [  89   29]]\n"
     ]
    }
   ],
   "source": [
    "# Computation of Scores and CM with Best Parameters\n",
    "best_params_LGB = clf_ros_LGB.best_params_\n",
    "lgb_BP = LGBMClassifier(**best_params_LGB)\n",
    "accu_cm(lgb_BP, X_ros, y_ros, X_test, y_test) "
   ]
  },
  {
   "cell_type": "code",
   "execution_count": 23,
   "metadata": {},
   "outputs": [
    {
     "name": "stdout",
     "output_type": "stream",
     "text": [
      "════════════════════════════════════════════════════════════\n",
      "Model Name      : LGBMClassifier\n",
      "════════════════════════════════════════════════════════════\n",
      "ROC-AUC Score   :  0.8057401034212621\n",
      "Accurarcy Score :  0.9851969090401266\n",
      "Confusion Matrix:\n",
      " [[10581    42]\n",
      " [  117     1]]\n"
     ]
    }
   ],
   "source": [
    "# Computation of Scores and CM with Best Parameters\n",
    "best_params_LGB = {'objective':'binary',\n",
    "                   'col_sample_rate_per_tree': 0.8,\n",
    "                   'learn_rate': '0.00002',\n",
    "                   'max_depth': 5,\n",
    "                   'max_features': 13,\n",
    "                   'min_child_samples': 40,\n",
    "                   'min_rows': 2, \n",
    "                   'n_estimators': 20,\n",
    "                   'n_jobs': -1,\n",
    "                   'ntrees': 40,\n",
    "                   'random_state': seed,\n",
    "                   'sample_rate': 0.55,\n",
    "                   'stopping_metric': 'AUC'}\n",
    "lgb_BP = LGBMClassifier(**best_params_LGB)\n",
    "accu_cm(lgb_BP, X_ros, y_ros, X_test, y_test) "
   ]
  },
  {
   "cell_type": "markdown",
   "metadata": {
    "colab_type": "text",
    "id": "LBf76X0bbT9v"
   },
   "source": [
    "---\n",
    "\n",
    "## XGBoost\n",
    "Let's try with **XGBoost** to see if can improve the score."
   ]
  },
  {
   "cell_type": "markdown",
   "metadata": {
    "colab_type": "text",
    "id": "QkmM4qfjbT9w"
   },
   "source": [
    "##### With Default Parameters "
   ]
  },
  {
   "cell_type": "code",
   "execution_count": 24,
   "metadata": {
    "colab": {
     "base_uri": "https://localhost:8080/",
     "height": 168
    },
    "colab_type": "code",
    "id": "wfmr1z71bT9x",
    "outputId": "fc509f73-6186-415c-951d-25a5874d35f8"
   },
   "outputs": [
    {
     "name": "stdout",
     "output_type": "stream",
     "text": [
      "════════════════════════════════════════════════════════════\n",
      "Model Name      : XGBClassifier\n",
      "════════════════════════════════════════════════════════════\n",
      "ROC-AUC Score   :  0.7284274447672703\n",
      "Accurarcy Score :  0.98677962945722\n",
      "Confusion Matrix:\n",
      " [[10596    27]\n",
      " [  115     3]]\n"
     ]
    }
   ],
   "source": [
    "XGB = XGBClassifier(random_state = seed)\n",
    "accu_cm(XGB, X_ros, y_ros, X_test, y_test)"
   ]
  },
  {
   "cell_type": "markdown",
   "metadata": {
    "colab_type": "text",
    "id": "BGossfMFbT91"
   },
   "source": [
    "##### Model Tuning"
   ]
  },
  {
   "cell_type": "code",
   "execution_count": 27,
   "metadata": {
    "colab": {},
    "colab_type": "code",
    "id": "lZu3Na7ZbT91"
   },
   "outputs": [],
   "source": [
    "grid_params = {\n",
    "    'random_state':[seed],\n",
    "    'n_jobs':[-1],\n",
    "    'reg_alpha':[0.1],\n",
    "    'min_child_weight':[1,2],\n",
    "    'max_depth':[8,13],\n",
    "    'learning_rate':[0.1,0.15,0.2],\n",
    "    'subsample':[0.8],\n",
    "    'colsample_bytree':[0.6,0.7],\n",
    "    'nthread':[5]\n",
    "}"
   ]
  },
  {
   "cell_type": "code",
   "execution_count": 28,
   "metadata": {
    "colab": {
     "base_uri": "https://localhost:8080/",
     "height": 138
    },
    "colab_type": "code",
    "id": "Y5s-hrPybT96",
    "outputId": "256b53f3-9d3b-4c26-ce25-c4b0e178c7b3"
   },
   "outputs": [
    {
     "name": "stdout",
     "output_type": "stream",
     "text": [
      "════════════════════════════════════════════════════════════\n",
      "For GridSearchCV model \n",
      "Best Score: 0.9997991526747556\n",
      "════════════════════════════════════════════════════════════\n",
      "Best Params: \n",
      " {'colsample_bytree': 0.6, 'learning_rate': 0.2, 'max_depth': 13, 'min_child_weight': 1, 'n_jobs': -1, 'nthread': 5, 'random_state': 29, 'reg_alpha': 0.1, 'subsample': 0.8}\n"
     ]
    }
   ],
   "source": [
    "try:\n",
    "    # After Sampling\n",
    "    clf_ros_XGB = GridSearchCV(XGBClassifier(), grid_params, cv=5)\n",
    "    clf_ros_XGB.fit(X_ros, y_ros)\n",
    "except:\n",
    "    print('OOPSS.. Something wrong')\n",
    "    pass\n",
    "\n",
    "printS(clf_ros_XGB)"
   ]
  },
  {
   "cell_type": "code",
   "execution_count": 29,
   "metadata": {},
   "outputs": [
    {
     "name": "stdout",
     "output_type": "stream",
     "text": [
      "════════════════════════════════════════════════════════════\n",
      "Model Name      : XGBClassifier\n",
      "════════════════════════════════════════════════════════════\n",
      "ROC-AUC Score   :  0.7470072133219093\n",
      "Accurarcy Score :  0.9883623498743134\n",
      "Confusion Matrix:\n",
      " [[10615     8]\n",
      " [  117     1]]\n"
     ]
    }
   ],
   "source": [
    "# Computation of Scores and CM with Best Parameters\n",
    "best_params_XGB = clf_ros_XGB.best_params_\n",
    "XGB_BP = XGBClassifier(**best_params_XGB)\n",
    "accu_cm(XGB_BP, X_ros, y_ros, X_test, y_test) "
   ]
  },
  {
   "cell_type": "markdown",
   "metadata": {
    "colab_type": "text",
    "id": "G4xfjARFbT-B"
   },
   "source": [
    "---\n",
    "\n",
    "## CatBoost\n",
    "Let's try with **CatBoost** to see if can improve the score."
   ]
  },
  {
   "cell_type": "markdown",
   "metadata": {
    "colab_type": "text",
    "id": "Q93FeUtgbT-B"
   },
   "source": [
    "##### With Default Parameters "
   ]
  },
  {
   "cell_type": "code",
   "execution_count": 30,
   "metadata": {
    "colab": {
     "base_uri": "https://localhost:8080/",
     "height": 168
    },
    "colab_type": "code",
    "id": "PXtBSEi1bT-C",
    "outputId": "dc0eb906-2147-4041-d38e-b4387bcf7423"
   },
   "outputs": [
    {
     "name": "stdout",
     "output_type": "stream",
     "text": [
      "════════════════════════════════════════════════════════════\n",
      "Model Name      : CatBoostClassifier\n",
      "════════════════════════════════════════════════════════════\n",
      "ROC-AUC Score   :  0.7424240973774525\n",
      "Accurarcy Score :  0.9879899450702914\n",
      "Confusion Matrix:\n",
      " [[10611    12]\n",
      " [  117     1]]\n"
     ]
    }
   ],
   "source": [
    "Cat = CatBoostClassifier(random_state = seed, verbose=False)\n",
    "accu_cm(Cat, X_ros, y_ros, X_test, y_test)"
   ]
  },
  {
   "cell_type": "markdown",
   "metadata": {
    "colab_type": "text",
    "id": "laNowGSPbT-E"
   },
   "source": [
    "##### Model Tuning\n",
    "[Detail Source](https://catboost.ai/docs/concepts/python-reference_parameters-list.html#python-reference_parameters-list)"
   ]
  },
  {
   "cell_type": "code",
   "execution_count": 31,
   "metadata": {
    "colab": {},
    "colab_type": "code",
    "id": "QwkTJ0H5bT-F"
   },
   "outputs": [],
   "source": [
    "grid_params = {\n",
    "    'random_state':[seed],\n",
    "    'num_trees':[4],\n",
    "    'min_child_samples':[20,30],\n",
    "    'one_hot_max_size':[4,6],\n",
    "    'learning_rate':[0.0925,0.15],\n",
    "    'border_count':[82],\n",
    "    'eval_metric':['AUC'],\n",
    "    'verbose':[0]\n",
    "}"
   ]
  },
  {
   "cell_type": "code",
   "execution_count": 32,
   "metadata": {
    "colab": {
     "base_uri": "https://localhost:8080/",
     "height": 138
    },
    "colab_type": "code",
    "id": "GVAvm5xGbT-H",
    "outputId": "13d3ed5e-bd05-4138-86f3-ef3557c0affc"
   },
   "outputs": [
    {
     "name": "stdout",
     "output_type": "stream",
     "text": [
      "════════════════════════════════════════════════════════════\n",
      "For GridSearchCV model \n",
      "Best Score: 0.8034744564108772\n",
      "════════════════════════════════════════════════════════════\n",
      "Best Params: \n",
      " {'border_count': 82, 'eval_metric': 'AUC', 'learning_rate': 0.15, 'min_child_samples': 20, 'num_trees': 4, 'one_hot_max_size': 4, 'random_state': 29, 'verbose': 0}\n"
     ]
    }
   ],
   "source": [
    "try:\n",
    "    # Before Sampling\n",
    "    clf_ros_Cat = GridSearchCV(CatBoostClassifier(), grid_params, cv=5)\n",
    "    clf_ros_Cat.fit(X_ros, y_ros)\n",
    "except:\n",
    "    print('OOPSS.. Something wrong')\n",
    "    pass\n",
    "\n",
    "printS(clf_ros_Cat)"
   ]
  },
  {
   "cell_type": "code",
   "execution_count": 33,
   "metadata": {},
   "outputs": [
    {
     "name": "stdout",
     "output_type": "stream",
     "text": [
      "════════════════════════════════════════════════════════════\n",
      "Model Name      : CatBoostClassifier\n",
      "════════════════════════════════════════════════════════════\n",
      "ROC-AUC Score   :  0.7906122308965038\n",
      "Accurarcy Score :  0.9838003910250442\n",
      "Confusion Matrix:\n",
      " [[10563    60]\n",
      " [  114     4]]\n"
     ]
    }
   ],
   "source": [
    "# Computation of Scores and CM with Best Parameters\n",
    "best_params_Cat = clf_ros_Cat.best_params_\n",
    "Cat_BP = CatBoostClassifier(**best_params_Cat)\n",
    "accu_cm(Cat_BP, X_ros, y_ros, X_test, y_test) "
   ]
  },
  {
   "cell_type": "markdown",
   "metadata": {
    "colab_type": "text",
    "id": "KSZEEpZ1bT-Q"
   },
   "source": [
    "---\n",
    "\n",
    "## Random Forest\n",
    "Let's try with **RandomForest** to see if can improve the score."
   ]
  },
  {
   "cell_type": "markdown",
   "metadata": {
    "colab_type": "text",
    "id": "AknfwKoybT-R"
   },
   "source": [
    "##### With Default Parameters "
   ]
  },
  {
   "cell_type": "code",
   "execution_count": 34,
   "metadata": {
    "colab": {
     "base_uri": "https://localhost:8080/",
     "height": 168
    },
    "colab_type": "code",
    "id": "l8aVCcdvbT-S",
    "outputId": "a0ffe2a4-bbb9-453b-f369-6de0e75b9bb4"
   },
   "outputs": [
    {
     "name": "stdout",
     "output_type": "stream",
     "text": [
      "════════════════════════════════════════════════════════════\n",
      "Model Name      : RandomForestClassifier\n",
      "════════════════════════════════════════════════════════════\n",
      "ROC-AUC Score   :  0.7207757551969902\n",
      "Accurarcy Score :  0.9887347546783354\n",
      "Confusion Matrix:\n",
      " [[10619     4]\n",
      " [  117     1]]\n"
     ]
    }
   ],
   "source": [
    "RandF = RandomForestClassifier(random_state = seed)\n",
    "accu_cm(RandF, X_ros, y_ros, X_test, y_test)"
   ]
  },
  {
   "cell_type": "markdown",
   "metadata": {
    "colab_type": "text",
    "id": "H_GYUZq-bT-W"
   },
   "source": [
    "##### Model Tuning\n",
    "[Detail Source](https://towardsdatascience.com/optimizing-hyperparameters-in-random-forest-classification-ec7741f9d3f6)"
   ]
  },
  {
   "cell_type": "code",
   "execution_count": 35,
   "metadata": {
    "colab": {},
    "colab_type": "code",
    "id": "h-5n8QFQbT-X"
   },
   "outputs": [],
   "source": [
    "grid_params = {\n",
    "    'random_state':[seed],\n",
    "    'n_estimators':[20,40,100],\n",
    "    'max_depth':[6,8],\n",
    "    'max_features':[13],\n",
    "    'min_samples_split':[4]\n",
    "}"
   ]
  },
  {
   "cell_type": "code",
   "execution_count": 36,
   "metadata": {
    "colab": {
     "base_uri": "https://localhost:8080/",
     "height": 118
    },
    "colab_type": "code",
    "id": "0PImjsiwbT-a",
    "outputId": "710cdefc-705d-483f-e6c0-588db4898dd2"
   },
   "outputs": [
    {
     "name": "stdout",
     "output_type": "stream",
     "text": [
      "════════════════════════════════════════════════════════════\n",
      "For GridSearchCV model \n",
      "Best Score: 0.8686733825233961\n",
      "════════════════════════════════════════════════════════════\n",
      "Best Params: \n",
      " {'max_depth': 8, 'max_features': 13, 'min_samples_split': 4, 'n_estimators': 20, 'random_state': 29}\n"
     ]
    }
   ],
   "source": [
    "try:\n",
    "    # Before Sampling\n",
    "    clf_ros_RandF = GridSearchCV(RandomForestClassifier(), grid_params, cv=5)\n",
    "    clf_ros_RandF.fit(X_ros, y_ros)\n",
    "except:\n",
    "    print('OOPSS.. Something wrong')\n",
    "    pass\n",
    "\n",
    "printS(clf_ros_RandF)"
   ]
  },
  {
   "cell_type": "code",
   "execution_count": 37,
   "metadata": {},
   "outputs": [
    {
     "name": "stdout",
     "output_type": "stream",
     "text": [
      "════════════════════════════════════════════════════════════\n",
      "Model Name      : RandomForestClassifier\n",
      "════════════════════════════════════════════════════════════\n",
      "ROC-AUC Score   :  0.7865755787330656\n",
      "Accurarcy Score :  0.9851969090401266\n",
      "Confusion Matrix:\n",
      " [[10581    42]\n",
      " [  117     1]]\n"
     ]
    }
   ],
   "source": [
    "# Computation of Scores and CM with Best Parameters\n",
    "best_params_RandF = clf_ros_RandF.best_params_\n",
    "RandF_BP= RandomForestClassifier(**best_params_RandF)\n",
    "accu_cm(RandF_BP, X_ros, y_ros, X_test, y_test) "
   ]
  },
  {
   "cell_type": "markdown",
   "metadata": {
    "colab_type": "text",
    "id": "Bgs94oBibT-i"
   },
   "source": [
    "---\n",
    "\n",
    "## Logistic Regression\n",
    "Let's try with **Logistic Regression** to see if can improve the score."
   ]
  },
  {
   "cell_type": "markdown",
   "metadata": {
    "colab_type": "text",
    "id": "Qo0CVYTmbT-i"
   },
   "source": [
    "##### With Default Parameters "
   ]
  },
  {
   "cell_type": "code",
   "execution_count": 38,
   "metadata": {
    "colab": {
     "base_uri": "https://localhost:8080/",
     "height": 168
    },
    "colab_type": "code",
    "id": "oL-XY1_wbT-j",
    "outputId": "68468387-a910-44ad-fe5d-578e7e54d102"
   },
   "outputs": [
    {
     "name": "stdout",
     "output_type": "stream",
     "text": [
      "════════════════════════════════════════════════════════════\n",
      "Model Name      : LogisticRegression\n",
      "════════════════════════════════════════════════════════════\n",
      "ROC-AUC Score   :  0.48423232608491007\n",
      "Accurarcy Score :  0.9890140582813518\n",
      "Confusion Matrix:\n",
      " [[10623     0]\n",
      " [  118     0]]\n"
     ]
    }
   ],
   "source": [
    "LogReg = LogisticRegression(random_state = seed, max_iter=150)\n",
    "accu_cm(LogReg, X_ros, y_ros, X_test, y_test)"
   ]
  },
  {
   "cell_type": "markdown",
   "metadata": {
    "colab_type": "text",
    "id": "3UK22uIobT-l"
   },
   "source": [
    "##### Model Tuning"
   ]
  },
  {
   "cell_type": "code",
   "execution_count": 39,
   "metadata": {},
   "outputs": [],
   "source": [
    "grid_params = {'C': [0.015, 2, 10],\n",
    "               'fit_intercept':[True],\n",
    "               'intercept_scaling':[1],\n",
    "               'penalty':['l2'],\n",
    "               'max_iter': [100, 120],\n",
    "               'random_state': [seed],\n",
    "               'tol': [0.0001],\n",
    "               'dual':[False],\n",
    "               'verbose': [0],\n",
    "               'solver':['liblinear']}"
   ]
  },
  {
   "cell_type": "code",
   "execution_count": 40,
   "metadata": {
    "colab": {
     "base_uri": "https://localhost:8080/",
     "height": 118
    },
    "colab_type": "code",
    "id": "PCO80TrmbT-p",
    "outputId": "9b9a1c7e-b321-439f-8c9e-e17fc2d8a3a9"
   },
   "outputs": [
    {
     "name": "stdout",
     "output_type": "stream",
     "text": [
      "════════════════════════════════════════════════════════════\n",
      "For GridSearchCV model \n",
      "Best Score: 0.8000100433116634\n",
      "════════════════════════════════════════════════════════════\n",
      "Best Params: \n",
      " {'C': 0.015, 'dual': False, 'fit_intercept': True, 'intercept_scaling': 1, 'max_iter': 100, 'penalty': 'l2', 'random_state': 29, 'solver': 'liblinear', 'tol': 0.0001, 'verbose': 0}\n"
     ]
    }
   ],
   "source": [
    "try:\n",
    "    # Before Sampling\n",
    "    clf_ros_LogReg = GridSearchCV(LogReg, grid_params, cv=5, verbose=False)\n",
    "    clf_ros_LogReg.fit(X_ros, y_ros)\n",
    "except:\n",
    "    print('OOPSS.. Something wrong')\n",
    "    pass\n",
    "\n",
    "printS(clf_ros_LogReg)"
   ]
  },
  {
   "cell_type": "code",
   "execution_count": 41,
   "metadata": {},
   "outputs": [
    {
     "name": "stdout",
     "output_type": "stream",
     "text": [
      "════════════════════════════════════════════════════════════\n",
      "Model Name      : LogisticRegression\n",
      "════════════════════════════════════════════════════════════\n",
      "ROC-AUC Score   :  0.4842426969303893\n",
      "Accurarcy Score :  0.9890140582813518\n",
      "Confusion Matrix:\n",
      " [[10623     0]\n",
      " [  118     0]]\n"
     ]
    }
   ],
   "source": [
    "# Computation of Scores and CM with Best Parameters\n",
    "best_params_LogReg = clf_ros_LogReg.best_params_\n",
    "LogReg_BP = LogisticRegression(**best_params_LogReg)\n",
    "accu_cm(LogReg_BP, X_ros, y_ros, X_test, y_test) "
   ]
  },
  {
   "cell_type": "code",
   "execution_count": 42,
   "metadata": {
    "colab": {
     "base_uri": "https://localhost:8080/",
     "height": 168
    },
    "colab_type": "code",
    "id": "dN2dchp1bT-s",
    "outputId": "80828f95-81f5-4a84-e0b9-4ea7c233cd0a"
   },
   "outputs": [
    {
     "name": "stdout",
     "output_type": "stream",
     "text": [
      "════════════════════════════════════════════════════════════\n",
      "Model Name      : LogisticRegression\n",
      "════════════════════════════════════════════════════════════\n",
      "ROC-AUC Score   :  0.48423232608491007\n",
      "Accurarcy Score :  0.9890140582813518\n",
      "Confusion Matrix:\n",
      " [[10623     0]\n",
      " [  118     0]]\n"
     ]
    }
   ],
   "source": [
    "# Computation of Scores and CM with My est Parameters\n",
    "LogReg_BP_my = LogisticRegression(random_state = seed, C= 0.12)\n",
    "accu_cm(LogReg_BP_my, X_ros, y_ros, X_test, y_test)"
   ]
  },
  {
   "cell_type": "markdown",
   "metadata": {
    "colab_type": "text",
    "id": "NC8eoT3KbT-u"
   },
   "source": [
    "# Results of Base Modelling For Mailout Data\n",
    "The **ROC-AUS Score** were calculate with **below strategy**.\n",
    "- RandomOverSampler (sampling_strategy = **0.25**) value\n",
    "- GridSearchCV parameter cv = **5**  value"
   ]
  },
  {
   "cell_type": "code",
   "execution_count": 43,
   "metadata": {
    "colab": {
     "base_uri": "https://localhost:8080/",
     "height": 773
    },
    "colab_type": "code",
    "id": "NRMq-NI5bT-y",
    "outputId": "26ad28ba-2133-4162-b8f3-83533ebe6ba0"
   },
   "outputs": [
    {
     "name": "stdout",
     "output_type": "stream",
     "text": [
      "════════════════════════════════════════════════════════════\n",
      "Model Name      : XGBClassifier\n",
      "════════════════════════════════════════════════════════════\n",
      "ROC-AUC Score   :  0.7470072133219093\n",
      "Accurarcy Score :  0.9883623498743134\n",
      "Confusion Matrix:\n",
      " [[10615     8]\n",
      " [  117     1]]\n",
      "════════════════════════════════════════════════════════════\n",
      "Model Name      : RandomForestClassifier\n",
      "════════════════════════════════════════════════════════════\n",
      "ROC-AUC Score   :  0.7865755787330656\n",
      "Accurarcy Score :  0.9851969090401266\n",
      "Confusion Matrix:\n",
      " [[10581    42]\n",
      " [  117     1]]\n",
      "════════════════════════════════════════════════════════════\n",
      "Model Name      : LGBMClassifier\n",
      "════════════════════════════════════════════════════════════\n",
      "ROC-AUC Score   :  0.8057401034212621\n",
      "Accurarcy Score :  0.9851969090401266\n",
      "Confusion Matrix:\n",
      " [[10581    42]\n",
      " [  117     1]]\n",
      "════════════════════════════════════════════════════════════\n",
      "Model Name      : CatBoostClassifier\n",
      "════════════════════════════════════════════════════════════\n",
      "ROC-AUC Score   :  0.7906122308965038\n",
      "Accurarcy Score :  0.9838003910250442\n",
      "Confusion Matrix:\n",
      " [[10563    60]\n",
      " [  114     4]]\n",
      "════════════════════════════════════════════════════════════\n",
      "Model Name      : LogisticRegression\n",
      "════════════════════════════════════════════════════════════\n",
      "ROC-AUC Score   :  0.48423232608491007\n",
      "Accurarcy Score :  0.9890140582813518\n",
      "Confusion Matrix:\n",
      " [[10623     0]\n",
      " [  118     0]]\n"
     ]
    }
   ],
   "source": [
    "# All result of Some Scores and CM for models\n",
    "models_BP = [XGB_BP, RandF_BP, lgb_BP, Cat_BP, LogReg_BP_my]\n",
    "\n",
    "for model in models_BP:\n",
    "    accu_cm(model, X_ros, y_ros, X_test, y_test)"
   ]
  },
  {
   "cell_type": "markdown",
   "metadata": {},
   "source": [
    "#### Plot of ROC Score for all models"
   ]
  },
  {
   "cell_type": "code",
   "execution_count": 44,
   "metadata": {
    "colab": {
     "base_uri": "https://localhost:8080/",
     "height": 101
    },
    "colab_type": "code",
    "id": "vVrNJxUCbT-v",
    "outputId": "26f93954-0690-4f25-b7e2-bec3b0bc5f3e"
   },
   "outputs": [],
   "source": [
    "# All result of ROC-AUC Score\n",
    "base_model_roc ={}\n",
    "for model in models_BP:\n",
    "    # Fitting\n",
    "    model.fit(X_ros, y_ros)\n",
    "    # Calculating Roc-Auc-Score\n",
    "    base_model_roc[type(model).__name__] = roc_auc_score(y_test, model.predict_proba(X_test)[:,1])"
   ]
  },
  {
   "cell_type": "code",
   "execution_count": 45,
   "metadata": {
    "colab": {
     "base_uri": "https://localhost:8080/",
     "height": 449
    },
    "colab_type": "code",
    "id": "_-gbSjujbT-4",
    "outputId": "933fe6a5-3715-4a09-bd58-414a931d199f"
   },
   "outputs": [
    {
     "data": {
      "image/png": "[encoded data removed]",
      "text/plain": [
       "<Figure size 1296x864 with 2 Axes>"
      ]
     },
     "metadata": {},
     "output_type": "display_data"
    }
   ],
   "source": [
    "# Plot of ROC Score for all models\n",
    "\n",
    "# Figure size-title for Plot \n",
    "fig, ax = plt.subplots(1, 2, figsize=(18,12))\n",
    "fig.suptitle('Values of\\n Receiver Operating Characteristic', fontsize=18)\n",
    "\n",
    "# Plot for ROC Curve of first Models\n",
    "plt.subplot(221).set_title('ROC Curve of Base Models', size=14)\n",
    "color=['#E9000A','#95EC00','#1BCDFA','#FF8288','#FFEF7E']; i=0\n",
    "for model in models_BP:\n",
    "    col = color[i]; i+=1\n",
    "    preds = model.predict_proba(X_test)[:,1]\n",
    "    fpr, tpr, threshold = roc_curve(y_test, preds)\n",
    "    roc_auc = auc(fpr, tpr)\n",
    "\n",
    "    plt.plot(fpr, tpr, label=type(model).__name__+'  '+str(round(roc_auc,5)), color=col)\n",
    "plt.plot([0, 1], [0, 1],'r--')\n",
    "plt.xlim([0.0, 1.0])\n",
    "plt.ylim([0.0, 1.01])\n",
    "\n",
    "plt.xlabel('False Positive Rate')\n",
    "plt.ylabel('True Positive Rate')\n",
    "plt.legend(loc=\"lower right\")\n",
    "\n",
    "# Plot for ROC-AUC Score of First Models\n",
    "plt.subplot(222).set_title('ROC-AUC Score of Base Models', size=14)\n",
    "Model_title = list(base_model_roc.keys())\n",
    "fmr= list(base_model_roc.values())\n",
    "y_pos = np.arange(len(Model_title))\n",
    "plt.ylim([0.0, 1])\n",
    "plt.bar(y_pos, fmr, alpha=0.8, color=color)\n",
    "plt.plot(Model_title, fmr,'bo-', alpha=0.8) \n",
    "plt.xticks(Model_title, rotation=10);"
   ]
  },
  {
   "cell_type": "markdown",
   "metadata": {
    "colab_type": "text",
    "id": "gOXwvwl0bT-7"
   },
   "source": [
    "# 5. Improving of Models\n",
    "In this section, the **Synthetic** data will be created."
   ]
  },
  {
   "cell_type": "markdown",
   "metadata": {
    "colab_type": "text",
    "id": "vKgQf_36bT-8"
   },
   "source": [
    "**Purpose:** <br>\n",
    "I will create synthetic data to fix the **IMBALANCE** problem in the **`Mailout-Train`** dataset. For this, I will use **`Azdias`** and **`Customers`** datasets. **Synthetic** data set will include **`Mailout-Train`**, **`Azdias`**, and **`Customers`** data.\n",
    "I will increase the number of records of dataset. (**RESPONSE** = 1 ratio will be ~30%) to enter train.\n",
    "In this action:\n",
    "- General population data **`Azdias`** 5%\n",
    "- General Customer Data **`Customers`** 20%\n",
    "- **`Mailout-Train`** dataset will be taken 100%.\n",
    "\n",
    "Besides, I will use some of these synthetic data we created for Control. The data that I created for Train and Control (**RESPONSE** = 1 ratio will be ~30%)."
   ]
  },
  {
   "cell_type": "markdown",
   "metadata": {
    "colab_type": "text",
    "id": "kME6nE9obT-8"
   },
   "source": [
    "<img src=\"https://github.com/huseyinelci2000/CustomerSegmentation/blob/master/Last/image/Azdias_01.jpg?raw=true\" width=\"100%\">"
   ]
  },
  {
   "cell_type": "markdown",
   "metadata": {
    "colab_type": "text",
    "id": "-AkJSiQebT-8"
   },
   "source": [
    "<a id=\"1\"></a>\n",
    "## 5.1. Loading of Datas"
   ]
  },
  {
   "cell_type": "code",
   "execution_count": 46,
   "metadata": {},
   "outputs": [],
   "source": [
    "use_colab=0  # When you want to use COLAB, assign 1 to use_colab\n",
    "if use_colab==1:\n",
    "    # Files with Path of Data from Colab\n",
    "    attribute_file = '../content/drive/My Drive/Studying_Data/Last/data/DIAS Attributes - Values 2017.xlsx'\n",
    "    train_file = '../content/drive/My Drive/Studying_Data/Last/data/mailout_train'\n",
    "    test_file = '../content/drive/My Drive/Studying_Data/Last/data/mailout_test'\n",
    "    azdias_file = '../content/drive/My Drive/Studying_Data/Last/data/azdias.csv'\n",
    "    customer_file = '../content/drive/My Drive/Studying_Data/Last/data/customers.csv'\n",
    "else:\n",
    "    # Use data from My Local\n",
    "    # Files with PATH\n",
    "    attribute_file = '../Last/data/DIAS Attributes - Values 2017.xlsx'\n",
    "    train_file = '../Last/data/mailout_train'\n",
    "    test_file = '../Last/data/mailout_test'\n",
    "    azdias_file = '../Last/data/azdias.csv'\n",
    "    customer_file = '../Last/data/customers.csv'"
   ]
  },
  {
   "cell_type": "code",
   "execution_count": 47,
   "metadata": {
    "colab": {},
    "colab_type": "code",
    "id": "F3HCMZ-HbT_C",
    "scrolled": false
   },
   "outputs": [],
   "source": [
    "# Loading of Azdias and Customers datasets\n",
    "azdias = pd.read_csv(azdias_file,\n",
    "                     na_values=['X','XX', -1],\n",
    "                     index_col=0)\n",
    "customers = pd.read_csv(customer_file,\n",
    "                        na_values=['X','XX', -1],\n",
    "                        index_col=0)\n",
    "\n",
    "\n",
    "# Loading of Maılout-Train and Mailout-Test datasets\n",
    "train    = pd.read_csv(train_file, \n",
    "                        na_values=['X','XX', -1],\n",
    "                        index_col=0)\n",
    "test = pd.read_csv(test_file, \n",
    "                        na_values=['X','XX', -1], \n",
    "                        index_col=0)\n",
    "azdias.set_index('LNR',inplace=True)\n",
    "customers.set_index('LNR',inplace=True)\n",
    "train.set_index('LNR',inplace=True)\n",
    "test.set_index('LNR',inplace=True)"
   ]
  },
  {
   "cell_type": "code",
   "execution_count": 48,
   "metadata": {
    "colab": {
     "base_uri": "https://localhost:8080/",
     "height": 84
    },
    "colab_type": "code",
    "id": "BEnmqMYrbT_E",
    "outputId": "59c11aab-6ce1-44bc-c7bc-9221cb9df81f"
   },
   "outputs": [
    {
     "name": "stdout",
     "output_type": "stream",
     "text": [
      "Shape of Azdias data...: (891221, 365)\n",
      "Shape of Customers data: (191652, 368)\n",
      "Shape of Train data....: (42962, 366)\n",
      "Shape of Test data.....: (42833, 365)\n"
     ]
    }
   ],
   "source": [
    "print('Shape of Azdias data...:', azdias.shape)\n",
    "print('Shape of Customers data:',customers.shape)\n",
    "print('Shape of Train data....:',train.shape)\n",
    "print('Shape of Test data.....:',test.shape)"
   ]
  },
  {
   "cell_type": "markdown",
   "metadata": {
    "colab_type": "text",
    "id": "-X79lkY6bT_H"
   },
   "source": [
    "---\n",
    "<a id=\"2\"></a>\n",
    "## 5.2. Preprocesing the data"
   ]
  },
  {
   "cell_type": "code",
   "execution_count": 49,
   "metadata": {
    "colab": {
     "base_uri": "https://localhost:8080/",
     "height": 84
    },
    "colab_type": "code",
    "id": "4oCRuIO4bT_I",
    "outputId": "5f9bf821-cf66-4436-9fcf-1df8565ae3a1"
   },
   "outputs": [
    {
     "name": "stdout",
     "output_type": "stream",
     "text": [
      "Shape of Azdias data...: (891221, 366)\n",
      "Shape of Customers data: (191652, 366)\n",
      "Shape of Train data....: (42962, 366)\n",
      "Shape of Test data.....: (42833, 366)\n"
     ]
    }
   ],
   "source": [
    "# Synchronizing of Dataframes\n",
    "drop(customers,col_sync(customers,azdias))\n",
    "\n",
    "\n",
    "# Pre-Processing for Syntetic Data\n",
    "azdias['RESPONSE'] = 0\n",
    "customers['RESPONSE'] = 1\n",
    "test['RESPONSE']=0\n",
    "response = train[['RESPONSE']]\n",
    "print('Shape of Azdias data...:', azdias.shape)\n",
    "print('Shape of Customers data:',customers.shape)\n",
    "print('Shape of Train data....:',train.shape)\n",
    "print('Shape of Test data.....:',test.shape)"
   ]
  },
  {
   "cell_type": "code",
   "execution_count": 50,
   "metadata": {
    "colab": {},
    "colab_type": "code",
    "id": "2X1w_2sPbT_K"
   },
   "outputs": [],
   "source": [
    "azdias['Table'] = 'Azdias_Control'\n",
    "customers['Table'] = 'Customers'\n",
    "train['Table'] = 'Train'\n",
    "test['Table'] = 'Test'"
   ]
  },
  {
   "cell_type": "markdown",
   "metadata": {},
   "source": [
    "#### Choosing of sample the Azdias and Customers data set for synthetic data."
   ]
  },
  {
   "cell_type": "code",
   "execution_count": 51,
   "metadata": {
    "colab": {},
    "colab_type": "code",
    "id": "c3SWXQ6SbT_N"
   },
   "outputs": [],
   "source": [
    "azdias_sample = azdias.sample(frac =.05)                  #44561\n",
    "customers_sample = customers.sample(frac =.20)            #38330"
   ]
  },
  {
   "cell_type": "code",
   "execution_count": 52,
   "metadata": {
    "colab": {
     "base_uri": "https://localhost:8080/",
     "height": 84
    },
    "colab_type": "code",
    "id": "VEbxGjCXbT_Q",
    "outputId": "3ca55dfa-7fc4-475a-fd49-ad08a80a7eec"
   },
   "outputs": [
    {
     "name": "stdout",
     "output_type": "stream",
     "text": [
      "Shape of Azdias Sample data...: (44561, 367)\n",
      "Shape of Customers Sample data: (38330, 367)\n",
      "Shape of Train data....: (42962, 367)\n",
      "Shape of Test data.....: (42833, 367)\n"
     ]
    }
   ],
   "source": [
    "print('Shape of Azdias Sample data...:', azdias_sample.shape)\n",
    "print('Shape of Customers Sample data:',customers_sample.shape)\n",
    "print('Shape of Train data....:',train.shape)\n",
    "print('Shape of Test data.....:',test.shape)"
   ]
  },
  {
   "cell_type": "code",
   "execution_count": 53,
   "metadata": {
    "colab": {
     "base_uri": "https://localhost:8080/",
     "height": 34
    },
    "colab_type": "code",
    "id": "GOoFH2vLbT_U",
    "outputId": "110da43b-3dec-4fc0-dd69-042413a5e2c4"
   },
   "outputs": [
    {
     "data": {
      "text/plain": [
       "True"
      ]
     },
     "execution_count": 53,
     "metadata": {},
     "output_type": "execute_result"
    }
   ],
   "source": [
    "# Checking if the features are the same\n",
    "set(azdias_sample.columns.tolist())==set(\n",
    "    customers_sample.columns.tolist())==set(\n",
    "    train.columns.tolist())==set(\n",
    "    test.columns.tolist())"
   ]
  },
  {
   "cell_type": "markdown",
   "metadata": {},
   "source": [
    "#### Choosing of sample Customers data set for Control data."
   ]
  },
  {
   "cell_type": "code",
   "execution_count": 54,
   "metadata": {
    "colab": {
     "base_uri": "https://localhost:8080/",
     "height": 101
    },
    "colab_type": "code",
    "id": "4wKPXP17bT_X",
    "outputId": "0f68123a-317a-45a5-b79a-f6721f47ea94"
   },
   "outputs": [
    {
     "name": "stderr",
     "output_type": "stream",
     "text": [
      "D:\\Anaconda\\lib\\site-packages\\ipykernel_launcher.py:2: SettingWithCopyWarning: \n",
      "A value is trying to be set on a copy of a slice from a DataFrame\n",
      "\n",
      "See the caveats in the documentation: https://pandas.pydata.org/pandas-docs/stable/user_guide/indexing.html#returning-a-view-versus-a-copy\n",
      "  \n"
     ]
    }
   ],
   "source": [
    "# Selecting samples for Control in customers_sample\n",
    "customers_sample['Table'][customers_sample['Table'].sample(frac=0.5, random_state=seed).index]='Customer_Control'"
   ]
  },
  {
   "cell_type": "markdown",
   "metadata": {},
   "source": [
    "#### Merging of chosen of sample datasets"
   ]
  },
  {
   "cell_type": "code",
   "execution_count": 55,
   "metadata": {
    "colab": {},
    "colab_type": "code",
    "id": "4sht9vK3bT_Z"
   },
   "outputs": [],
   "source": [
    "# Merge of azdias_sample, customers_sample_train and test datasets \n",
    "\n",
    "df_union = pd.concat([azdias_sample, customers_sample, train, test])"
   ]
  },
  {
   "cell_type": "code",
   "execution_count": 56,
   "metadata": {
    "colab": {
     "base_uri": "https://localhost:8080/",
     "height": 34
    },
    "colab_type": "code",
    "id": "PJbNpKIpbT_b",
    "outputId": "7694b003-977b-4e2b-b00a-463721facf26"
   },
   "outputs": [
    {
     "data": {
      "text/plain": [
       "(146692, 367)"
      ]
     },
     "execution_count": 56,
     "metadata": {},
     "output_type": "execute_result"
    }
   ],
   "source": [
    "df_union.drop_duplicates(inplace=True, keep='first')\n",
    "df_union.shape"
   ]
  },
  {
   "cell_type": "code",
   "execution_count": 57,
   "metadata": {
    "colab": {
     "base_uri": "https://localhost:8080/",
     "height": 254
    },
    "colab_type": "code",
    "id": "IOGx77yCbT_d",
    "outputId": "b42d90d4-27b7-4488-ef3c-b8bc61b59b75"
   },
   "outputs": [
    {
     "data": {
      "text/html": [
       "<div>\n",
       "<style scoped>\n",
       "    .dataframe tbody tr th:only-of-type {\n",
       "        vertical-align: middle;\n",
       "    }\n",
       "\n",
       "    .dataframe tbody tr th {\n",
       "        vertical-align: top;\n",
       "    }\n",
       "\n",
       "    .dataframe thead th {\n",
       "        text-align: right;\n",
       "    }\n",
       "</style>\n",
       "<table border=\"1\" class=\"dataframe\">\n",
       "  <thead>\n",
       "    <tr style=\"text-align: right;\">\n",
       "      <th></th>\n",
       "      <th></th>\n",
       "      <th>Table</th>\n",
       "    </tr>\n",
       "    <tr>\n",
       "      <th>Table</th>\n",
       "      <th>RESPONSE</th>\n",
       "      <th></th>\n",
       "    </tr>\n",
       "  </thead>\n",
       "  <tbody>\n",
       "    <tr>\n",
       "      <th>Azdias_Control</th>\n",
       "      <th>0</th>\n",
       "      <td>42221</td>\n",
       "    </tr>\n",
       "    <tr>\n",
       "      <th>Customer_Control</th>\n",
       "      <th>1</th>\n",
       "      <td>15073</td>\n",
       "    </tr>\n",
       "    <tr>\n",
       "      <th>Customers</th>\n",
       "      <th>1</th>\n",
       "      <td>14998</td>\n",
       "    </tr>\n",
       "    <tr>\n",
       "      <th>Test</th>\n",
       "      <th>0</th>\n",
       "      <td>37200</td>\n",
       "    </tr>\n",
       "    <tr>\n",
       "      <th rowspan=\"2\" valign=\"top\">Train</th>\n",
       "      <th>0</th>\n",
       "      <td>36727</td>\n",
       "    </tr>\n",
       "    <tr>\n",
       "      <th>1</th>\n",
       "      <td>473</td>\n",
       "    </tr>\n",
       "  </tbody>\n",
       "</table>\n",
       "</div>"
      ],
      "text/plain": [
       "                           Table\n",
       "Table            RESPONSE       \n",
       "Azdias_Control   0         42221\n",
       "Customer_Control 1         15073\n",
       "Customers        1         14998\n",
       "Test             0         37200\n",
       "Train            0         36727\n",
       "                 1           473"
      ]
     },
     "execution_count": 57,
     "metadata": {},
     "output_type": "execute_result"
    }
   ],
   "source": [
    "# Demographic of df_union after drop_duplicate\n",
    "df_union.groupby(['Table','RESPONSE'])[['Table']].count()"
   ]
  },
  {
   "cell_type": "code",
   "execution_count": 58,
   "metadata": {
    "colab": {},
    "colab_type": "code",
    "id": "lJ6M5AR3bT_f"
   },
   "outputs": [],
   "source": [
    "table = df_union[['Table']]\n",
    "del df_union['Table']"
   ]
  },
  {
   "cell_type": "markdown",
   "metadata": {},
   "source": [
    "#### The process of extracting important columns\n",
    "I have determined **important features** with transactions in **Part1** and **Part2** and I use these in Synthetic data set."
   ]
  },
  {
   "cell_type": "code",
   "execution_count": 59,
   "metadata": {
    "colab": {
     "base_uri": "https://localhost:8080/",
     "height": 34
    },
    "colab_type": "code",
    "id": "P0tJ1IUZbT_h",
    "outputId": "5f7d4a45-0424-47c2-e18e-624a76a416d5"
   },
   "outputs": [
    {
     "name": "stdout",
     "output_type": "stream",
     "text": [
      "Size of important columns comes from Part-2-UnsupervisedLearing: 55\n"
     ]
    }
   ],
   "source": [
    "# Loading important columns comes from Part-2-UnsupervisedLearing\n",
    "imp_feat_list = list(pd.read_csv('../Last/imp_feat_list_part2.csv', index_col=0).index.values[0:70])\n",
    "\n",
    "if 'customer' in imp_feat_list:\n",
    "    imp_feat_list.remove('customer')\n",
    "# Length of important columns list\n",
    "print('Size of important columns comes from Part-2-UnsupervisedLearing:',len(imp_feat_list))"
   ]
  },
  {
   "cell_type": "markdown",
   "metadata": {},
   "source": [
    "#### Preprocessing of  Synthetic data set"
   ]
  },
  {
   "cell_type": "code",
   "execution_count": 60,
   "metadata": {
    "colab": {
     "base_uri": "https://localhost:8080/",
     "height": 101
    },
    "colab_type": "code",
    "id": "f2Mw3nzabT_j",
    "outputId": "c6e7e6e5-231c-46d0-8728-69688e2bb68a"
   },
   "outputs": [
    {
     "name": "stdout",
     "output_type": "stream",
     "text": [
      "Start Preprocessing...\n",
      " Implementing of Cols-Drop\n",
      " processing of get_dummies ...\n",
      " Processing of fill NaN with MEAN...\n",
      " Processing of scaling...\n"
     ]
    }
   ],
   "source": [
    "df_union_pre, df_union_col = pre_processing(df_union, attribute_file, 0.8, imp_feat_list)"
   ]
  },
  {
   "cell_type": "code",
   "execution_count": 61,
   "metadata": {
    "colab": {},
    "colab_type": "code",
    "id": "GNsdOJtUbT_m"
   },
   "outputs": [],
   "source": [
    "df_union_pre[['Table']] = table"
   ]
  },
  {
   "cell_type": "markdown",
   "metadata": {},
   "source": [
    "#### Label Encoding of RESPONCE feature"
   ]
  },
  {
   "cell_type": "code",
   "execution_count": 62,
   "metadata": {
    "colab": {
     "base_uri": "https://localhost:8080/",
     "height": 118
    },
    "colab_type": "code",
    "id": "pf0FtPY2bT_r",
    "outputId": "52c09985-0b9b-4ddb-a674-e4e490af32dc"
   },
   "outputs": [
    {
     "data": {
      "text/plain": [
       "-0.512811    116148\n",
       " 1.950037     30544\n",
       "Name: RESPONSE, dtype: int64"
      ]
     },
     "metadata": {},
     "output_type": "display_data"
    },
    {
     "data": {
      "text/plain": [
       "0.0    116148\n",
       "1.0     30544\n",
       "Name: RESPONSE, dtype: int64"
      ]
     },
     "execution_count": 62,
     "metadata": {},
     "output_type": "execute_result"
    }
   ],
   "source": [
    "# Looking for RESPONSE column\n",
    "display(df_union_pre['RESPONSE'].value_counts())\n",
    "\n",
    "# Label  Encoding for RESPONSE column\n",
    "df_union_pre['RESPONSE'].replace({df_union_pre['RESPONSE'].unique().tolist()[0]:0,\n",
    "                                df_union_pre['RESPONSE'].unique().tolist()[1]:1}, inplace=True)\n",
    "df_union_pre['RESPONSE'].value_counts()"
   ]
  },
  {
   "cell_type": "markdown",
   "metadata": {},
   "source": [
    "## 5.3. Saving Union Synthetic Dataset"
   ]
  },
  {
   "cell_type": "code",
   "execution_count": 63,
   "metadata": {
    "colab": {},
    "colab_type": "code",
    "id": "kMU556IhbT_t"
   },
   "outputs": [],
   "source": [
    "# Saving  New Synthetic Data (with pre-processing)\n",
    "df_union_pre.to_csv('df_union_pre.csv')"
   ]
  },
  {
   "cell_type": "markdown",
   "metadata": {
    "colab_type": "text",
    "id": "qUXhocb1bT_x"
   },
   "source": [
    "### Preparation of data sets before Models implementing"
   ]
  },
  {
   "cell_type": "markdown",
   "metadata": {},
   "source": [
    "#### Loading Union Synthetic Dataset"
   ]
  },
  {
   "cell_type": "code",
   "execution_count": 64,
   "metadata": {},
   "outputs": [],
   "source": [
    "df_union_pre = pd.read_csv('df_union_pre.csv',\n",
    "                           na_values=['X','XX', -1],\n",
    "                           index_col=0)"
   ]
  },
  {
   "cell_type": "markdown",
   "metadata": {},
   "source": [
    "#### Train-Test-Train Control Split of Union Synthetic Dataset"
   ]
  },
  {
   "cell_type": "markdown",
   "metadata": {
    "colab_type": "text",
    "id": "JSgpMsV_bT__"
   },
   "source": [
    "* **`df_train`** :This dataset contains the synthetic data create for training.<br>\n",
    "* **`df_test`** :This dataset contains the Mailout-Test records.<br>\n",
    "* **`df_train_control`** :This data set contains real customer records from Customers dataset used for estimation after training."
   ]
  },
  {
   "cell_type": "code",
   "execution_count": 65,
   "metadata": {
    "colab": {},
    "colab_type": "code",
    "id": "TjXxjRnubT_y"
   },
   "outputs": [],
   "source": [
    "df_train = df_union_pre[(df_union_pre['Table']=='Customers') | (df_union_pre['Table']=='Train')]\n",
    "df_test = df_union_pre[(df_union_pre['Table']=='Test')]\n",
    "df_train_control = df_union_pre[(df_union_pre['Table']=='Azdias_Control') | (df_union_pre['Table']=='Customer_Control')] "
   ]
  },
  {
   "cell_type": "markdown",
   "metadata": {
    "colab_type": "text",
    "id": "u-9iTD6ZbUAD"
   },
   "source": [
    "### Some the numbers of New Sythetic Mixed Mailout Data"
   ]
  },
  {
   "cell_type": "markdown",
   "metadata": {},
   "source": [
    "#### Distrubution of df_train set"
   ]
  },
  {
   "cell_type": "code",
   "execution_count": 66,
   "metadata": {
    "colab": {
     "base_uri": "https://localhost:8080/",
     "height": 67
    },
    "colab_type": "code",
    "id": "pT24GeqqbT_8",
    "outputId": "f5c4ea00-9b89-4fe3-a1ea-db7580fca360"
   },
   "outputs": [
    {
     "name": "stdout",
     "output_type": "stream",
     "text": [
      "Distrubution of Train after create syntetic data\n"
     ]
    },
    {
     "data": {
      "text/html": [
       "<div>\n",
       "<style scoped>\n",
       "    .dataframe tbody tr th:only-of-type {\n",
       "        vertical-align: middle;\n",
       "    }\n",
       "\n",
       "    .dataframe tbody tr th {\n",
       "        vertical-align: top;\n",
       "    }\n",
       "\n",
       "    .dataframe thead th {\n",
       "        text-align: right;\n",
       "    }\n",
       "</style>\n",
       "<table border=\"1\" class=\"dataframe\">\n",
       "  <thead>\n",
       "    <tr style=\"text-align: right;\">\n",
       "      <th></th>\n",
       "      <th>Count</th>\n",
       "      <th>Count_Percent</th>\n",
       "    </tr>\n",
       "  </thead>\n",
       "  <tbody>\n",
       "    <tr>\n",
       "      <th>Train</th>\n",
       "      <td>37200</td>\n",
       "      <td>0.712671</td>\n",
       "    </tr>\n",
       "    <tr>\n",
       "      <th>Customers</th>\n",
       "      <td>14998</td>\n",
       "      <td>0.287329</td>\n",
       "    </tr>\n",
       "  </tbody>\n",
       "</table>\n",
       "</div>"
      ],
      "text/plain": [
       "           Count  Count_Percent\n",
       "Train      37200       0.712671\n",
       "Customers  14998       0.287329"
      ]
     },
     "metadata": {},
     "output_type": "display_data"
    }
   ],
   "source": [
    "df_train_stat = pd.concat([df_train['Table'].value_counts(),\n",
    "        df_train['Table'].value_counts()/df_train['Table'].value_counts().sum()],\n",
    "        axis=1)\n",
    "\n",
    "df_train_stat.columns=['Count','Count_Percent']\n",
    "print('Distrubution of Train after create syntetic data')\n",
    "display(df_train_stat)"
   ]
  },
  {
   "cell_type": "markdown",
   "metadata": {},
   "source": [
    "#### Distrubution of df_test set"
   ]
  },
  {
   "cell_type": "code",
   "execution_count": 67,
   "metadata": {
    "colab": {
     "base_uri": "https://localhost:8080/",
     "height": 50
    },
    "colab_type": "code",
    "id": "fw0cinzbbT_0",
    "outputId": "21860f07-f1d3-4999-b08d-eb6fca8f94b1"
   },
   "outputs": [
    {
     "name": "stdout",
     "output_type": "stream",
     "text": [
      "Distrubution of Test\n"
     ]
    },
    {
     "data": {
      "text/html": [
       "<div>\n",
       "<style scoped>\n",
       "    .dataframe tbody tr th:only-of-type {\n",
       "        vertical-align: middle;\n",
       "    }\n",
       "\n",
       "    .dataframe tbody tr th {\n",
       "        vertical-align: top;\n",
       "    }\n",
       "\n",
       "    .dataframe thead th {\n",
       "        text-align: right;\n",
       "    }\n",
       "</style>\n",
       "<table border=\"1\" class=\"dataframe\">\n",
       "  <thead>\n",
       "    <tr style=\"text-align: right;\">\n",
       "      <th></th>\n",
       "      <th>Count</th>\n",
       "      <th>Count_Percent</th>\n",
       "    </tr>\n",
       "  </thead>\n",
       "  <tbody>\n",
       "    <tr>\n",
       "      <th>Test</th>\n",
       "      <td>37200</td>\n",
       "      <td>1.0</td>\n",
       "    </tr>\n",
       "  </tbody>\n",
       "</table>\n",
       "</div>"
      ],
      "text/plain": [
       "      Count  Count_Percent\n",
       "Test  37200            1.0"
      ]
     },
     "metadata": {},
     "output_type": "display_data"
    }
   ],
   "source": [
    "df_test['Table'].value_counts()\n",
    "\n",
    "\n",
    "df_test_stat = pd.concat([df_test['Table'].value_counts(),\n",
    "        df_test['Table'].value_counts()/df_test['Table'].value_counts().sum()],\n",
    "        axis=1)\n",
    "\n",
    "df_test_stat.columns=['Count','Count_Percent']\n",
    "print('Distrubution of Test')\n",
    "display(df_test_stat)"
   ]
  },
  {
   "cell_type": "markdown",
   "metadata": {},
   "source": [
    "#### Distrubution of df_train_control set"
   ]
  },
  {
   "cell_type": "code",
   "execution_count": 68,
   "metadata": {
    "colab": {
     "base_uri": "https://localhost:8080/",
     "height": 67
    },
    "colab_type": "code",
    "id": "qy_4Sa4mbT_6",
    "outputId": "11e39a05-db68-4029-d029-6c7dc4b7d683"
   },
   "outputs": [
    {
     "name": "stdout",
     "output_type": "stream",
     "text": [
      "Distrubution of Control Data after create syntetic data\n"
     ]
    },
    {
     "data": {
      "text/html": [
       "<div>\n",
       "<style scoped>\n",
       "    .dataframe tbody tr th:only-of-type {\n",
       "        vertical-align: middle;\n",
       "    }\n",
       "\n",
       "    .dataframe tbody tr th {\n",
       "        vertical-align: top;\n",
       "    }\n",
       "\n",
       "    .dataframe thead th {\n",
       "        text-align: right;\n",
       "    }\n",
       "</style>\n",
       "<table border=\"1\" class=\"dataframe\">\n",
       "  <thead>\n",
       "    <tr style=\"text-align: right;\">\n",
       "      <th></th>\n",
       "      <th>Count</th>\n",
       "      <th>Count_Percent</th>\n",
       "    </tr>\n",
       "  </thead>\n",
       "  <tbody>\n",
       "    <tr>\n",
       "      <th>Azdias_Control</th>\n",
       "      <td>42221</td>\n",
       "      <td>0.736918</td>\n",
       "    </tr>\n",
       "    <tr>\n",
       "      <th>Customer_Control</th>\n",
       "      <td>15073</td>\n",
       "      <td>0.263082</td>\n",
       "    </tr>\n",
       "  </tbody>\n",
       "</table>\n",
       "</div>"
      ],
      "text/plain": [
       "                  Count  Count_Percent\n",
       "Azdias_Control    42221       0.736918\n",
       "Customer_Control  15073       0.263082"
      ]
     },
     "metadata": {},
     "output_type": "display_data"
    }
   ],
   "source": [
    "df_train_control_stat = pd.concat([df_train_control['Table'].value_counts(),\n",
    "        df_train_control['Table'].value_counts()/df_train_control['Table'].value_counts().sum()],\n",
    "                                axis=1)\n",
    "\n",
    "df_train_control_stat.columns=['Count','Count_Percent']\n",
    "print('Distrubution of Control Data after create syntetic data')\n",
    "display(df_train_control_stat)"
   ]
  },
  {
   "cell_type": "markdown",
   "metadata": {},
   "source": [
    "#### Drop Some Columns"
   ]
  },
  {
   "cell_type": "code",
   "execution_count": 69,
   "metadata": {
    "colab": {
     "base_uri": "https://localhost:8080/",
     "height": 101
    },
    "colab_type": "code",
    "id": "pl-ZgkivbT__",
    "outputId": "a50ea765-8b08-4c94-9bad-7698376b90e1"
   },
   "outputs": [
    {
     "name": "stderr",
     "output_type": "stream",
     "text": [
      "D:\\Anaconda\\lib\\site-packages\\pandas\\core\\frame.py:3997: SettingWithCopyWarning: \n",
      "A value is trying to be set on a copy of a slice from a DataFrame\n",
      "\n",
      "See the caveats in the documentation: https://pandas.pydata.org/pandas-docs/stable/user_guide/indexing.html#returning-a-view-versus-a-copy\n",
      "  errors=errors,\n"
     ]
    }
   ],
   "source": [
    "del df_train['Table']\n",
    "df_test.drop(['Table','RESPONSE'], axis=1, inplace=True)\n",
    "del df_train_control['Table']"
   ]
  },
  {
   "cell_type": "markdown",
   "metadata": {},
   "source": [
    "#### Plot and Some the number of Synthetic data "
   ]
  },
  {
   "cell_type": "code",
   "execution_count": 70,
   "metadata": {
    "colab": {
     "base_uri": "https://localhost:8080/",
     "height": 428
    },
    "colab_type": "code",
    "id": "hYRZWXLqbUAD",
    "outputId": "627b6662-c1ee-4664-8c9d-f054c55da890",
    "scrolled": false
   },
   "outputs": [
    {
     "name": "stdout",
     "output_type": "stream",
     "text": [
      "Total number of records ......................: 52198\n",
      "Individuals who became customers .............: 15471\n",
      "Individuals who did not become customers .....: 36727\n",
      "Percentage of individuals who became customers: 29.639%\n"
     ]
    },
    {
     "data": {
      "image/png": "[encoded data removed]",
      "text/plain": [
       "<Figure size 576x396 with 1 Axes>"
      ]
     },
     "metadata": {},
     "output_type": "display_data"
    }
   ],
   "source": [
    "# Total number of records\n",
    "num_records = df_train.shape[0]\n",
    "\n",
    "# Number of records where the individual became a customer\n",
    "num_customer = df_train[df_train['RESPONSE'] == 1].shape[0]\n",
    "\n",
    "# Number of records where individual did not become a customer\n",
    "num_not_customer = df_train[df_train['RESPONSE'] == 0].shape[0]\n",
    "\n",
    "# Percentage of individuals who became customers\n",
    "perc_customer = (num_customer / num_records) * 100\n",
    "\n",
    "# Print the results\n",
    "print(\"Total number of records ......................: {}\".format(num_records))\n",
    "print(\"Individuals who became customers .............: {}\".format(num_customer))\n",
    "print(\"Individuals who did not become customers .....: {}\".format(num_not_customer))\n",
    "print(\"Percentage of individuals who became customers: {}%\".format(round(perc_customer,3)))\n",
    "\n",
    "# Plotting\n",
    "sns.countplot(x=\"RESPONSE\",\n",
    "              hue=\"RESPONSE\",\n",
    "              data=df_train,\n",
    "              dodge=False,\n",
    "              palette=\"RdBu_r\")\n",
    "\n",
    "plt.legend({\"Non-Response : {}\".format(num_not_customer):0,\n",
    "            \"Response : {}\".format(num_customer):1});"
   ]
  },
  {
   "cell_type": "markdown",
   "metadata": {
    "colab_type": "text",
    "id": "H6eEKIO8bUAR"
   },
   "source": [
    "---\n",
    "\n",
    "## 5.4. Modeling"
   ]
  },
  {
   "cell_type": "markdown",
   "metadata": {
    "colab_type": "text",
    "id": "SFwEsperbUAI"
   },
   "source": [
    "---\n",
    "\n",
    "## Train-Test Split with New Synthetic Data"
   ]
  },
  {
   "cell_type": "code",
   "execution_count": 71,
   "metadata": {
    "colab": {},
    "colab_type": "code",
    "id": "_YN6CCOKbUAJ"
   },
   "outputs": [],
   "source": [
    "y = df_train['RESPONSE'].values                # Target Value as array\n",
    "X = df_train.drop('RESPONSE', axis=1).values   # Features as array\n",
    "\n",
    "# Train - Test - Split Data \n",
    "X_train, X_test, y_train, y_test = train_test_split(X, y, stratify=y, test_size=0.25, random_state=seed)"
   ]
  },
  {
   "cell_type": "code",
   "execution_count": 72,
   "metadata": {
    "colab": {},
    "colab_type": "code",
    "id": "koUHTkLnbUAP"
   },
   "outputs": [],
   "source": [
    "y_train_control = df_train_control['RESPONSE'].values                # Target Value as array\n",
    "X_train_control = df_train_control.drop('RESPONSE', axis=1).values   # Features as array\n"
   ]
  },
  {
   "cell_type": "markdown",
   "metadata": {
    "colab_type": "text",
    "id": "H6eEKIO8bUAR"
   },
   "source": [
    "\n",
    "## Lightgbm\n",
    "Let's try with **Lightgbm** to see if can improve the score."
   ]
  },
  {
   "cell_type": "markdown",
   "metadata": {
    "colab_type": "text",
    "id": "vBtV402WbUAR"
   },
   "source": [
    "##### With Default Parameters"
   ]
  },
  {
   "cell_type": "code",
   "execution_count": 73,
   "metadata": {
    "colab": {
     "base_uri": "https://localhost:8080/",
     "height": 0
    },
    "colab_type": "code",
    "id": "JtN_J-1AbUAS",
    "outputId": "cd03dc2b-c55d-4544-f1dd-5a7d1b522cdf"
   },
   "outputs": [
    {
     "name": "stdout",
     "output_type": "stream",
     "text": [
      "════════════════════════════════════════════════════════════\n",
      "Model Name      : LGBMClassifier\n",
      "════════════════════════════════════════════════════════════\n",
      "ROC-AUC Score   :  0.8154482929034529\n",
      "Accurarcy Score :  0.7695019157088122\n",
      "Confusion Matrix:\n",
      " [[8160 1022]\n",
      " [1986 1882]]\n"
     ]
    }
   ],
   "source": [
    "lgb = LGBMClassifier(random_state = seed)\n",
    "accu_cm(lgb,  X_train, y_train, X_test, y_test)"
   ]
  },
  {
   "cell_type": "markdown",
   "metadata": {
    "colab_type": "text",
    "id": "EneObSgwbUAU"
   },
   "source": [
    "##### Model Tuning"
   ]
  },
  {
   "cell_type": "code",
   "execution_count": 74,
   "metadata": {
    "colab": {},
    "colab_type": "code",
    "id": "0BBc8b__bUAV"
   },
   "outputs": [],
   "source": [
    "grid_params = {\n",
    "        'random_state': [seed],\n",
    "        'n_estimators': [10,15,20],\n",
    "        'n_jobs': [-1],\n",
    "        'ntrees': [40],\n",
    "        'learn_rate' : np.arange(0.01,0.2,0.005),\n",
    "        'sample_rate':[0.45], \n",
    "        'col_sample_rate_per_tree': [0.8],\n",
    "        'stopping_metric':['AUC'],\n",
    "        'min_rows':[3],\n",
    "        'min_child_samples':[40,60,100],\n",
    "        'max_depth': [8],\n",
    "        'max_features':[3],\n",
    "        'class_weight': ['balanced']\n",
    "}"
   ]
  },
  {
   "cell_type": "code",
   "execution_count": 75,
   "metadata": {
    "colab": {
     "base_uri": "https://localhost:8080/",
     "height": 0
    },
    "colab_type": "code",
    "id": "Uxr2rgQCbUAW",
    "outputId": "205dc12e-6ad2-4a60-c231-8beb4da15388"
   },
   "outputs": [
    {
     "name": "stdout",
     "output_type": "stream",
     "text": [
      "════════════════════════════════════════════════════════════\n",
      "For GridSearchCV model \n",
      "Best Score: 0.7148576064120908\n",
      "════════════════════════════════════════════════════════════\n",
      "Best Params: \n",
      " {'class_weight': 'balanced', 'col_sample_rate_per_tree': 0.8, 'learn_rate': 0.01, 'max_depth': 8, 'max_features': 3, 'min_child_samples': 40, 'min_rows': 3, 'n_estimators': 20, 'n_jobs': -1, 'ntrees': 40, 'random_state': 29, 'sample_rate': 0.45, 'stopping_metric': 'AUC'}\n"
     ]
    }
   ],
   "source": [
    "try: \n",
    "    # After Sampling\n",
    "    clf_LGB = GridSearchCV(LGBMClassifier(), grid_params, cv=5)\n",
    "    clf_LGB.fit(X_train, y_train)\n",
    "except:\n",
    "    print('OOPSS.. Something wrong')\n",
    "    pass\n",
    "\n",
    "printS(clf_LGB)"
   ]
  },
  {
   "cell_type": "code",
   "execution_count": 76,
   "metadata": {},
   "outputs": [
    {
     "name": "stdout",
     "output_type": "stream",
     "text": [
      "════════════════════════════════════════════════════════════\n",
      "Model Name      : LGBMClassifier\n",
      "════════════════════════════════════════════════════════════\n",
      "ROC-AUC Score   :  0.8110028850115227\n",
      "Accurarcy Score :  0.7179310344827586\n",
      "Confusion Matrix:\n",
      " [[6341 2841]\n",
      " [ 840 3028]]\n"
     ]
    }
   ],
   "source": [
    "# Computation of Scores and CM with Best Parameters\n",
    "best_params_LGB = clf_LGB.best_params_\n",
    "lgb_BP = LGBMClassifier(**best_params_LGB)\n",
    "accu_cm(lgb_BP, X_train, y_train, X_test, y_test) "
   ]
  },
  {
   "cell_type": "code",
   "execution_count": 77,
   "metadata": {
    "colab": {
     "base_uri": "https://localhost:8080/",
     "height": 0
    },
    "colab_type": "code",
    "id": "OvwJRC5xbUAb",
    "outputId": "46bce99c-1f12-439f-bc8c-59a19e44e16b"
   },
   "outputs": [
    {
     "name": "stdout",
     "output_type": "stream",
     "text": [
      "For Test data\n",
      "════════════════════════════════════════════════════════════\n",
      "Model Name      : LGBMClassifier\n",
      "════════════════════════════════════════════════════════════\n",
      "ROC-AUC Score   :  0.8154482929034529\n",
      "Accurarcy Score :  0.7695019157088122\n",
      "Confusion Matrix:\n",
      " [[8160 1022]\n",
      " [1986 1882]]\n",
      "\n",
      "For Train Control data\n",
      "════════════════════════════════════════════════════════════\n",
      "Model Name      : LGBMClassifier\n",
      "════════════════════════════════════════════════════════════\n",
      "ROC-AUC Score   :  0.7055244661198057\n",
      "Accurarcy Score :  0.7164624568017594\n",
      "Confusion Matrix:\n",
      " [[33692  8529]\n",
      " [ 7716  7357]]\n"
     ]
    }
   ],
   "source": [
    "# Computation of Scores and CM with My Best Parameters\n",
    "lgb_BP_my = LGBMClassifier(random_state= seed)\n",
    "\n",
    "# accu_cum function for X_test - y_test\n",
    "print('For Test data')\n",
    "accu_cm(lgb_BP_my, X_train, y_train, X_test, y_test)\n",
    "print('')\n",
    "# accu_cum function for Control_X_test - Control_y_test\n",
    "print('For Train Control data')\n",
    "accu_cm(lgb_BP_my, X_train, y_train, X_train_control, y_train_control)"
   ]
  },
  {
   "cell_type": "markdown",
   "metadata": {
    "colab_type": "text",
    "id": "GVEvJ0rlbUAc"
   },
   "source": [
    "---\n",
    "\n",
    "## XGBoost\n",
    "Let's try with **XGBoost** to see if can improve the score."
   ]
  },
  {
   "cell_type": "markdown",
   "metadata": {
    "colab_type": "text",
    "id": "fwVZSKMvbUAc"
   },
   "source": [
    "##### With Default Parameters"
   ]
  },
  {
   "cell_type": "code",
   "execution_count": 78,
   "metadata": {
    "colab": {
     "base_uri": "https://localhost:8080/",
     "height": 0
    },
    "colab_type": "code",
    "id": "nLtsUddVbUAd",
    "outputId": "45e7285b-693d-4e71-9152-59b33bc3d928"
   },
   "outputs": [
    {
     "name": "stdout",
     "output_type": "stream",
     "text": [
      "════════════════════════════════════════════════════════════\n",
      "Model Name      : XGBClassifier\n",
      "════════════════════════════════════════════════════════════\n",
      "ROC-AUC Score   :  0.8071203224149044\n",
      "Accurarcy Score :  0.7669731800766284\n",
      "Confusion Matrix:\n",
      " [[8049 1133]\n",
      " [1908 1960]]\n"
     ]
    }
   ],
   "source": [
    "XGB = XGBClassifier(random_state = seed)\n",
    "accu_cm(XGB, X_train, y_train, X_test, y_test)"
   ]
  },
  {
   "cell_type": "markdown",
   "metadata": {
    "colab_type": "text",
    "id": "dI6jSZk2bUAf"
   },
   "source": [
    "##### Model Tuning"
   ]
  },
  {
   "cell_type": "code",
   "execution_count": 79,
   "metadata": {
    "colab": {},
    "colab_type": "code",
    "id": "3hJ4w2MUbUAf"
   },
   "outputs": [],
   "source": [
    "grid_params = {\n",
    "    'random_state':[seed],\n",
    "    'n_jobs':[-1],\n",
    "    'reg_alpha':[0.1],\n",
    "    'min_child_weight':[1,2],\n",
    "    'max_depth':[8,13],\n",
    "    'learning_rate':[0.1,0.15,0.2],\n",
    "    'subsample':[0.8],\n",
    "    'colsample_bytree':[0.6,0.7],\n",
    "    'nthread':[5]\n",
    "}"
   ]
  },
  {
   "cell_type": "code",
   "execution_count": 80,
   "metadata": {
    "colab": {
     "base_uri": "https://localhost:8080/",
     "height": 0
    },
    "colab_type": "code",
    "id": "VIH12msVbUAi",
    "outputId": "475e53d7-4874-470a-a072-ff66b5c31ecc"
   },
   "outputs": [
    {
     "name": "stdout",
     "output_type": "stream",
     "text": [
      "════════════════════════════════════════════════════════════\n",
      "For GridSearchCV model \n",
      "Best Score: 0.7678263191334999\n",
      "════════════════════════════════════════════════════════════\n",
      "Best Params: \n",
      " {'colsample_bytree': 0.7, 'learning_rate': 0.1, 'max_depth': 8, 'min_child_weight': 2, 'n_jobs': -1, 'nthread': 5, 'random_state': 29, 'reg_alpha': 0.1, 'subsample': 0.8}\n"
     ]
    }
   ],
   "source": [
    "try:\n",
    "    # After Sampling\n",
    "    clf_XGB = GridSearchCV(XGBClassifier(), grid_params, cv=5)\n",
    "    clf_XGB.fit(X_train, y_train)\n",
    "except:\n",
    "    print('OOPSS.. Something wrong')\n",
    "    pass\n",
    "\n",
    "printS(clf_XGB)"
   ]
  },
  {
   "cell_type": "code",
   "execution_count": 81,
   "metadata": {
    "colab": {
     "base_uri": "https://localhost:8080/",
     "height": 0
    },
    "colab_type": "code",
    "id": "D38zjPcTbUAm",
    "outputId": "031bbf69-87c1-494f-9499-96fd3fa5af0a"
   },
   "outputs": [
    {
     "name": "stdout",
     "output_type": "stream",
     "text": [
      "For Test data\n",
      "════════════════════════════════════════════════════════════\n",
      "Model Name      : XGBClassifier\n",
      "════════════════════════════════════════════════════════════\n",
      "ROC-AUC Score   :  0.8142042189689507\n",
      "Accurarcy Score :  0.769272030651341\n",
      "Confusion Matrix:\n",
      " [[8096 1086]\n",
      " [1925 1943]]\n",
      "\n",
      "For Train Control data\n",
      "════════════════════════════════════════════════════════════\n",
      "Model Name      : XGBClassifier\n",
      "════════════════════════════════════════════════════════════\n",
      "ROC-AUC Score   :  0.7033605460947292\n",
      "Accurarcy Score :  0.7155897650713862\n",
      "Confusion Matrix:\n",
      " [[33494  8727]\n",
      " [ 7568  7505]]\n"
     ]
    }
   ],
   "source": [
    "# Computation of Scores and CM with Best Parameters\n",
    "best_params_XGB = clf_XGB.best_params_\n",
    "XGB_BP = XGBClassifier(**best_params_XGB)\n",
    "\n",
    "# accu_cum function for X_test - y_test\n",
    "print('For Test data')\n",
    "accu_cm(XGB_BP,  X_train, y_train, X_test, y_test)\n",
    "print('')\n",
    "# accu_cum function for Control_X_test - Control_y_test\n",
    "print('For Train Control data')\n",
    "accu_cm(XGB_BP,  X_train, y_train, X_train_control, y_train_control)"
   ]
  },
  {
   "cell_type": "markdown",
   "metadata": {
    "colab_type": "text",
    "id": "mOK4-MHDbUAo"
   },
   "source": [
    "---\n",
    "\n",
    "# CatBoost\n",
    "Let's try with **CatBoost** to see if can improve the score."
   ]
  },
  {
   "cell_type": "markdown",
   "metadata": {
    "colab_type": "text",
    "id": "7URJcIRabUAo"
   },
   "source": [
    "##### With Default Parameters "
   ]
  },
  {
   "cell_type": "code",
   "execution_count": 82,
   "metadata": {
    "colab": {
     "base_uri": "https://localhost:8080/",
     "height": 0
    },
    "colab_type": "code",
    "id": "PxtcDCP2bUAo",
    "outputId": "f18dad6d-c50b-45a0-ab77-866e01341ad8"
   },
   "outputs": [
    {
     "name": "stdout",
     "output_type": "stream",
     "text": [
      "════════════════════════════════════════════════════════════\n",
      "Model Name      : CatBoostClassifier\n",
      "════════════════════════════════════════════════════════════\n",
      "ROC-AUC Score   :  0.8168589679191134\n",
      "Accurarcy Score :  0.7696551724137931\n",
      "Confusion Matrix:\n",
      " [[8130 1052]\n",
      " [1954 1914]]\n"
     ]
    }
   ],
   "source": [
    "Cat = CatBoostClassifier(random_state = seed,verbose=False)\n",
    "accu_cm(Cat,  X_train, y_train, X_test, y_test)"
   ]
  },
  {
   "cell_type": "markdown",
   "metadata": {
    "colab_type": "text",
    "id": "GRJXnyebbUAq"
   },
   "source": [
    "##### Model Tuning\n",
    "[Detail Source](https://catboost.ai/docs/concepts/python-reference_parameters-list.html#python-reference_parameters-list)"
   ]
  },
  {
   "cell_type": "code",
   "execution_count": 83,
   "metadata": {
    "colab": {},
    "colab_type": "code",
    "id": "idW-e8bibUAs"
   },
   "outputs": [],
   "source": [
    "grid_params = {\n",
    "    'random_state':[seed],\n",
    "    'num_trees':[4],\n",
    "    'min_child_samples':[20, 30],\n",
    "    'one_hot_max_size':[4],\n",
    "    'learning_rate':[0.0925, 0.15],\n",
    "    'border_count':[82],\n",
    "    'eval_metric':['AUC'],\n",
    "    'verbose':[0]\n",
    "}"
   ]
  },
  {
   "cell_type": "code",
   "execution_count": 84,
   "metadata": {
    "colab": {
     "base_uri": "https://localhost:8080/",
     "height": 0
    },
    "colab_type": "code",
    "id": "DAFQ2azBbUAw",
    "outputId": "aa50e229-8af3-4e4e-a816-73c10e3274e5"
   },
   "outputs": [
    {
     "name": "stdout",
     "output_type": "stream",
     "text": [
      "════════════════════════════════════════════════════════════\n",
      "For GridSearchCV model \n",
      "Best Score: 0.7496174233928972\n",
      "════════════════════════════════════════════════════════════\n",
      "Best Params: \n",
      " {'border_count': 82, 'eval_metric': 'AUC', 'learning_rate': 0.15, 'min_child_samples': 20, 'num_trees': 4, 'one_hot_max_size': 4, 'random_state': 29, 'verbose': 0}\n"
     ]
    }
   ],
   "source": [
    "try:\n",
    "    # Before Sampling\n",
    "    clf_Cat = GridSearchCV(CatBoostClassifier(), grid_params, cv=5)\n",
    "    clf_Cat.fit(X_train, y_train)\n",
    "except:\n",
    "    print('OOPSS.. Something wrong')\n",
    "    pass\n",
    "\n",
    "printS(clf_Cat)"
   ]
  },
  {
   "cell_type": "code",
   "execution_count": 85,
   "metadata": {},
   "outputs": [
    {
     "name": "stdout",
     "output_type": "stream",
     "text": [
      "════════════════════════════════════════════════════════════\n",
      "Model Name      : CatBoostClassifier\n",
      "════════════════════════════════════════════════════════════\n",
      "ROC-AUC Score   :  0.7848527518995958\n",
      "Accurarcy Score :  0.7521072796934866\n",
      "Confusion Matrix:\n",
      " [[8234  948]\n",
      " [2287 1581]]\n"
     ]
    }
   ],
   "source": [
    "# Computation of Scores and CM with Best Parameters\n",
    "best_params_Cat = clf_Cat.best_params_\n",
    "Cat_BP = CatBoostClassifier(**best_params_Cat)\n",
    "accu_cm(Cat_BP, X_train, y_train, X_test, y_test) "
   ]
  },
  {
   "cell_type": "code",
   "execution_count": 86,
   "metadata": {
    "colab": {
     "base_uri": "https://localhost:8080/",
     "height": 0
    },
    "colab_type": "code",
    "id": "x1nMPtMBbUA4",
    "outputId": "12d46c1f-7eec-4f4d-ca07-c32c864ad4c7"
   },
   "outputs": [
    {
     "name": "stdout",
     "output_type": "stream",
     "text": [
      "════════════════════════════════════════════════════════════\n",
      "Model Name      : CatBoostClassifier\n",
      "════════════════════════════════════════════════════════════\n",
      "ROC-AUC Score   :  0.8116011369080777\n",
      "Accurarcy Score :  0.7679693486590038\n",
      "Confusion Matrix:\n",
      " [[8350  832]\n",
      " [2196 1672]]\n",
      "\n",
      "For Train Control data\n",
      "════════════════════════════════════════════════════════════\n",
      "Model Name      : CatBoostClassifier\n",
      "════════════════════════════════════════════════════════════\n",
      "ROC-AUC Score   :  0.7148432313883476\n",
      "Accurarcy Score :  0.756309561210598\n",
      "Confusion Matrix:\n",
      " [[36742  5479]\n",
      " [ 8483  6590]]\n"
     ]
    }
   ],
   "source": [
    "# Computation of Scores and CM with My Best Parameters\n",
    "best_params_Cat_my ={'random_state':seed,\n",
    "                     'learning_rate':0.0045,\n",
    "                     'eval_metric':'AUC',\n",
    "                     'verbose':0}\n",
    "Cat_BP_my = CatBoostClassifier(**best_params_Cat_my)\n",
    "\n",
    "# accu_cm function for X_test - y_test\n",
    "accu_cm(Cat_BP_my, X_train, y_train, X_test, y_test)\n",
    "print('')\n",
    "# accu_cm function for Control_X_test - Control_y_test\n",
    "print('For Train Control data')\n",
    "accu_cm(Cat_BP_my, X_train, y_train, X_train_control, y_train_control)"
   ]
  },
  {
   "cell_type": "markdown",
   "metadata": {
    "colab_type": "text",
    "id": "Wtbkz3rwbUA6"
   },
   "source": [
    "---\n",
    "\n",
    "# Random Forest\n",
    "Let's try with **RandomForest** to see if can improve the score."
   ]
  },
  {
   "cell_type": "markdown",
   "metadata": {
    "colab_type": "text",
    "id": "uddiMOHabUA6"
   },
   "source": [
    "##### With Default Parameters"
   ]
  },
  {
   "cell_type": "code",
   "execution_count": 87,
   "metadata": {
    "colab": {
     "base_uri": "https://localhost:8080/",
     "height": 0
    },
    "colab_type": "code",
    "id": "AXIbW2aUbUA6",
    "outputId": "fec07290-fc02-44ba-c112-584e8afe3fcf"
   },
   "outputs": [
    {
     "name": "stdout",
     "output_type": "stream",
     "text": [
      "════════════════════════════════════════════════════════════\n",
      "Model Name      : RandomForestClassifier\n",
      "════════════════════════════════════════════════════════════\n",
      "ROC-AUC Score   :  0.7993532121994902\n",
      "Accurarcy Score :  0.7578544061302682\n",
      "Confusion Matrix:\n",
      " [[8283  899]\n",
      " [2261 1607]]\n"
     ]
    }
   ],
   "source": [
    "RandF = RandomForestClassifier(random_state = seed)\n",
    "accu_cm(RandF, X_train, y_train, X_test, y_test)"
   ]
  },
  {
   "cell_type": "markdown",
   "metadata": {
    "colab_type": "text",
    "id": "RlKdLjeybUA7"
   },
   "source": [
    "##### Model Tuning\n",
    "[Detail Source](https://towardsdatascience.com/optimizing-hyperparameters-in-random-forest-classification-ec7741f9d3f6)"
   ]
  },
  {
   "cell_type": "code",
   "execution_count": 88,
   "metadata": {
    "colab": {},
    "colab_type": "code",
    "id": "A2vBN1xBbUA8"
   },
   "outputs": [],
   "source": [
    "grid_params = {\n",
    "    'random_state':[seed],\n",
    "    'n_estimators':[20,40],\n",
    "    'max_depth':[6,8],\n",
    "    'max_features':[13],\n",
    "    'min_samples_split':[4]\n",
    "}"
   ]
  },
  {
   "cell_type": "code",
   "execution_count": 89,
   "metadata": {
    "colab": {
     "base_uri": "https://localhost:8080/",
     "height": 0
    },
    "colab_type": "code",
    "id": "KI2qQx20bUA-",
    "outputId": "e0c94bea-4d34-4c3a-877f-6a12123f6f0f"
   },
   "outputs": [
    {
     "name": "stdout",
     "output_type": "stream",
     "text": [
      "════════════════════════════════════════════════════════════\n",
      "For GridSearchCV model \n",
      "Best Score: 0.7600225452300426\n",
      "════════════════════════════════════════════════════════════\n",
      "Best Params: \n",
      " {'max_depth': 8, 'max_features': 13, 'min_samples_split': 4, 'n_estimators': 40, 'random_state': 29}\n"
     ]
    }
   ],
   "source": [
    "try:\n",
    "    # Before Sampling\n",
    "    clf_RandF = GridSearchCV(RandomForestClassifier(), grid_params, cv=5)\n",
    "    clf_RandF.fit(X_train, y_train)\n",
    "except:\n",
    "    print('OOPSS.. Something wrong')\n",
    "    pass\n",
    "\n",
    "printS(clf_RandF)"
   ]
  },
  {
   "cell_type": "code",
   "execution_count": 90,
   "metadata": {
    "colab": {
     "base_uri": "https://localhost:8080/",
     "height": 0
    },
    "colab_type": "code",
    "id": "Enq23rZEbUBC",
    "outputId": "c63de793-9d58-4dab-ca74-406a17d2c419"
   },
   "outputs": [
    {
     "name": "stdout",
     "output_type": "stream",
     "text": [
      "════════════════════════════════════════════════════════════\n",
      "Model Name      : RandomForestClassifier\n",
      "════════════════════════════════════════════════════════════\n",
      "ROC-AUC Score   :  0.8037886105115062\n",
      "Accurarcy Score :  0.7620689655172413\n",
      "Confusion Matrix:\n",
      " [[8313  869]\n",
      " [2236 1632]]\n",
      "\n",
      "For Train Control data\n",
      "════════════════════════════════════════════════════════════\n",
      "Model Name      : RandomForestClassifier\n",
      "════════════════════════════════════════════════════════════\n",
      "ROC-AUC Score   :  0.7196336960870626\n",
      "Accurarcy Score :  0.7759974866478165\n",
      "Confusion Matrix:\n",
      " [[38103  4118]\n",
      " [ 8716  6357]]\n"
     ]
    }
   ],
   "source": [
    "# Computation of Scores and CM with Best Parameters\n",
    "best_params_RandF = clf_RandF.best_params_\n",
    "RandF_BP = RandomForestClassifier(**best_params_RandF)\n",
    "\n",
    "\n",
    "# accu_cm function for X_test - y_test\n",
    "accu_cm(RandF_BP, X_train, y_train, X_test, y_test)\n",
    "print('')\n",
    "# accu_cm function for Control_X_test - Control_y_test\n",
    "print('For Train Control data')\n",
    "accu_cm(RandF_BP, X_train, y_train, X_train_control, y_train_control)"
   ]
  },
  {
   "cell_type": "markdown",
   "metadata": {
    "colab_type": "text",
    "id": "vYjsftOTbUBD"
   },
   "source": [
    "---\n",
    "\n",
    "# Logistic Regression\n",
    "Let's try with **Logistic Regression** to see if can improve the score."
   ]
  },
  {
   "cell_type": "markdown",
   "metadata": {
    "colab_type": "text",
    "id": "HTKZlU1obUBE"
   },
   "source": [
    "##### With Default Parameters"
   ]
  },
  {
   "cell_type": "code",
   "execution_count": 91,
   "metadata": {
    "colab": {
     "base_uri": "https://localhost:8080/",
     "height": 168
    },
    "colab_type": "code",
    "id": "X1ZlmCATbUBF",
    "outputId": "61a4f2a4-5dcc-47b1-d6da-29cd8824302a"
   },
   "outputs": [
    {
     "name": "stdout",
     "output_type": "stream",
     "text": [
      "════════════════════════════════════════════════════════════\n",
      "Model Name      : LogisticRegression\n",
      "════════════════════════════════════════════════════════════\n",
      "ROC-AUC Score   :  0.7491214235531638\n",
      "Accurarcy Score :  0.7396934865900383\n",
      "Confusion Matrix:\n",
      " [[8328  854]\n",
      " [2543 1325]]\n"
     ]
    }
   ],
   "source": [
    "LogReg = LogisticRegression(random_state = seed)\n",
    "accu_cm(LogReg, X_train, y_train, X_test, y_test)"
   ]
  },
  {
   "cell_type": "markdown",
   "metadata": {
    "colab_type": "text",
    "id": "dRqbJa5kbUBG"
   },
   "source": [
    "##### Model Tuning"
   ]
  },
  {
   "cell_type": "code",
   "execution_count": 92,
   "metadata": {
    "colab": {},
    "colab_type": "code",
    "id": "hd1yDyldbUBG"
   },
   "outputs": [],
   "source": [
    "grid_params = {'C': [0.2, 1.0,3.0],  #0.5,0.7,1.0,1.4\n",
    "               'max_iter': [100, 150],\n",
    "               'random_state': [seed],\n",
    "               'tol': [0.0001],\n",
    "               'verbose': [0]}"
   ]
  },
  {
   "cell_type": "code",
   "execution_count": 93,
   "metadata": {
    "colab": {
     "base_uri": "https://localhost:8080/",
     "height": 252
    },
    "colab_type": "code",
    "id": "pfRMze63bUBK",
    "outputId": "4681cd54-a7b7-4c58-8cbd-0b71733c3133"
   },
   "outputs": [
    {
     "name": "stdout",
     "output_type": "stream",
     "text": [
      "════════════════════════════════════════════════════════════\n",
      "For GridSearchCV model \n",
      "Best Score: 0.7393400346633074\n",
      "════════════════════════════════════════════════════════════\n",
      "Best Params: \n",
      " {'C': 1.0, 'max_iter': 100, 'random_state': 29, 'tol': 0.0001, 'verbose': 0}\n"
     ]
    }
   ],
   "source": [
    "try:\n",
    "    # Before Sampling\n",
    "    clf_LogReg = GridSearchCV(LogReg, grid_params, cv=5, verbose=False)\n",
    "    clf_LogReg.fit(X_train, y_train)\n",
    "except:\n",
    "    print('OOPSS.. Something wrong')\n",
    "    pass\n",
    "\n",
    "printS(clf_LogReg)"
   ]
  },
  {
   "cell_type": "code",
   "execution_count": 94,
   "metadata": {},
   "outputs": [
    {
     "name": "stdout",
     "output_type": "stream",
     "text": [
      "════════════════════════════════════════════════════════════\n",
      "Model Name      : LogisticRegression\n",
      "════════════════════════════════════════════════════════════\n",
      "ROC-AUC Score   :  0.7491214235531638\n",
      "Accurarcy Score :  0.7396934865900383\n",
      "Confusion Matrix:\n",
      " [[8328  854]\n",
      " [2543 1325]]\n"
     ]
    }
   ],
   "source": [
    "# Computation of Scores and CM with Best Parameters\n",
    "best_params_LogReg = clf_LogReg.best_params_\n",
    "LogReg_BP = LogisticRegression(**best_params_LogReg)\n",
    "accu_cm(LogReg_BP, X_train, y_train, X_test, y_test) "
   ]
  },
  {
   "cell_type": "markdown",
   "metadata": {
    "colab_type": "text",
    "id": "TlPg6B8LbUBY"
   },
   "source": [
    "# Results of Improved Modelling  (about New Sythetic Datas)\n",
    "The **ROC-AUS Score** and **CM** were calculate for New Sythetic Data Sets and that results are below:"
   ]
  },
  {
   "cell_type": "code",
   "execution_count": 95,
   "metadata": {
    "colab": {
     "base_uri": "https://localhost:8080/",
     "height": 773
    },
    "colab_type": "code",
    "id": "1O99u_k1bUBc",
    "outputId": "15b9aaee-ed79-4077-8552-d08b0fcab10f"
   },
   "outputs": [
    {
     "name": "stdout",
     "output_type": "stream",
     "text": [
      "════════════════════════════════════════════════════════════\n",
      "Model Name      : XGBClassifier\n",
      "════════════════════════════════════════════════════════════\n",
      "ROC-AUC Score   :  0.8142042189689507\n",
      "Accurarcy Score :  0.769272030651341\n",
      "Confusion Matrix:\n",
      " [[8096 1086]\n",
      " [1925 1943]]\n",
      "════════════════════════════════════════════════════════════\n",
      "Model Name      : RandomForestClassifier\n",
      "════════════════════════════════════════════════════════════\n",
      "ROC-AUC Score   :  0.8037886105115062\n",
      "Accurarcy Score :  0.7620689655172413\n",
      "Confusion Matrix:\n",
      " [[8313  869]\n",
      " [2236 1632]]\n",
      "════════════════════════════════════════════════════════════\n",
      "Model Name      : CatBoostClassifier\n",
      "════════════════════════════════════════════════════════════\n",
      "ROC-AUC Score   :  0.8116011369080777\n",
      "Accurarcy Score :  0.7679693486590038\n",
      "Confusion Matrix:\n",
      " [[8350  832]\n",
      " [2196 1672]]\n",
      "════════════════════════════════════════════════════════════\n",
      "Model Name      : LGBMClassifier\n",
      "════════════════════════════════════════════════════════════\n",
      "ROC-AUC Score   :  0.8154482929034529\n",
      "Accurarcy Score :  0.7695019157088122\n",
      "Confusion Matrix:\n",
      " [[8160 1022]\n",
      " [1986 1882]]\n",
      "════════════════════════════════════════════════════════════\n",
      "Model Name      : LogisticRegression\n",
      "════════════════════════════════════════════════════════════\n",
      "ROC-AUC Score   :  0.7491214235531638\n",
      "Accurarcy Score :  0.7396934865900383\n",
      "Confusion Matrix:\n",
      " [[8328  854]\n",
      " [2543 1325]]\n"
     ]
    }
   ],
   "source": [
    "# All result of ROC-AUC Score\n",
    "#models_BP = [XGB_BP, RandF_BP, lgb_BP, Cat_BP, LogReg_BP]\n",
    "models_BP = [XGB_BP, RandF_BP, Cat_BP_my, lgb_BP_my, LogReg_BP ]\n",
    "\n",
    "for model in models_BP:\n",
    "    accu_cm(model,X_train, y_train, X_test, y_test)"
   ]
  },
  {
   "cell_type": "markdown",
   "metadata": {},
   "source": [
    "#### Plot of ROC Score for all models"
   ]
  },
  {
   "cell_type": "code",
   "execution_count": 97,
   "metadata": {},
   "outputs": [],
   "source": [
    "# All result of ROC-AUC Score\n",
    "#models_BP = [XGB_BP, RandF_BP, lgb_BP, Cat_BP, LogReg_BP]\n",
    "models_BP = [XGB_BP, RandF_BP, Cat_BP_my, lgb_BP_my, LogReg_BP ]\n",
    "\n",
    "improved_model_roc={}\n",
    "improved_model_roc_control={}\n",
    "for model in models_BP:\n",
    "    # Fitting\n",
    "    model.fit(X_train, y_train)\n",
    "    \n",
    "    # Evaluating\n",
    "    score = roc_auc_score(y_test, model.predict_proba(X_test)[:,1])\n",
    "    improved_model_roc[type(model).__name__] = roc_auc_score(y_test,\n",
    "                                        model.predict_proba(X_test)[:,1])\n",
    "    improved_model_roc_control[type(model).__name__] = roc_auc_score(y_train_control,\n",
    "                                        model.predict_proba(X_train_control)[:,1])"
   ]
  },
  {
   "cell_type": "code",
   "execution_count": 98,
   "metadata": {
    "colab": {
     "base_uri": "https://localhost:8080/",
     "height": 449
    },
    "colab_type": "code",
    "id": "2rktSCnjbUBf",
    "outputId": "014e2c77-cc56-4864-a125-1a90cbccc06f"
   },
   "outputs": [
    {
     "data": {
      "image/png": "[encoded data removed]",
      "text/plain": [
       "<Figure size 1296x864 with 2 Axes>"
      ]
     },
     "metadata": {},
     "output_type": "display_data"
    }
   ],
   "source": [
    "#Plot of ROC Score\n",
    "\n",
    "# Figure size-title for Plot \n",
    "fig, ax = plt.subplots(1, 2, figsize=(18,12))\n",
    "fig.suptitle('Values of\\n Receiver Operating Characteristic', fontsize=18)\n",
    "color=['#E9000A','#95EC00','#1BCDFA','#FF8288','#FFEF7E']; i=0\n",
    "\n",
    "# Plot for ROC Curve of first Models\n",
    "plt.subplot(221).set_title('ROC Curve of Improved Models', size=14)\n",
    "for model in models_BP:\n",
    "    col = color[i]; i+=1\n",
    "    y_preds = model.predict_proba(X_test)[:,1]\n",
    "    fpr, tpr, threshold = roc_curve(y_test, y_preds)\n",
    "    roc_auc = auc(fpr, tpr)\n",
    "\n",
    "    plt.plot(fpr, tpr, label=type(model).__name__+'  '+str(round(roc_auc,5)), color=col)\n",
    "plt.plot([0, 1], [0, 1],'r--')\n",
    "plt.xlim([-0.02, 1.0])\n",
    "plt.ylim([0.0, 1.01])\n",
    "\n",
    "plt.xlabel('False Positive Rate')\n",
    "plt.ylabel('True Positive Rate')\n",
    "plt.legend(loc=\"lower right\");\n",
    "\n",
    "# Plot for ROC-AUC Score of First Models\n",
    "plt.subplot(222).set_title('ROC-AUC Score of Improved Models', size=14)\n",
    "Model_title = list(improved_model_roc.keys())\n",
    "predict_proba = list(improved_model_roc.values())\n",
    "y_pos = np.arange(len(Model_title))\n",
    "plt.ylim([0.0, 1])\n",
    "plt.bar(y_pos, predict_proba, alpha=0.8, color=color)\n",
    "plt.plot(Model_title, predict_proba,'bo-', alpha=0.8) \n",
    "plt.xticks(Model_title, rotation=10);\n"
   ]
  },
  {
   "cell_type": "markdown",
   "metadata": {
    "colab_type": "text",
    "id": "SSkvRXFBbUBh"
   },
   "source": [
    "##### Result:\n",
    "The **ROC-AUS Score** calculated for the new **Synthetic Datasets** performed better than the previous raw dataset."
   ]
  },
  {
   "cell_type": "code",
   "execution_count": 99,
   "metadata": {},
   "outputs": [
    {
     "name": "stdout",
     "output_type": "stream",
     "text": [
      "==================================================\n",
      "Roc-Auc  : 0.8139664 (+/- 0.01) [LGBM]\n",
      "Accuracy : 0.7680752 (+/- 0.01) [LGBM]\n",
      "Precision: 0.6481887 (+/- 0.01) [LGBM]\n",
      "==================================================\n",
      "Roc-Auc  : 0.8128137 (+/- 0.01) [XGBoost]\n",
      "Accuracy : 0.7694545 (+/- 0.01) [XGBoost]\n",
      "Precision: 0.6469219 (+/- 0.01) [XGBoost]\n",
      "==================================================\n",
      "Roc-Auc  : 0.8083702 (+/- 0.01) [CatBoost]\n",
      "Accuracy : 0.7661402 (+/- 0.01) [CatBoost]\n",
      "Precision: 0.6638394 (+/- 0.01) [CatBoost]\n",
      "==================================================\n",
      "Roc-Auc  : 0.8009492 (+/- 0.01) [RandomForest]\n",
      "Accuracy : 0.7594159 (+/- 0.00) [RandomForest]\n",
      "Precision: 0.6455194 (+/- 0.01) [RandomForest]\n",
      "==================================================\n",
      "Roc-Auc  : 0.8157170 (+/- 0.01) [Ensemble]\n",
      "Accuracy : 0.7713128 (+/- 0.01) [Ensemble]\n",
      "Precision: 0.6627734 (+/- 0.01) [Ensemble]\n"
     ]
    }
   ],
   "source": [
    "eclf = VotingClassifier(\n",
    "    estimators = [('lgb_stack', lgb_BP_my),\n",
    "                  ('xgb_stack', XGB_BP),\n",
    "                  ('cat_stack', Cat_BP_my),\n",
    "                  ('randf_stack', RandF_BP),\n",
    "                  ],\n",
    "    voting='soft', weights=[3,3,2,1], flatten_transform=True)\n",
    "\n",
    "for clf, label in zip([lgb_BP_my, XGB_BP, Cat_BP_my, RandF_BP, eclf],\n",
    "                      ['LGBM', 'XGBoost','CatBoost','RandomForest', 'Ensemble']):\n",
    "    \n",
    "    scores_accu = cross_val_score(clf, X, y, scoring='accuracy', cv=5)\n",
    "    scores_roc = cross_val_score(clf, X, y, scoring='roc_auc', cv=5)\n",
    "    scores_preci = cross_val_score(clf, X, y, scoring='precision', cv=5)\n",
    "    print('='*50)\n",
    "    print(\"Roc-Auc  : %0.7f (+/- %0.2f) [%s]\" % (scores_roc.mean(), scores_roc.std(), label))\n",
    "    print(\"Accuracy : %0.7f (+/- %0.2f) [%s]\" % (scores_accu.mean(), scores_accu.std(), label))\n",
    "    print(\"Precision: %0.7f (+/- %0.2f) [%s]\" % (scores_preci.mean(), scores_preci.std(), label))\n",
    "eclf_fit = eclf.fit(X,y)"
   ]
  },
  {
   "cell_type": "markdown",
   "metadata": {},
   "source": [
    "https://scikit-learn.org/stable/modules/generated/sklearn.ensemble.VotingClassifier.html#sklearn.ensemble.VotingClassifier.score\n",
    "\n",
    "https://scikit-learn.org/stable/modules/ensemble.html#voting-classifierhttps://scikit-learn.org/stable/modules/ensemble.html#voting-classifier\n",
    "\n",
    "\n",
    "\n",
    "https://scikit-learn.org/stable/modules/cross_validation.html#cross-validation  sekil var"
   ]
  },
  {
   "cell_type": "markdown",
   "metadata": {
    "colab_type": "text",
    "id": "Q8IKHuiKbUBi"
   },
   "source": [
    "# Compare Results of Base Modelling and Improved Modelling\n",
    "\n",
    "\n",
    "In both **Azdias-Customers** and **Mailout.train-Mailout.test** datasets, we have stated that we will **base ROC-AUC Scores** when there is an **`imbalance`** problem.<br>\n",
    "Accordingly, when we compare the ROC-AUC score values of our **base model** and **improved models** for different Classifiers, we see that the highest values are found with **LGBM Classifier** and V**otingClassifier**\n"
   ]
  },
  {
   "cell_type": "code",
   "execution_count": 101,
   "metadata": {
    "colab": {
     "base_uri": "https://localhost:8080/",
     "height": 195
    },
    "colab_type": "code",
    "id": "coNsjdypAF5M",
    "outputId": "f681b52a-678a-4580-a293-ba08e65472b3"
   },
   "outputs": [
    {
     "data": {
      "text/html": [
       "<div>\n",
       "<style scoped>\n",
       "    .dataframe tbody tr th:only-of-type {\n",
       "        vertical-align: middle;\n",
       "    }\n",
       "\n",
       "    .dataframe tbody tr th {\n",
       "        vertical-align: top;\n",
       "    }\n",
       "\n",
       "    .dataframe thead th {\n",
       "        text-align: right;\n",
       "    }\n",
       "</style>\n",
       "<table border=\"1\" class=\"dataframe\">\n",
       "  <thead>\n",
       "    <tr style=\"text-align: right;\">\n",
       "      <th></th>\n",
       "      <th>Base Model</th>\n",
       "      <th>Improved Model</th>\n",
       "      <th>Improved Model_Control</th>\n",
       "    </tr>\n",
       "    <tr>\n",
       "      <th>Name of ROC-AUC Score</th>\n",
       "      <th></th>\n",
       "      <th></th>\n",
       "      <th></th>\n",
       "    </tr>\n",
       "  </thead>\n",
       "  <tbody>\n",
       "    <tr>\n",
       "      <th>VotingClassifier</th>\n",
       "      <td>NaN</td>\n",
       "      <td>0.871796</td>\n",
       "      <td>0.711448</td>\n",
       "    </tr>\n",
       "    <tr>\n",
       "      <th>LGBMClassifier</th>\n",
       "      <td>0.805740</td>\n",
       "      <td>0.815448</td>\n",
       "      <td>0.705524</td>\n",
       "    </tr>\n",
       "    <tr>\n",
       "      <th>XGBClassifier</th>\n",
       "      <td>0.747007</td>\n",
       "      <td>0.814204</td>\n",
       "      <td>0.703361</td>\n",
       "    </tr>\n",
       "    <tr>\n",
       "      <th>CatBoostClassifier</th>\n",
       "      <td>0.790612</td>\n",
       "      <td>0.811601</td>\n",
       "      <td>0.714843</td>\n",
       "    </tr>\n",
       "    <tr>\n",
       "      <th>RandomForestClassifier</th>\n",
       "      <td>0.786576</td>\n",
       "      <td>0.803789</td>\n",
       "      <td>0.719634</td>\n",
       "    </tr>\n",
       "    <tr>\n",
       "      <th>LogisticRegression</th>\n",
       "      <td>0.484232</td>\n",
       "      <td>0.749121</td>\n",
       "      <td>0.660053</td>\n",
       "    </tr>\n",
       "  </tbody>\n",
       "</table>\n",
       "</div>"
      ],
      "text/plain": [
       "                        Base Model  Improved Model  Improved Model_Control\n",
       "Name of ROC-AUC Score                                                     \n",
       "VotingClassifier               NaN        0.871796                0.711448\n",
       "LGBMClassifier            0.805740        0.815448                0.705524\n",
       "XGBClassifier             0.747007        0.814204                0.703361\n",
       "CatBoostClassifier        0.790612        0.811601                0.714843\n",
       "RandomForestClassifier    0.786576        0.803789                0.719634\n",
       "LogisticRegression        0.484232        0.749121                0.660053"
      ]
     },
     "execution_count": 101,
     "metadata": {},
     "output_type": "execute_result"
    }
   ],
   "source": [
    "eclf_roc_score = roc_auc_score(y_test,\n",
    "                                eclf_fit.predict_proba(X_test)[:,1])\n",
    "eclf_roc_score2 = roc_auc_score(y_train_control,\n",
    "                                eclf_fit.predict_proba(X_train_control)[:,1])\n",
    "eclf_roc = {'Improved Model':{type(eclf).__name__:eclf_roc_score.mean()},\n",
    "           'Improved Model_Control':{type(eclf).__name__:eclf_roc_score2.mean()}}\n",
    "eclf_df = pd.DataFrame(eclf_roc)\n",
    "eclf_df.index.name='Name of ROC-AUC Score'\n",
    "\n",
    "compare_roc = pd.concat([pd.DataFrame(base_model_roc.values(),\n",
    "                                      index=list(base_model_roc.keys()),\n",
    "                                      columns = ['Base Model']),\n",
    "                         pd.DataFrame(improved_model_roc.values(),\n",
    "                                      index=list(improved_model_roc.keys()),\n",
    "                                      columns = ['Improved Model']),\n",
    "                         pd.DataFrame(improved_model_roc_control.values(),\n",
    "                                      index=list(improved_model_roc_control.keys()),\n",
    "                                      columns = ['Improved Model_Control'])\n",
    "                         ], axis=1)\n",
    "\n",
    "compare_roc.index.name='Name of ROC-AUC Score'\n",
    "compare_roc = pd.concat([compare_roc,eclf_df], axis=0)\n",
    "compare_roc.sort_values(by='Improved Model', ascending=False)"
   ]
  },
  {
   "cell_type": "markdown",
   "metadata": {
    "colab_type": "text",
    "id": "eXTPyDtfbUBi"
   },
   "source": [
    "##### Result:\n",
    "When I comparing **Base Model**, **Improved Model**, and **Improved Control**, I saw **`VotingClassifier`** and **`LGBMClassifier`** will give us the best result. Because of that, the fine tuned **`VotingClassifier` will be used with the Mailout-Test** set."
   ]
  },
  {
   "cell_type": "markdown",
   "metadata": {
    "colab_type": "text",
    "id": "8xpMglNXbUBi"
   },
   "source": [
    "### Step 2.3.3 Feature Importance"
   ]
  },
  {
   "cell_type": "code",
   "execution_count": 102,
   "metadata": {
    "colab": {
     "base_uri": "https://localhost:8080/",
     "height": 343
    },
    "colab_type": "code",
    "id": "zvpgFi5SbUBk",
    "outputId": "c4dbe6cd-ad75-44c6-ffb7-8fab6383fa7a"
   },
   "outputs": [
    {
     "data": {
      "text/html": [
       "<div>\n",
       "<style scoped>\n",
       "    .dataframe tbody tr th:only-of-type {\n",
       "        vertical-align: middle;\n",
       "    }\n",
       "\n",
       "    .dataframe tbody tr th {\n",
       "        vertical-align: top;\n",
       "    }\n",
       "\n",
       "    .dataframe thead th {\n",
       "        text-align: right;\n",
       "    }\n",
       "</style>\n",
       "<table border=\"1\" class=\"dataframe\">\n",
       "  <thead>\n",
       "    <tr style=\"text-align: right;\">\n",
       "      <th></th>\n",
       "      <th>Score of Important Feature</th>\n",
       "      <th>%</th>\n",
       "    </tr>\n",
       "  </thead>\n",
       "  <tbody>\n",
       "    <tr>\n",
       "      <th>D19_SOZIALES</th>\n",
       "      <td>225</td>\n",
       "      <td>7.500000</td>\n",
       "    </tr>\n",
       "    <tr>\n",
       "      <th>EINGEZOGENAM_HH_JAHR</th>\n",
       "      <td>190</td>\n",
       "      <td>6.333333</td>\n",
       "    </tr>\n",
       "    <tr>\n",
       "      <th>ALTERSKATEGORIE_FEIN</th>\n",
       "      <td>134</td>\n",
       "      <td>4.466667</td>\n",
       "    </tr>\n",
       "    <tr>\n",
       "      <th>VK_ZG11</th>\n",
       "      <td>133</td>\n",
       "      <td>4.433333</td>\n",
       "    </tr>\n",
       "    <tr>\n",
       "      <th>ALTER_HH</th>\n",
       "      <td>125</td>\n",
       "      <td>4.166667</td>\n",
       "    </tr>\n",
       "    <tr>\n",
       "      <th>ANZ_STATISTISCHE_HAUSHALTE</th>\n",
       "      <td>113</td>\n",
       "      <td>3.766667</td>\n",
       "    </tr>\n",
       "    <tr>\n",
       "      <th>AKT_DAT_KL</th>\n",
       "      <td>100</td>\n",
       "      <td>3.333333</td>\n",
       "    </tr>\n",
       "    <tr>\n",
       "      <th>LP_LEBENSPHASE_FEIN</th>\n",
       "      <td>100</td>\n",
       "      <td>3.333333</td>\n",
       "    </tr>\n",
       "    <tr>\n",
       "      <th>D19_KONSUMTYP_MAX</th>\n",
       "      <td>73</td>\n",
       "      <td>2.433333</td>\n",
       "    </tr>\n",
       "    <tr>\n",
       "      <th>HH_EINKOMMEN_SCORE</th>\n",
       "      <td>73</td>\n",
       "      <td>2.433333</td>\n",
       "    </tr>\n",
       "  </tbody>\n",
       "</table>\n",
       "</div>"
      ],
      "text/plain": [
       "                            Score of Important Feature         %\n",
       "D19_SOZIALES                                       225  7.500000\n",
       "EINGEZOGENAM_HH_JAHR                               190  6.333333\n",
       "ALTERSKATEGORIE_FEIN                               134  4.466667\n",
       "VK_ZG11                                            133  4.433333\n",
       "ALTER_HH                                           125  4.166667\n",
       "ANZ_STATISTISCHE_HAUSHALTE                         113  3.766667\n",
       "AKT_DAT_KL                                         100  3.333333\n",
       "LP_LEBENSPHASE_FEIN                                100  3.333333\n",
       "D19_KONSUMTYP_MAX                                   73  2.433333\n",
       "HH_EINKOMMEN_SCORE                                  73  2.433333"
      ]
     },
     "execution_count": 102,
     "metadata": {},
     "output_type": "execute_result"
    }
   ],
   "source": [
    "# Print score of important features of the model\n",
    "imp_feat = pd.DataFrame({'Score of Important Feature':lgb_BP_my.feature_importances_,\n",
    "                        '%':lgb_BP_my.feature_importances_/30}, index=imp_feat_list)\n",
    "imp_feat_sorted = imp_feat.sort_values(by=['Score of Important Feature'], ascending=False)\n",
    "imp_feat_sorted.head(10)"
   ]
  },
  {
   "cell_type": "code",
   "execution_count": 103,
   "metadata": {
    "colab": {
     "base_uri": "https://localhost:8080/",
     "height": 522
    },
    "colab_type": "code",
    "id": "2fBEZQFtbUBm",
    "outputId": "2e18a69c-5575-4c4c-f722-82ca1f1fa544"
   },
   "outputs": [
    {
     "data": {
      "image/png": "[encoded data removed]",
      "text/plain": [
       "<Figure size 1152x576 with 1 Axes>"
      ]
     },
     "metadata": {},
     "output_type": "display_data"
    }
   ],
   "source": [
    "# Plot the most important features of the model\n",
    "plt.figure(figsize=(16,8))\n",
    "\n",
    "# Create data\n",
    "height = imp_feat_sorted['%'].head(30)\n",
    "bars = imp_feat_sorted.index[0:30]\n",
    "y_pos = np.arange(len(bars))\n",
    " \n",
    "# Create bar\n",
    "plt.bar(y_pos, height, label='Important Features',\n",
    "        edgecolor='#FF4842',width=0.9, color='#FF5842',\n",
    "        alpha=0.8)\n",
    "\n",
    "plt.ylabel(\"Features Importance Values  (%)\")\n",
    "plt.xticks(y_pos, bars, rotation=90,size = 10)\n",
    "plt.title(\"Features Importance\\n- Top 30 High Score of Important Features  -\",\n",
    "          size = 16)\n",
    "\n",
    "plt.subplots_adjust(bottom=0.3)\n",
    "plt.subplots_adjust(top=0.8);\n",
    "plt.legend();"
   ]
  },
  {
   "cell_type": "markdown",
   "metadata": {
    "colab_type": "text",
    "id": "MqfaBqpubUBn"
   },
   "source": [
    "# Step 3.3 Classification of Mailout-Test data\n",
    "\n",
    "Now, will done of **classification of Mailout-Test data** with best model trained on train data. In here, the fine tuned **`XGBoost model`** will be used on **Mailout-Test data.**"
   ]
  },
  {
   "cell_type": "code",
   "execution_count": 104,
   "metadata": {
    "colab": {
     "base_uri": "https://localhost:8080/",
     "height": 215
    },
    "colab_type": "code",
    "id": "WVYf3zp-bUBn",
    "outputId": "fc8c027a-75b8-49c9-e139-da9a663327d0"
   },
   "outputs": [
    {
     "data": {
      "text/html": [
       "<div>\n",
       "<style scoped>\n",
       "    .dataframe tbody tr th:only-of-type {\n",
       "        vertical-align: middle;\n",
       "    }\n",
       "\n",
       "    .dataframe tbody tr th {\n",
       "        vertical-align: top;\n",
       "    }\n",
       "\n",
       "    .dataframe thead th {\n",
       "        text-align: right;\n",
       "    }\n",
       "</style>\n",
       "<table border=\"1\" class=\"dataframe\">\n",
       "  <thead>\n",
       "    <tr style=\"text-align: right;\">\n",
       "      <th></th>\n",
       "      <th>AKT_DAT_KL</th>\n",
       "      <th>ALTER_HH</th>\n",
       "      <th>ALTERSKATEGORIE_FEIN</th>\n",
       "      <th>ANZ_PERSONEN</th>\n",
       "      <th>ANZ_STATISTISCHE_HAUSHALTE</th>\n",
       "      <th>CJT_TYP_1</th>\n",
       "      <th>CJT_TYP_2</th>\n",
       "      <th>CJT_TYP_3</th>\n",
       "      <th>CJT_TYP_4</th>\n",
       "      <th>CJT_TYP_5</th>\n",
       "      <th>...</th>\n",
       "      <th>SEMIO_KULT</th>\n",
       "      <th>SEMIO_LUST</th>\n",
       "      <th>SEMIO_PFLICHT</th>\n",
       "      <th>SEMIO_TRADV</th>\n",
       "      <th>SEMIO_VERT</th>\n",
       "      <th>VK_DISTANZ</th>\n",
       "      <th>VK_ZG11</th>\n",
       "      <th>ZABEOTYP</th>\n",
       "      <th>ANREDE_KZ</th>\n",
       "      <th>ALTERSKATEGORIE_GROB</th>\n",
       "    </tr>\n",
       "    <tr>\n",
       "      <th>LNR</th>\n",
       "      <th></th>\n",
       "      <th></th>\n",
       "      <th></th>\n",
       "      <th></th>\n",
       "      <th></th>\n",
       "      <th></th>\n",
       "      <th></th>\n",
       "      <th></th>\n",
       "      <th></th>\n",
       "      <th></th>\n",
       "      <th></th>\n",
       "      <th></th>\n",
       "      <th></th>\n",
       "      <th></th>\n",
       "      <th></th>\n",
       "      <th></th>\n",
       "      <th></th>\n",
       "      <th></th>\n",
       "      <th></th>\n",
       "      <th></th>\n",
       "      <th></th>\n",
       "    </tr>\n",
       "  </thead>\n",
       "  <tbody>\n",
       "    <tr>\n",
       "      <th>1754</th>\n",
       "      <td>-0.510992</td>\n",
       "      <td>-1.678211e+00</td>\n",
       "      <td>-1.089110</td>\n",
       "      <td>0.010968</td>\n",
       "      <td>-0.314847</td>\n",
       "      <td>-1.175601</td>\n",
       "      <td>-0.194750</td>\n",
       "      <td>0.779521</td>\n",
       "      <td>0.810752</td>\n",
       "      <td>0.77886</td>\n",
       "      <td>...</td>\n",
       "      <td>1.293349</td>\n",
       "      <td>1.016963</td>\n",
       "      <td>-1.443806</td>\n",
       "      <td>-1.310081</td>\n",
       "      <td>1.311469</td>\n",
       "      <td>0.181822</td>\n",
       "      <td>-0.335213</td>\n",
       "      <td>0.089206</td>\n",
       "      <td>-1.026165</td>\n",
       "      <td>0.749304</td>\n",
       "    </tr>\n",
       "    <tr>\n",
       "      <th>1770</th>\n",
       "      <td>-0.510992</td>\n",
       "      <td>4.673684e-16</td>\n",
       "      <td>-2.425521</td>\n",
       "      <td>-0.757521</td>\n",
       "      <td>1.066851</td>\n",
       "      <td>-0.367683</td>\n",
       "      <td>-0.194750</td>\n",
       "      <td>0.779521</td>\n",
       "      <td>0.810752</td>\n",
       "      <td>-0.04928</td>\n",
       "      <td>...</td>\n",
       "      <td>0.221798</td>\n",
       "      <td>-0.070013</td>\n",
       "      <td>-0.252720</td>\n",
       "      <td>-1.310081</td>\n",
       "      <td>0.800462</td>\n",
       "      <td>-0.993103</td>\n",
       "      <td>-1.052176</td>\n",
       "      <td>0.089206</td>\n",
       "      <td>-1.026165</td>\n",
       "      <td>0.749304</td>\n",
       "    </tr>\n",
       "    <tr>\n",
       "      <th>1465</th>\n",
       "      <td>2.406103</td>\n",
       "      <td>6.897336e-01</td>\n",
       "      <td>0.024566</td>\n",
       "      <td>1.547947</td>\n",
       "      <td>-0.314847</td>\n",
       "      <td>-0.367683</td>\n",
       "      <td>-0.194750</td>\n",
       "      <td>0.779521</td>\n",
       "      <td>0.810752</td>\n",
       "      <td>0.77886</td>\n",
       "      <td>...</td>\n",
       "      <td>-0.849753</td>\n",
       "      <td>1.016963</td>\n",
       "      <td>0.342823</td>\n",
       "      <td>-0.036356</td>\n",
       "      <td>-0.732561</td>\n",
       "      <td>0.181822</td>\n",
       "      <td>-0.335213</td>\n",
       "      <td>0.089206</td>\n",
       "      <td>0.974502</td>\n",
       "      <td>0.749304</td>\n",
       "    </tr>\n",
       "    <tr>\n",
       "      <th>1470</th>\n",
       "      <td>1.676829</td>\n",
       "      <td>4.673684e-16</td>\n",
       "      <td>-2.425521</td>\n",
       "      <td>-1.526010</td>\n",
       "      <td>-0.387568</td>\n",
       "      <td>-0.367683</td>\n",
       "      <td>-1.010796</td>\n",
       "      <td>0.779521</td>\n",
       "      <td>0.810752</td>\n",
       "      <td>0.77886</td>\n",
       "      <td>...</td>\n",
       "      <td>-0.849753</td>\n",
       "      <td>1.016963</td>\n",
       "      <td>-0.848263</td>\n",
       "      <td>-0.036356</td>\n",
       "      <td>-1.243568</td>\n",
       "      <td>0.181822</td>\n",
       "      <td>-0.335213</td>\n",
       "      <td>0.089206</td>\n",
       "      <td>0.974502</td>\n",
       "      <td>0.749304</td>\n",
       "    </tr>\n",
       "    <tr>\n",
       "      <th>1478</th>\n",
       "      <td>-0.510992</td>\n",
       "      <td>2.005259e+00</td>\n",
       "      <td>0.470036</td>\n",
       "      <td>1.547947</td>\n",
       "      <td>-0.387568</td>\n",
       "      <td>0.440235</td>\n",
       "      <td>-0.194750</td>\n",
       "      <td>-0.051687</td>\n",
       "      <td>0.019596</td>\n",
       "      <td>-0.04928</td>\n",
       "      <td>...</td>\n",
       "      <td>-0.849753</td>\n",
       "      <td>-0.070013</td>\n",
       "      <td>-0.252720</td>\n",
       "      <td>-0.036356</td>\n",
       "      <td>-0.732561</td>\n",
       "      <td>-0.405641</td>\n",
       "      <td>-0.335213</td>\n",
       "      <td>0.845348</td>\n",
       "      <td>0.974502</td>\n",
       "      <td>0.749304</td>\n",
       "    </tr>\n",
       "  </tbody>\n",
       "</table>\n",
       "<p>5 rows × 55 columns</p>\n",
       "</div>"
      ],
      "text/plain": [
       "      AKT_DAT_KL      ALTER_HH  ALTERSKATEGORIE_FEIN  ANZ_PERSONEN  \\\n",
       "LNR                                                                  \n",
       "1754   -0.510992 -1.678211e+00             -1.089110      0.010968   \n",
       "1770   -0.510992  4.673684e-16             -2.425521     -0.757521   \n",
       "1465    2.406103  6.897336e-01              0.024566      1.547947   \n",
       "1470    1.676829  4.673684e-16             -2.425521     -1.526010   \n",
       "1478   -0.510992  2.005259e+00              0.470036      1.547947   \n",
       "\n",
       "      ANZ_STATISTISCHE_HAUSHALTE  CJT_TYP_1  CJT_TYP_2  CJT_TYP_3  CJT_TYP_4  \\\n",
       "LNR                                                                            \n",
       "1754                   -0.314847  -1.175601  -0.194750   0.779521   0.810752   \n",
       "1770                    1.066851  -0.367683  -0.194750   0.779521   0.810752   \n",
       "1465                   -0.314847  -0.367683  -0.194750   0.779521   0.810752   \n",
       "1470                   -0.387568  -0.367683  -1.010796   0.779521   0.810752   \n",
       "1478                   -0.387568   0.440235  -0.194750  -0.051687   0.019596   \n",
       "\n",
       "      CJT_TYP_5  ...  SEMIO_KULT  SEMIO_LUST  SEMIO_PFLICHT  SEMIO_TRADV  \\\n",
       "LNR              ...                                                       \n",
       "1754    0.77886  ...    1.293349    1.016963      -1.443806    -1.310081   \n",
       "1770   -0.04928  ...    0.221798   -0.070013      -0.252720    -1.310081   \n",
       "1465    0.77886  ...   -0.849753    1.016963       0.342823    -0.036356   \n",
       "1470    0.77886  ...   -0.849753    1.016963      -0.848263    -0.036356   \n",
       "1478   -0.04928  ...   -0.849753   -0.070013      -0.252720    -0.036356   \n",
       "\n",
       "      SEMIO_VERT  VK_DISTANZ   VK_ZG11  ZABEOTYP  ANREDE_KZ  \\\n",
       "LNR                                                           \n",
       "1754    1.311469    0.181822 -0.335213  0.089206  -1.026165   \n",
       "1770    0.800462   -0.993103 -1.052176  0.089206  -1.026165   \n",
       "1465   -0.732561    0.181822 -0.335213  0.089206   0.974502   \n",
       "1470   -1.243568    0.181822 -0.335213  0.089206   0.974502   \n",
       "1478   -0.732561   -0.405641 -0.335213  0.845348   0.974502   \n",
       "\n",
       "      ALTERSKATEGORIE_GROB  \n",
       "LNR                         \n",
       "1754              0.749304  \n",
       "1770              0.749304  \n",
       "1465              0.749304  \n",
       "1470              0.749304  \n",
       "1478              0.749304  \n",
       "\n",
       "[5 rows x 55 columns]"
      ]
     },
     "execution_count": 104,
     "metadata": {},
     "output_type": "execute_result"
    }
   ],
   "source": [
    "# Looking for Mailout-Test data\n",
    "df_test.head()"
   ]
  },
  {
   "cell_type": "code",
   "execution_count": 105,
   "metadata": {
    "colab": {},
    "colab_type": "code",
    "id": "iHAryF-5bUBo"
   },
   "outputs": [],
   "source": [
    "# Predicting of Response from Mailout-Test set\n",
    "df_test_response = eclf_fit.predict_proba(df_test.values)[:,1]\n",
    "#df_test_response = XGB_BP.predict_proba(df_test.values)[:,1]"
   ]
  },
  {
   "cell_type": "markdown",
   "metadata": {
    "colab_type": "text",
    "id": "SGs-UX0YbUBp"
   },
   "source": [
    "Created dataframe **`df_kaggle`** with two columns:\n",
    "* The first column is a duplicate of **`LNR`**, which acts as an ID number for each individual in the **Mailout-Test** partition\n",
    "* The second column, **`RESPONSE`**, is a measure of how likely each individual became a customer."
   ]
  },
  {
   "cell_type": "code",
   "execution_count": 106,
   "metadata": {
    "colab": {
     "base_uri": "https://localhost:8080/",
     "height": 402
    },
    "colab_type": "code",
    "id": "ZpNaWaErbUBq",
    "outputId": "62ec6c4b-5abd-4554-ade1-6f0ece484ff0"
   },
   "outputs": [],
   "source": [
    "df_kaggle = pd.DataFrame({'LNR': df_test.index, 'RESPONSE': df_test_response})"
   ]
  },
  {
   "cell_type": "code",
   "execution_count": 107,
   "metadata": {
    "colab": {},
    "colab_type": "code",
    "id": "2STyZFRhbUBr"
   },
   "outputs": [],
   "source": [
    "# Generate CSV file for the Kaggle competition\n",
    "df_kaggle.to_csv('../Last/data/kaggle_submission_file.csv', index=False)"
   ]
  },
  {
   "cell_type": "code",
   "execution_count": 108,
   "metadata": {
    "colab": {
     "base_uri": "https://localhost:8080/",
     "height": 402
    },
    "colab_type": "code",
    "id": "YSbEGDA3bUBs",
    "outputId": "f48c1cf2-6e95-4d9a-c3e1-a2eb2ebf914e"
   },
   "outputs": [
    {
     "data": {
      "text/html": [
       "<div>\n",
       "<style scoped>\n",
       "    .dataframe tbody tr th:only-of-type {\n",
       "        vertical-align: middle;\n",
       "    }\n",
       "\n",
       "    .dataframe tbody tr th {\n",
       "        vertical-align: top;\n",
       "    }\n",
       "\n",
       "    .dataframe thead th {\n",
       "        text-align: right;\n",
       "    }\n",
       "</style>\n",
       "<table border=\"1\" class=\"dataframe\">\n",
       "  <thead>\n",
       "    <tr style=\"text-align: right;\">\n",
       "      <th></th>\n",
       "      <th>LNR</th>\n",
       "      <th>RESPONSE</th>\n",
       "      <th>RESPONSE_2</th>\n",
       "    </tr>\n",
       "  </thead>\n",
       "  <tbody>\n",
       "    <tr>\n",
       "      <th>11786</th>\n",
       "      <td>30444</td>\n",
       "      <td>0.232406</td>\n",
       "      <td>0</td>\n",
       "    </tr>\n",
       "    <tr>\n",
       "      <th>29500</th>\n",
       "      <td>1666</td>\n",
       "      <td>0.058297</td>\n",
       "      <td>0</td>\n",
       "    </tr>\n",
       "    <tr>\n",
       "      <th>9166</th>\n",
       "      <td>67228</td>\n",
       "      <td>0.318163</td>\n",
       "      <td>0</td>\n",
       "    </tr>\n",
       "    <tr>\n",
       "      <th>8994</th>\n",
       "      <td>51228</td>\n",
       "      <td>0.213161</td>\n",
       "      <td>0</td>\n",
       "    </tr>\n",
       "    <tr>\n",
       "      <th>34208</th>\n",
       "      <td>566</td>\n",
       "      <td>0.296799</td>\n",
       "      <td>0</td>\n",
       "    </tr>\n",
       "    <tr>\n",
       "      <th>21501</th>\n",
       "      <td>54403</td>\n",
       "      <td>0.117465</td>\n",
       "      <td>0</td>\n",
       "    </tr>\n",
       "    <tr>\n",
       "      <th>16322</th>\n",
       "      <td>79054</td>\n",
       "      <td>0.123578</td>\n",
       "      <td>0</td>\n",
       "    </tr>\n",
       "    <tr>\n",
       "      <th>12130</th>\n",
       "      <td>69870</td>\n",
       "      <td>0.062049</td>\n",
       "      <td>0</td>\n",
       "    </tr>\n",
       "    <tr>\n",
       "      <th>28237</th>\n",
       "      <td>9197</td>\n",
       "      <td>0.087568</td>\n",
       "      <td>0</td>\n",
       "    </tr>\n",
       "    <tr>\n",
       "      <th>32574</th>\n",
       "      <td>28466</td>\n",
       "      <td>0.411638</td>\n",
       "      <td>0</td>\n",
       "    </tr>\n",
       "  </tbody>\n",
       "</table>\n",
       "</div>"
      ],
      "text/plain": [
       "         LNR  RESPONSE  RESPONSE_2\n",
       "11786  30444  0.232406           0\n",
       "29500   1666  0.058297           0\n",
       "9166   67228  0.318163           0\n",
       "8994   51228  0.213161           0\n",
       "34208    566  0.296799           0\n",
       "21501  54403  0.117465           0\n",
       "16322  79054  0.123578           0\n",
       "12130  69870  0.062049           0\n",
       "28237   9197  0.087568           0\n",
       "32574  28466  0.411638           0"
      ]
     },
     "execution_count": 108,
     "metadata": {},
     "output_type": "execute_result"
    }
   ],
   "source": [
    "# Label  Encoding for RESPONSE column\n",
    "df_kaggle['RESPONSE_2'] = df_kaggle['RESPONSE'].apply(lambda x : 1 if x>=0.5 else 0)\n",
    "\n",
    "df_kaggle.sample(10)"
   ]
  },
  {
   "cell_type": "markdown",
   "metadata": {},
   "source": [
    "#### Plotting Result of Mailout-Test for all models"
   ]
  },
  {
   "cell_type": "code",
   "execution_count": 109,
   "metadata": {},
   "outputs": [],
   "source": [
    "#Calculating of Mailout-Test Result for all models\n",
    "models_BP.append(eclf_fit)\n",
    "df_plot= pd.DataFrame()\n",
    "for model in models_BP:\n",
    "    df_test_response = model.predict_proba(df_test.values)[:,1]\n",
    "    plot = pd.DataFrame({'LNR': df_test.index, type(model).__name__: df_test_response})\n",
    "    plot[type(model).__name__] = plot[type(model).__name__].apply(lambda x : 1 if x>=0.5 else 0)\n",
    "    a = {type(model).__name__:[plot[type(model).__name__].value_counts()[0],\n",
    "                               plot[type(model).__name__].value_counts()[1]]}\n",
    "    df_plot=pd.concat([df_plot,pd.DataFrame(a)], axis=1)\n"
   ]
  },
  {
   "cell_type": "code",
   "execution_count": 110,
   "metadata": {},
   "outputs": [
    {
     "data": {
      "text/html": [
       "<div>\n",
       "<style scoped>\n",
       "    .dataframe tbody tr th:only-of-type {\n",
       "        vertical-align: middle;\n",
       "    }\n",
       "\n",
       "    .dataframe tbody tr th {\n",
       "        vertical-align: top;\n",
       "    }\n",
       "\n",
       "    .dataframe thead th {\n",
       "        text-align: right;\n",
       "    }\n",
       "</style>\n",
       "<table border=\"1\" class=\"dataframe\">\n",
       "  <thead>\n",
       "    <tr style=\"text-align: right;\">\n",
       "      <th></th>\n",
       "      <th>XGBClassifier</th>\n",
       "      <th>RandomForestClassifier</th>\n",
       "      <th>CatBoostClassifier</th>\n",
       "      <th>LGBMClassifier</th>\n",
       "      <th>LogisticRegression</th>\n",
       "      <th>VotingClassifier</th>\n",
       "    </tr>\n",
       "  </thead>\n",
       "  <tbody>\n",
       "    <tr>\n",
       "      <th>0</th>\n",
       "      <td>32987</td>\n",
       "      <td>33579</td>\n",
       "      <td>33762</td>\n",
       "      <td>33132</td>\n",
       "      <td>33851</td>\n",
       "      <td>33542</td>\n",
       "    </tr>\n",
       "    <tr>\n",
       "      <th>1</th>\n",
       "      <td>4213</td>\n",
       "      <td>3621</td>\n",
       "      <td>3438</td>\n",
       "      <td>4068</td>\n",
       "      <td>3349</td>\n",
       "      <td>3658</td>\n",
       "    </tr>\n",
       "  </tbody>\n",
       "</table>\n",
       "</div>"
      ],
      "text/plain": [
       "   XGBClassifier  RandomForestClassifier  CatBoostClassifier  LGBMClassifier  \\\n",
       "0          32987                   33579               33762           33132   \n",
       "1           4213                    3621                3438            4068   \n",
       "\n",
       "   LogisticRegression  VotingClassifier  \n",
       "0               33851             33542  \n",
       "1                3349              3658  "
      ]
     },
     "metadata": {},
     "output_type": "display_data"
    },
    {
     "data": {
      "image/png": "[encoded data removed]",
      "text/plain": [
       "<Figure size 1152x432 with 1 Axes>"
      ]
     },
     "metadata": {},
     "output_type": "display_data"
    }
   ],
   "source": [
    "# Plot of Mailout-Test Result for all models\n",
    "\n",
    "display(df_plot)\n",
    "\n",
    "plt.figure(figsize=(16,6))\n",
    "# y-axis in bold\n",
    "rc('font', weight='bold')\n",
    " \n",
    "# Values of each group\n",
    "bars0 = [df_plot['XGBClassifier'][0],\n",
    "         df_plot['RandomForestClassifier'][0],\n",
    "         df_plot['LGBMClassifier'][0],\n",
    "         df_plot['CatBoostClassifier'][0],\n",
    "         df_plot['LogisticRegression'][0],\n",
    "         df_plot['VotingClassifier'][0]]\n",
    "            \n",
    "bars1 = [df_plot['XGBClassifier'][1],\n",
    "         df_plot['RandomForestClassifier'][1],\n",
    "         df_plot['LGBMClassifier'][1],\n",
    "         df_plot['CatBoostClassifier'][1],\n",
    "         df_plot['LogisticRegression'][1],\n",
    "         df_plot['VotingClassifier'][1]]\n",
    " \n",
    "# Heights of bars1 + bars2\n",
    "bars = np.add(bars1, bars0).tolist()\n",
    " \n",
    "# The position of the bars on the x-axis\n",
    "r = [0,1,2,3,4,5]\n",
    " \n",
    "# Names of group and bar width\n",
    "names = df_plot.columns\n",
    "barWidth = 0.6\n",
    " \n",
    "# Create bars (0)\n",
    "plt.bar(r, bars1, color='#95EC00', edgecolor='white', width=barWidth, alpha=0.8)\n",
    "# Create bars (1)\n",
    "plt.bar(r, bars0, bottom=bars1, color='#FF5842', edgecolor='white', width=barWidth, alpha=0.5)\n",
    "\n",
    " \n",
    "# Custom X axis \n",
    "plt.xticks(r, names, fontweight='bold')\n",
    "plt.xlabel(\"M o d e l s\", size=14)\n",
    "plt.title(\"Distribution of Mailout-Test Resulswfor all models\", size=16)\n",
    "plt.legend([3531,33669]);"
   ]
  },
  {
   "cell_type": "code",
   "execution_count": 111,
   "metadata": {},
   "outputs": [
    {
     "data": {
      "text/html": [
       "<div>\n",
       "<style scoped>\n",
       "    .dataframe tbody tr th:only-of-type {\n",
       "        vertical-align: middle;\n",
       "    }\n",
       "\n",
       "    .dataframe tbody tr th {\n",
       "        vertical-align: top;\n",
       "    }\n",
       "\n",
       "    .dataframe thead th {\n",
       "        text-align: right;\n",
       "    }\n",
       "</style>\n",
       "<table border=\"1\" class=\"dataframe\">\n",
       "  <thead>\n",
       "    <tr style=\"text-align: right;\">\n",
       "      <th></th>\n",
       "      <th>Base Model</th>\n",
       "      <th>Improved Model</th>\n",
       "      <th>Improved Model_Control</th>\n",
       "    </tr>\n",
       "    <tr>\n",
       "      <th>Name of ROC-AUC Score</th>\n",
       "      <th></th>\n",
       "      <th></th>\n",
       "      <th></th>\n",
       "    </tr>\n",
       "  </thead>\n",
       "  <tbody>\n",
       "    <tr>\n",
       "      <th>VotingClassifier</th>\n",
       "      <td>NaN</td>\n",
       "      <td>0.871796</td>\n",
       "      <td>0.711448</td>\n",
       "    </tr>\n",
       "    <tr>\n",
       "      <th>LGBMClassifier</th>\n",
       "      <td>0.80574</td>\n",
       "      <td>0.815448</td>\n",
       "      <td>0.705524</td>\n",
       "    </tr>\n",
       "  </tbody>\n",
       "</table>\n",
       "</div>"
      ],
      "text/plain": [
       "                       Base Model  Improved Model  Improved Model_Control\n",
       "Name of ROC-AUC Score                                                    \n",
       "VotingClassifier              NaN        0.871796                0.711448\n",
       "LGBMClassifier            0.80574        0.815448                0.705524"
      ]
     },
     "execution_count": 111,
     "metadata": {},
     "output_type": "execute_result"
    }
   ],
   "source": [
    "compare_roc.sort_values(by='Improved Model', ascending=False).head(2)"
   ]
  }
 ],
 "metadata": {
  "colab": {
   "collapsed_sections": [
    "fTN8LsjwbT8_",
    "MobmsvT5bT9A",
    "tcFGMqmYbT9A",
    "SFwEsperbUAI",
    "H6eEKIO8bUAR",
    "GVEvJ0rlbUAc",
    "mOK4-MHDbUAo",
    "Wtbkz3rwbUA6"
   ],
   "name": "003_SupervisedLearning-Last.ipynb",
   "provenance": [],
   "toc_visible": true
  },
  "kernelspec": {
   "display_name": "Python 3",
   "language": "python",
   "name": "python3"
  },
  "language_info": {
   "codemirror_mode": {
    "name": "ipython",
    "version": 3
   },
   "file_extension": ".py",
   "mimetype": "text/x-python",
   "name": "python",
   "nbconvert_exporter": "python",
   "pygments_lexer": "ipython3",
   "version": "3.7.6"
  }
 },
 "nbformat": 4,
 "nbformat_minor": 1
}
